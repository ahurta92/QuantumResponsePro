{
 "cells": [
  {
   "cell_type": "code",
   "execution_count": 1,
   "id": "9617add9",
   "metadata": {
    "ExecuteTime": {
     "end_time": "2023-10-20T22:49:49.451274212Z",
     "start_time": "2023-10-20T22:49:49.245903764Z"
    }
   },
   "source": [
    "import matplotlib.pyplot as plt\n",
    "import numpy as np\n",
    "\n",
    "r2 = 2.0e-4  # bsh target at p2\n",
    "r3 = 1.0e-5  # bsh target at p3\n",
    "\n",
    "p3 = 1e-8  # p3\n",
    "p2 = 1e-6\n",
    "m = (r3 - r2) / (p3 - p2)\n",
    "\n",
    "b = r3 - m * p3\n",
    "round(b, 5)\n",
    "x = np.array([1e-4, 1e-6, 1e-8])\n",
    "y = m * x + b\n",
    "plt.plot(x, y)"
   ],
   "outputs": []
  },
  {
   "cell_type": "code",
   "execution_count": 2,
   "id": "764f4f08",
   "metadata": {
    "ExecuteTime": {
     "end_time": "2023-10-20T22:49:49.459547834Z",
     "start_time": "2023-10-20T22:49:49.452691276Z"
    }
   },
   "source": [
    "import seaborn as sns\n",
    "\n",
    "sns.set_context(\"notebook\", font_scale=1.25)\n"
   ],
   "outputs": []
  },
  {
   "cell_type": "code",
   "execution_count": 3,
   "id": "2a7b17a7",
   "metadata": {
    "ExecuteTime": {
     "end_time": "2023-10-20T22:49:49.546711663Z",
     "start_time": "2023-10-20T22:49:49.454707575Z"
    }
   },
   "source": [
    "from sklearn.linear_model import LinearRegression\n",
    "\n",
    "model = LinearRegression()"
   ],
   "outputs": []
  },
  {
   "cell_type": "code",
   "execution_count": 4,
   "id": "aa8a2ab3",
   "metadata": {
    "ExecuteTime": {
     "end_time": "2023-10-20T23:43:19.436688407Z",
     "start_time": "2023-10-20T23:43:18.687098623Z"
    },
    "scrolled": false
   },
   "source": [
    "# new proposed settings \n",
    "\n",
    "xx = np.array([1e-4, 1e-6, 1e-7, 1e-8])\n",
    "yy = np.array([1.0e-3, 3.1e-5, 6e-6, 1e-6])\n",
    "\n",
    "plt.plot(xx, yy, 'o-')\n",
    "p = np.polyfit(np.log10(xx), np.log10(yy), 1)\n",
    "digit = 3\n",
    "a = np.round(p[0], digit)\n",
    "b = np.round(p[1], digit)\n",
    "print(a, b, 'new')\n",
    "y_xx = (xx ** a) * 10 ** b\n",
    "print(y_xx)\n",
    "#c=p[2]\n",
    "x_fitted = np.linspace(np.min(xx), np.max(xx), 100)\n",
    "#y_fitted = p[3]+p[2]*x_fitted+p[1]*x_fitted**2+p[0]*x_fitted**3\n",
    "y_fitted = (x_fitted ** a) * (10 ** b)\n",
    "plt.loglog(x_fitted, y_fitted, '*-')\n",
    "a = .50208\n",
    "b = -.99162\n",
    "print(a, b, 'old')\n",
    "y_fitted = (x_fitted ** a) * (10 ** b)\n",
    "y_fitted = (x_fitted ** a) * (10 ** b)\n",
    "plt.loglog(x_fitted, y_fitted, '*-')\n",
    "\n",
    "a = .573\n",
    "b = -.709\n",
    "print(a, b, 'old')\n",
    "y_fitted = (x_fitted ** a) * (10 ** b)\n",
    "y_fitted = (x_fitted ** a) * (10 ** b)\n",
    "plt.loglog(x_fitted, y_fitted, '*-')\n",
    "\n",
    "a = .747\n",
    "b = -.012\n",
    "print(a, b, 'old')\n",
    "y_fitted = (x_fitted ** a) * (10 ** b)\n",
    "y_fitted = (x_fitted ** a) * (10 ** b)\n",
    "plt.loglog(x_fitted, y_fitted, '*-')\n",
    "\n",
    "#y_xx= a+b*xx+c*xx**2\n",
    "plt.xlabel('Truncation Thresh')\n",
    "plt.ylabel('X Convergence Thresh')\n"
   ],
   "outputs": []
  },
  {
   "cell_type": "code",
   "execution_count": null,
   "id": "6989fbc2",
   "metadata": {
    "ExecuteTime": {
     "end_time": "2023-10-20T22:49:50.204227189Z",
     "start_time": "2023-10-20T22:49:50.172611358Z"
    }
   },
   "source": [],
   "outputs": []
  },
  {
   "cell_type": "code",
   "execution_count": 5,
   "id": "da38c8e8",
   "metadata": {
    "ExecuteTime": {
     "end_time": "2023-10-20T22:49:50.218924638Z",
     "start_time": "2023-10-20T22:49:50.175462738Z"
    }
   },
   "source": [
    "from quantumresponsepro import MadnessReader\n",
    "from quantumresponsepro import MadnessResponse\n",
    "from pathlib import Path"
   ],
   "outputs": []
  },
  {
   "cell_type": "code",
   "execution_count": 6,
   "id": "957386c8",
   "metadata": {
    "ExecuteTime": {
     "end_time": "2023-10-23T13:46:13.173498788Z",
     "start_time": "2023-10-23T13:46:13.170057913Z"
    }
   },
   "source": [
    "path = Path('/mnt/data/madness_data/october23_tighter/high-high/')\n",
    "path1 = Path('/mnt/data/madness_data/october23_compare/high-high/')"
   ],
   "outputs": []
  },
  {
   "cell_type": "code",
   "execution_count": 7,
   "id": "9c42afab",
   "metadata": {
    "ExecuteTime": {
     "end_time": "2023-10-23T13:46:13.539796916Z",
     "start_time": "2023-10-23T13:46:13.532226765Z"
    }
   },
   "source": [
    "mreader = MadnessReader(path)"
   ],
   "outputs": []
  },
  {
   "cell_type": "code",
   "execution_count": 8,
   "id": "64197e66",
   "metadata": {
    "ExecuteTime": {
     "end_time": "2023-10-24T13:23:27.629649649Z",
     "start_time": "2023-10-24T13:23:25.868793187Z"
    }
   },
   "source": [
    "mol = 'NaCl'\n",
    "xc = 'hf'\n",
    "\n",
    "m = MadnessResponse(mol, xc, 'dipole', path)\n",
    "m.plot_residuals()\n",
    "m = MadnessResponse('Mg', xc, 'dipole', path)\n",
    "m.plot_residuals()\n"
   ],
   "outputs": []
  },
  {
   "cell_type": "code",
   "execution_count": 9,
   "id": "58862799",
   "metadata": {
    "ExecuteTime": {
     "end_time": "2023-10-24T12:57:50.709909428Z",
     "start_time": "2023-10-24T12:57:50.177674848Z"
    }
   },
   "source": [
    "\n",
    "m = MadnessResponse(mol, xc, 'dipole', path1)\n",
    "m.plot_residuals()"
   ],
   "outputs": []
  },
  {
   "cell_type": "code",
   "execution_count": null,
   "id": "56077bd4",
   "metadata": {
    "ExecuteTime": {
     "end_time": "2023-10-21T20:39:02.055561060Z",
     "start_time": "2023-10-21T20:39:02.048573583Z"
    }
   },
   "source": [],
   "outputs": []
  },
  {
   "cell_type": "code",
   "execution_count": 10,
   "id": "d8bd2d55",
   "metadata": {
    "ExecuteTime": {
     "end_time": "2023-10-23T13:42:23.305519361Z",
     "start_time": "2023-10-23T13:42:23.253440945Z"
    }
   },
   "source": [
    "import pandas as pd\n",
    "\n",
    "\n",
    "def get_mad_series(data_dir, molecules):\n",
    "    mad_zz_data = {}\n",
    "\n",
    "    for mol in molecules:\n",
    "        try:\n",
    "            print(mol)\n",
    "            mad_mol = MadnessResponse(mol, 'hf', 'dipole', data_dir)\n",
    "            mad_zz_data[mol] = mad_mol.polar_data.iloc[0]['zz']\n",
    "        except KeyError as e:\n",
    "            print(e)\n",
    "            mad_zz_data[mol] = None\n",
    "        except FileNotFoundError as e:\n",
    "            print(e)\n",
    "            mad_zz_data[mol] = None\n",
    "\n",
    "    return pd.Series(mad_zz_data, name=data_dir.name)\n",
    "\n",
    "\n",
    "fd_base = Path(\"/mnt/data/madness_data/fd_compare\")\n",
    "\n",
    "\n",
    "def get_fd_data(fd_base):\n",
    "    fd_low_path = fd_base.joinpath(\"low-low\")\n",
    "    fd_high_path = fd_base.joinpath(\"high-high\")\n",
    "\n",
    "    fd_data_path = Path(\"/home/adrianhurtado/projects/writing/mra-tdhf-polarizability/FD_data.csv\")\n",
    "\n",
    "    # read Finite Difference data from csv\n",
    "\n",
    "    with open(fd_data_path, 'r') as f:\n",
    "        fd_data = pd.read_csv(f)\n",
    "\n",
    "    print(fd_data)\n",
    "\n",
    "    molecules = fd_data['Molecule']\n",
    "    print(molecules)\n",
    "\n",
    "    lowlow = get_mad_series(fd_low_path, molecules)\n",
    "    highhigh = get_mad_series(fd_high_path, molecules)\n",
    "\n",
    "    mad_data = pd.concat([lowlow, highhigh], axis=1)\n",
    "    # rename index to Molecules and reset_index\n",
    "    mad_data.index.name = 'Molecule'\n",
    "    mad_data.reset_index(inplace=True)\n",
    "    mad_data = pd.concat([mad_data, fd_data.set_index('Molecule').reset_index(drop=True)], axis=1)\n",
    "\n",
    "    # compute the percent error of madness data compared to finite difference data\n",
    "    # FD data is in column FD\n",
    "    # madness data is in other columns\n",
    "    mad_data['Percent Error (low-low)'] = (mad_data['low-low'] - mad_data['FD']) / mad_data[\n",
    "        'FD'] * 100\n",
    "    mad_data['Percent Error (high-high)'] = (mad_data['high-high'] - mad_data['FD']) / mad_data[\n",
    "        'FD'] * \\\n",
    "                                            100\n",
    "\n",
    "    # reformat the molecules to have \\ce{} around them\n",
    "    mad_data_out = mad_data.copy()\n",
    "    mad_data['Molecule'] = mad_data['Molecule'].apply(lambda x: \"\\\\ce{\" + x + \"}\")\n",
    "\n",
    "    print(mad_data)\n",
    "    # create a copy with just the percent error columns and FD column\n",
    "    mad_data_percent_error = mad_data[\n",
    "        ['Molecule', 'FD', 'Percent Error (low-low)',\n",
    "         'Percent Error (high-high)', ]].copy()\n",
    "    # rename the columns to be just low-low, high-low, high-high\n",
    "    mad_data_percent_error.rename(columns={'Percent Error (low-low)': 'low-low',\n",
    "                                           'Percent Error (high-high)': 'high-high'}, inplace=True)\n",
    "    # set the index to be the molecule\n",
    "    mad_data_percent_error.set_index('Molecule', inplace=True, drop=True)\n",
    "    return mad_data_percent_error, mad_data_out\n",
    "\n"
   ],
   "outputs": []
  },
  {
   "cell_type": "code",
   "execution_count": 11,
   "id": "017628a2",
   "metadata": {
    "ExecuteTime": {
     "end_time": "2023-10-23T13:42:23.982112173Z",
     "start_time": "2023-10-23T13:42:23.595662756Z"
    }
   },
   "source": [
    "# set the display of percent error to scientific notation\n",
    "pd.options.display.float_format = '{:.2e}'.format\n",
    "mad_data_percent_error, mad_data = get_fd_data(fd_base)\n",
    "# from the mad_percent error data.  \n",
    "# Get the mean and std deviation of the low-low column\n",
    "# and the high-high column and append it a row to the mad_data_percent_error dataframe \n",
    "\n",
    "# change the names of low-low and high-high columns to be just low and high\n",
    "mad_data_percent_error.rename(columns={'low-low': 'Low', 'high-high': 'High'}, inplace=True)\n",
    "\n",
    "\n",
    "\n",
    "\n",
    "\n",
    "\n"
   ],
   "outputs": []
  },
  {
   "cell_type": "code",
   "execution_count": 12,
   "id": "62c735f1",
   "metadata": {
    "ExecuteTime": {
     "end_time": "2023-10-23T13:42:24.036920761Z",
     "start_time": "2023-10-23T13:42:24.033747035Z"
    }
   },
   "source": [
    "mad_data_percent_error\n"
   ],
   "outputs": []
  },
  {
   "cell_type": "code",
   "execution_count": 13,
   "id": "2c6b9d83ab9a514c",
   "metadata": {
    "ExecuteTime": {
     "end_time": "2023-10-23T18:12:36.126858549Z",
     "start_time": "2023-10-23T18:12:35.577970936Z"
    }
   },
   "source": [
    "\n",
    "\n",
    "# write to latex table\n",
    "fd_base = Path('/mnt/data/madness_data/fd_compare')\n",
    "\n",
    "mad_data_percent_error, mad_data = get_fd_data(fd_base)\n",
    "# set molecule to be the index\n",
    "mad_data_percent_error.loc['Mean'] = mad_data_percent_error.abs().mean()\n",
    "mad_data_percent_error.loc['Std Dev'] = mad_data_percent_error.abs().std()\n",
    "#mad_data_percent_error.set_index('Molecule', inplace=True, drop=True)\n",
    "# change the names of low-low and high-high columns to be just low and high\n",
    "mad_data_percent_error.rename(columns={'low-low': 'Low', 'high-high': 'High'}, inplace=True)\n",
    "# set FD mean and std to NaN\n",
    "mad_data_percent_error.loc['Mean', 'FD'] = np.nan\n",
    "mad_data_percent_error.loc['Std Dev', 'FD'] = np.nan\n",
    "mad_data_styled = mad_data_percent_error.style.format({'Low': '{:.2e}',\n",
    "                                                       'High': '{:.2e}', })\n",
    "\n",
    "mad_data_styled.to_latex(\n",
    "    Path(\"/home/adrianhurtado/projects/writing/mra-tdhf-polarizability/FD_data.tex\"),\n",
    "    siunitx=True)\n",
    "\n"
   ],
   "outputs": []
  },
  {
   "cell_type": "code",
   "execution_count": 14,
   "id": "e2ce38109c4ba2ce",
   "metadata": {
    "ExecuteTime": {
     "end_time": "2023-10-24T13:04:28.721423707Z",
     "start_time": "2023-10-24T13:04:25.272253759Z"
    }
   },
   "source": [
    "\n",
    "# write to latex table\n",
    "fd_base = Path('/mnt/data/madness_data/fd_compare2')\n",
    "\n",
    "mad_data_percent_error, mad_data = get_fd_data(fd_base)\n",
    "# set molecule to be the index\n",
    "mad_data_percent_error.loc['Mean'] = mad_data_percent_error.abs().mean()\n",
    "mad_data_percent_error.loc['Std Dev'] = mad_data_percent_error.abs().std()\n",
    "#mad_data_percent_error.set_index('Molecule', inplace=True, drop=True)\n",
    "# change the names of low-low and high-high columns to be just low and high\n",
    "mad_data_percent_error.rename(columns={'low-low': 'Low', 'high-high': 'High'}, inplace=True)\n",
    "# set FD mean and std to NaN\n",
    "mad_data_percent_error.loc['Mean', 'FD'] = np.nan\n",
    "mad_data_percent_error.loc['Std Dev', 'FD'] = np.nan\n",
    "mad_data_styled = mad_data_percent_error.style.format({'Low': '{:.2e}',\n",
    "                                                       'High': '{:.2e}', })\n",
    "\n",
    "mad_data_styled.to_latex(\n",
    "    Path(\"/home/adrianhurtado/projects/writing/mra-tdhf-polarizability/FD_data2.tex\"),\n",
    "    siunitx=True)\n",
    "\n"
   ],
   "outputs": []
  },
  {
   "cell_type": "code",
   "execution_count": 15,
   "id": "b4b9042e262f3636",
   "metadata": {
    "ExecuteTime": {
     "end_time": "2023-10-24T13:04:46.998370811Z",
     "start_time": "2023-10-24T13:04:46.450197961Z"
    }
   },
   "source": [
    "\n",
    "# write to latex table\n",
    "fd_base = Path('/mnt/data/madness_data/october23_compare')\n",
    "\n",
    "mad_data_percent_error, mad_data = get_fd_data(fd_base)\n",
    "# set molecule to be the index\n",
    "mad_data_percent_error.loc['Mean'] = mad_data_percent_error.abs().mean()\n",
    "mad_data_percent_error.loc['Std Dev'] = mad_data_percent_error.abs().std()\n",
    "#mad_data_percent_error.set_index('Molecule', inplace=True, drop=True)\n",
    "# change the names of low-low and high-high columns to be just low and high\n",
    "mad_data_percent_error.rename(columns={'low-low': 'Low', 'high-high': 'High'}, inplace=True)\n",
    "# set FD mean and std to NaN\n",
    "mad_data_percent_error.loc['Mean', 'FD'] = np.nan\n",
    "mad_data_percent_error.loc['Std Dev', 'FD'] = np.nan\n",
    "mad_data_styled = mad_data_percent_error.style.format({'Low': '{:.2e}',\n",
    "                                                       'High': '{:.2e}', })\n",
    "\n",
    "mad_data_styled.to_latex(\n",
    "    Path(\"/home/adrianhurtado/projects/writing/mra-tdhf-polarizability/FD_dataOctober.tex\"),\n",
    "    siunitx=True)\n",
    "\n",
    "\n"
   ],
   "outputs": []
  },
  {
   "cell_type": "code",
   "execution_count": 16,
   "id": "81623387807c51e1",
   "metadata": {
    "ExecuteTime": {
     "end_time": "2023-10-24T13:04:48.709918391Z",
     "start_time": "2023-10-24T13:04:48.172535404Z"
    }
   },
   "source": [
    "\n",
    "# write to latex table\n",
    "fd_base = Path('/mnt/data/madness_data/october23_tight')\n",
    "\n",
    "mad_data_percent_error, mad_data = get_fd_data(fd_base)\n",
    "# set molecule to be the index\n",
    "mad_data_percent_error.loc['Mean'] = mad_data_percent_error.mean()\n",
    "mad_data_percent_error.loc['Std Dev'] = mad_data_percent_error.std()\n",
    "#mad_data_percent_error.set_index('Molecule', inplace=True, drop=True)\n",
    "# change the names of low-low and high-high columns to be just low and high\n",
    "mad_data_percent_error.rename(columns={'low-low': 'Low', 'high-high': 'High'}, inplace=True)\n",
    "# set FD mean and std to NaN\n",
    "mad_data_percent_error.loc['Mean', 'FD'] = np.nan\n",
    "mad_data_percent_error.loc['Std Dev', 'FD'] = np.nan\n",
    "mad_data_styled = mad_data_percent_error.style.format({'Low': '{:.2e}',\n",
    "                                                       'High': '{:.2e}', })\n",
    "\n",
    "mad_data_styled.to_latex(\n",
    "    Path(\"/home/adrianhurtado/projects/writing/mra-tdhf-polarizability/FD_dataOctober_tight.tex\"),\n",
    "    siunitx=True)\n",
    "\n",
    "\n"
   ],
   "outputs": []
  },
  {
   "cell_type": "code",
   "execution_count": 17,
   "id": "13e9b59d91d1defe",
   "metadata": {
    "ExecuteTime": {
     "end_time": "2023-10-24T13:04:49.120974311Z",
     "start_time": "2023-10-24T13:04:48.660495775Z"
    }
   },
   "source": [
    "# write to latex table\n",
    "fd_base = Path('/mnt/data/madness_data/october23_tighter')\n",
    "\n",
    "mad_data_percent_error, mad_data = get_fd_data(fd_base)\n",
    "# set molecule to be the index\n",
    "mad_data_percent_error.loc['Mean'] = mad_data_percent_error.abs().mean()\n",
    "mad_data_percent_error.loc['Std Dev'] = mad_data_percent_error.std()\n",
    "#mad_data_percent_error.set_index('Molecule', inplace=True, drop=True)\n",
    "# change the names of low-low and high-high columns to be just low and high\n",
    "mad_data_percent_error.rename(columns={'low-low': 'Low', 'high-high': 'High'}, inplace=True)\n",
    "# set FD mean and std to NaN\n",
    "mad_data_percent_error.loc['Mean', 'FD'] = np.nan\n",
    "mad_data_percent_error.loc['Std Dev', 'FD'] = np.nan\n",
    "mad_data_styled = mad_data_percent_error.style.format({'Low': '{:.2e}',\n",
    "                                                       'High': '{:.2e}', })\n",
    "\n",
    "mad_data_styled.to_latex(\n",
    "    Path(\"/home/adrianhurtado/projects/writing/mra-tdhf-polarizability/FD_dataOctober_tight.tex\"),\n",
    "    siunitx=True)"
   ],
   "outputs": []
  },
  {
   "cell_type": "code",
   "execution_count": 42,
   "id": "56cfdd5078a87b21",
   "metadata": {
    "ExecuteTime": {
     "end_time": "2023-10-24T21:20:54.341373514Z",
     "start_time": "2023-10-24T21:20:54.276422155Z"
    }
   },
   "source": [
    "\n",
    "\n",
    "\n",
    "fd_data_path = Path(\"/home/adrianhurtado/projects/writing/mra-tdhf-polarizability/FD_data.csv\")\n",
    "\n",
    "# read Finite Difference data from csv\n",
    "\n",
    "with open(fd_data_path, 'r') as f:\n",
    "    fd_data = pd.read_csv(f)\n",
    "\n",
    "\n",
    "# make the above procedure into a function\n",
    "def get_z_residuals(mol, path):\n",
    "    m = MadnessResponse(mol, xc, 'dipole', path)\n",
    "    freq_key = m.frequencies[0]\n",
    "    rd = m.data['convergence'][freq_key]['density_residuals'].rename(\n",
    "        columns={'x': 'dx', 'y': 'dy', 'z': 'dz'})\n",
    "    rx = m.data['convergence'][freq_key]['x_relative_residuals'].loc[:, ['x', 'y', 'z']].rename(\n",
    "        columns={'x': 'rx', 'y': 'ry', 'z': 'rz'})\n",
    "    x = (m.data['convergence'][freq_key]['x'].loc[:, ['xx', 'yy', 'zz']].rename(columns={'xx':\n",
    "                                                                                             'xnorm',\n",
    "                                                                                         'yy': 'ynorm',\n",
    "                                                                                         'zz':\n",
    "                                                                                             'znorm'}))\n",
    "    x = np.sqrt(x)\n",
    "    alpha = m.data['convergence'][freq_key]['alpha'].loc[:, ['zz']]\n",
    "    iters = m.num_iter_proto[m.frequencies[0]]\n",
    "    iters = [i - 1 for i in iters]\n",
    "\n",
    "    residuals = pd.concat(\n",
    "        [rx.iloc[iters, 2], rd.iloc[iters, 2], x.iloc[iters, 2], alpha.iloc[iters]],\n",
    "        axis=1)\n",
    "    # reindex as low, medium, high\n",
    "    # if index is size 2 then its just low and medium\n",
    "    if len(residuals.index) == 2:\n",
    "        residuals.index = ['Low', 'Medium']\n",
    "    else:\n",
    "        residuals.index = ['Low', 'Medium', 'High']\n",
    "    # rename columns as max bsh and max density\n",
    "    residuals.rename(columns={0: 'z bsh', 1: 'z density', 'zz': 'MRA'}, inplace=True)\n",
    "    # add a column for the FD value of the molecule\n",
    "    residuals['FD'] = fd_data.loc[fd_data['Molecule'] == mol, 'FD'].values[0]\n",
    "    # get the percent error\n",
    "    residuals['Percent Error'] = (residuals['MRA'] - residuals['FD']) / residuals['FD'] * 100\n",
    "    residuals['Absolute Percent Error'] = residuals['Percent Error'].abs()\n",
    "    residuals['Absolute Residual Z'] = residuals['rz'] * residuals['znorm']\n",
    "    # add a column for molecule\n",
    "    residuals['Molecule'] = mol\n",
    "    return residuals\n",
    "\n"
   ],
   "outputs": []
  },
  {
   "cell_type": "code",
   "execution_count": 35,
   "id": "dbcd0c1fe616769e",
   "metadata": {
    "ExecuteTime": {
     "end_time": "2023-10-24T21:18:10.870182323Z",
     "start_time": "2023-10-24T21:18:10.844722948Z"
    }
   },
   "source": [
    "\n"
   ],
   "outputs": []
  },
  {
   "cell_type": "code",
   "execution_count": 36,
   "id": "96478d7e6e5caf80",
   "metadata": {
    "ExecuteTime": {
     "end_time": "2023-10-24T21:18:13.940407002Z",
     "start_time": "2023-10-24T21:18:13.900776060Z"
    }
   },
   "source": [
    "\n",
    "mols = ['Be', 'Ne', 'He', 'LiCl', 'NaCl', 'N2', 'F2', 'Ar', 'CO']\n",
    "\n"
   ],
   "outputs": []
  },
  {
   "cell_type": "code",
   "execution_count": 46,
   "id": "80ad720e",
   "metadata": {
    "ExecuteTime": {
     "end_time": "2023-10-24T21:34:35.568394953Z",
     "start_time": "2023-10-24T21:34:35.370147066Z"
    }
   },
   "source": [
    "\n",
    "\n",
    "# make the above procedure into a function\n",
    "def get_max_residuals(mol, path):\n",
    "    m = MadnessResponse(mol, xc, 'dipole', path)\n",
    "    freq_key = m.frequencies[0]\n",
    "    rd = m.data['convergence'][freq_key]['density_residuals'].rename(\n",
    "        columns={'x': 'dx', 'y': 'dy', 'z': 'dz'})\n",
    "    rx = m.data['convergence'][freq_key]['x_relative_residuals'].loc[:, ['x', 'y', 'z']].rename(\n",
    "        columns={'x': 'rx', 'y': 'ry', 'z': 'rz'})\n",
    "    iters = m.num_iter_proto[m.frequencies[0]]\n",
    "\n",
    "    x = (m.data['convergence'][freq_key]['x'].loc[:, ['xx', 'yy', 'zz']].rename(columns={'xx':\n",
    "                                                                                             'xnorm',\n",
    "                                                                                         'yy': 'ynorm',\n",
    "                                                                                         'zz':\n",
    "                                                                                             'znorm'}))\n",
    "    \n",
    "    x = np.sqrt(x)\n",
    "    iters = [i - 1 for i in iters]\n",
    "    residuals = pd.concat([rx.iloc[iters], rd.iloc[iters], x.iloc[iters]], axis=1)\n",
    "    # reindex as low, medium, high\n",
    "    if len(residuals.index) == 2:\n",
    "        residuals.index = ['Low', 'Medium']\n",
    "    else:\n",
    "        residuals.index = ['Low', 'Medium', 'High']\n",
    "        \n",
    "    \n",
    "    # multiply by the norm of x to get the absolute residual\n",
    "    residuals['Absolute Residual X'] = residuals['rx'] * residuals['xnorm']\n",
    "    \n",
    "    residuals['Absolute Residual Y'] = residuals['ry'] * residuals['ynorm']\n",
    "    residuals['Absolute Residual Z'] = residuals['rz'] * residuals['znorm']\n",
    "    # add a column for molecule\n",
    "    residuals['molecule'] = mol\n",
    "    \n",
    "    # rename the columns\n",
    "    \n",
    "    \n",
    "    \n",
    "    return residuals\n",
    "\n",
    "\n",
    "def get_database_residuals(mols, path):\n",
    "    residuals = pd.DataFrame()\n",
    "    for mol in mols:\n",
    "        print(mol)\n",
    "        try:\n",
    "            residuals = pd.concat([residuals, get_max_residuals(mol, path)], axis=0)\n",
    "        except KeyError as e:\n",
    "            print(e)\n",
    "            continue\n",
    "    # reset the index\n",
    "    residuals.reset_index(inplace=True, drop=False)\n",
    "    # rename the index to be protocol\n",
    "    residuals.rename(columns={'index': 'Protocol'}, inplace=True)\n",
    "    return residuals\n",
    "\n",
    "\n",
    "path = Path('/mnt/data/madness_data/october23_tighter/high-high/')\n",
    "residuals = get_database_residuals(mols, path)\n",
    "residuals"
   ],
   "outputs": []
  },
  {
   "cell_type": "code",
   "execution_count": 38,
   "id": "83997e802e2cdce8",
   "metadata": {
    "ExecuteTime": {
     "end_time": "2023-10-24T21:18:43.085796534Z",
     "start_time": "2023-10-24T21:18:43.069545152Z"
    }
   },
   "source": [
    "def get_database_residuals_z(mols, path):\n",
    "    residuals = pd.DataFrame()\n",
    "    for mol in mols:\n",
    "        print(mol)\n",
    "        try:\n",
    "            residuals = pd.concat([residuals, get_z_residuals(mol, path)], axis=0)\n",
    "        except KeyError as e:\n",
    "            print(e)\n",
    "            continue\n",
    "    # reset the index\n",
    "    residuals.reset_index(inplace=True, drop=False)\n",
    "    # rename the index to be protocol\n",
    "    residuals.rename(columns={'index': 'Protocol'}, inplace=True)\n",
    "    return residuals"
   ],
   "outputs": []
  },
  {
   "cell_type": "code",
   "execution_count": 39,
   "id": "f8e5e2e8b0ecf206",
   "metadata": {
    "ExecuteTime": {
     "end_time": "2023-10-24T21:18:43.758682004Z",
     "start_time": "2023-10-24T21:18:43.447578029Z"
    }
   },
   "source": [
    "path = Path('/mnt/data/madness_data/october23_tighter/low-low/')\n",
    "residuals = get_database_residuals_z(mols, path)"
   ],
   "outputs": []
  },
  {
   "cell_type": "code",
   "execution_count": 40,
   "id": "8abb6f41567ef939",
   "metadata": {
    "ExecuteTime": {
     "end_time": "2023-10-24T21:18:49.043503939Z",
     "start_time": "2023-10-24T21:18:48.998552139Z"
    }
   },
   "source": [
    "# create a 2 x 1 plot with seaborn plotting protocol and max bsh and max density\n",
    "def plot_residuals(residuals):\n",
    "    sns.set_context(\"notebook\", font_scale=.8)\n",
    "    sns.set_style(\"whitegrid\")\n",
    "    sns.set_palette(\"colorblind\")\n",
    "    scale = 2\n",
    "    fig, ax = plt.subplots(nrows=2, ncols=3, figsize=(8, 6), sharey=False)\n",
    "    sns.scatterplot(x='Protocol', y='rz', data=residuals, hue='Molecule', ax=ax[0][0])\n",
    "    sns.scatterplot(x='Protocol', y='dz', data=residuals, hue='Molecule', ax=ax[0][1])\n",
    "    sns.scatterplot(x='Protocol', y='Absolute Residual Z', hue='Molecule', data=residuals,\n",
    "                    ax=ax[0][2])\n",
    "\n",
    "    sns.scatterplot(x='rz', y='Absolute Percent Error', data=residuals, hue='Molecule',\n",
    "                    ax=ax[1][0], style='Protocol')\n",
    "    sns.scatterplot(x='dz', y='Absolute Percent Error', data=residuals, hue='Molecule',\n",
    "                    style='Protocol', ax=ax[1][1])\n",
    "    sns.scatterplot(x='Absolute Residual Z', y='Absolute Percent Error', data=residuals,\n",
    "                    hue='Molecule', ax=ax[1][2], style='Protocol')\n",
    "    ax[0][0].set_yscale('log')\n",
    "    ax[0][1].set_yscale('log')\n",
    "    ax[0][2].set_yscale('log')\n",
    "\n",
    "    ax[1][0].set_xscale('log')\n",
    "    ax[1][1].set_xscale('log')\n",
    "    ax[1][2].set_xscale('log')\n",
    "    ax[1][0].set_yscale('log')\n",
    "    ax[1][1].set_yscale('log')\n",
    "    ax[1][2].set_yscale('log')\n",
    "\n",
    "    # remove all legends and replace with the legend for the last plot\n",
    "    ax[0][0].legend_.remove()\n",
    "    ax[0][1].legend_.remove()\n",
    "    ax[0][2].legend_.remove()\n",
    "    ax[1][0].legend_.remove()\n",
    "    ax[1][1].legend_.remove()\n",
    "    ax[1][2].legend_.remove()\n",
    "    ax[1][2].legend(bbox_to_anchor=(1.05, 1), loc=2, borderaxespad=0.)\n",
    "\n",
    "    fig.tight_layout()\n",
    "\n",
    "    # plot the linear regression fit on the same axis\n",
    "\n",
    "\n"
   ],
   "outputs": []
  },
  {
   "cell_type": "code",
   "execution_count": 41,
   "id": "5803322cfd13daa7",
   "metadata": {
    "ExecuteTime": {
     "end_time": "2023-10-24T21:18:52.839095191Z",
     "start_time": "2023-10-24T21:18:49.184187616Z"
    }
   },
   "source": [
    "\n",
    "path = Path('/mnt/data/madness_data/october23_tighter/high-high/')\n",
    "residuals = get_database_residuals_z(mols, path)\n",
    "plot_residuals(residuals)\n",
    "\n"
   ],
   "outputs": []
  },
  {
   "cell_type": "code",
   "execution_count": 24,
   "id": "79f2537d06872af3",
   "metadata": {
    "ExecuteTime": {
     "end_time": "2023-10-24T20:48:03.451594621Z",
     "start_time": "2023-10-24T20:48:03.347808210Z"
    }
   },
   "source": [
    "path = Path('/mnt/data/madness_data/october23_tighter/high-high/')\n",
    "residuals = get_database_residuals(mols, path)"
   ],
   "outputs": []
  },
  {
   "cell_type": "code",
   "execution_count": 26,
   "id": "7d303f5ef7d462a1",
   "metadata": {
    "ExecuteTime": {
     "end_time": "2023-10-24T17:31:17.603015459Z",
     "start_time": "2023-10-24T17:31:17.438010918Z"
    }
   },
   "source": [
    "residuals"
   ],
   "outputs": []
  },
  {
   "cell_type": "code",
   "execution_count": null,
   "id": "6ded50269ebc6b84",
   "metadata": {
    "ExecuteTime": {
     "end_time": "2023-10-24T16:02:56.265026984Z",
     "start_time": "2023-10-24T16:02:56.263371469Z"
    }
   },
   "source": [],
   "outputs": []
  },
  {
   "cell_type": "code",
   "execution_count": null,
   "id": "96acc0997af07102",
   "metadata": {
    "ExecuteTime": {
     "end_time": "2023-10-24T17:31:22.112570885Z",
     "start_time": "2023-10-24T17:31:21.999724930Z"
    }
   },
   "source": [],
   "outputs": []
  },
  {
   "cell_type": "code",
   "execution_count": null,
   "id": "26d7452de336bba",
   "metadata": {
    "ExecuteTime": {
     "end_time": "2023-10-24T17:31:25.393302633Z",
     "start_time": "2023-10-24T17:31:25.367939381Z"
    }
   },
   "source": [
    "\n"
   ],
   "outputs": []
  },
  {
   "cell_type": "code",
   "execution_count": null,
   "id": "d70f04e08243adb2",
   "metadata": {
    "ExecuteTime": {
     "end_time": "2023-10-24T17:31:27.605177331Z",
     "start_time": "2023-10-24T17:31:27.579358317Z"
    }
   },
   "source": [
    "\n"
   ],
   "outputs": []
  },
  {
   "cell_type": "code",
   "execution_count": 44,
   "id": "82e035c532446abe",
   "metadata": {
    "ExecuteTime": {
     "end_time": "2023-10-24T21:22:36.183129841Z",
     "start_time": "2023-10-24T21:22:35.997060634Z"
    }
   },
   "source": [
    "residuals = get_database_residuals(mols, path)\n",
    "residuals\n"
   ],
   "outputs": []
  },
  {
   "cell_type": "code",
   "execution_count": 55,
   "id": "792a13a54e1a4feb",
   "metadata": {
    "ExecuteTime": {
     "end_time": "2023-10-24T21:38:03.936971833Z",
     "start_time": "2023-10-24T21:38:01.981348584Z"
    }
   },
   "source": [
    "# plot protocol vs Absolute X Y Z residuals\n",
    "def plot_absolute_residuals(residuals):\n",
    "    \n",
    "    sns.set_context(\"notebook\", font_scale=1.0)\n",
    "    sns.set_style(\"whitegrid\")\n",
    "    sns.set_palette(\"colorblind\")\n",
    "    scale = 2\n",
    "    fig, ax = plt.subplots(nrows=1, ncols=3, figsize=(8, 3), sharey=True)\n",
    "    sns.scatterplot(x='Protocol', y='Absolute Residual X', data=residuals, hue='molecule', ax=ax[0])\n",
    "    sns.scatterplot(x='Protocol', y='Absolute Residual Y', data=residuals, hue='molecule', ax=ax[1])\n",
    "    sns.scatterplot(x='Protocol', y='Absolute Residual Z', data=residuals, hue='molecule', ax=ax[2])\n",
    "    ax[0].set_yscale('log')\n",
    "    ax[1].set_yscale('log')\n",
    "    ax[2].set_yscale('log')\n",
    "    ax[0].set_ylabel('Absolute Residual')\n",
    "    ax[0].set_xlabel('Protocol')\n",
    "    \n",
    "    ax[1].set_xlabel('Protocol')\n",
    "    ax[2].set_xlabel('Protocol')\n",
    "    ax[1].legend_.remove()\n",
    "    ax[0].legend_.remove()\n",
    "    ax[2].legend(bbox_to_anchor=(1.05, 1), loc=2, borderaxespad=0.)\n",
    "    \n",
    "    # add titles\n",
    "    ax[0].set_title('X')\n",
    "    ax[1].set_title('Y')\n",
    "    ax[2].set_title('Z')\n",
    "    \n",
    "    fig.tight_layout()\n",
    "    return fig\n"
   ],
   "outputs": []
  },
  {
   "cell_type": "code",
   "execution_count": 58,
   "id": "7635d859d7a1a405",
   "metadata": {
    "ExecuteTime": {
     "end_time": "2023-10-24T17:09:43.293797179Z",
     "start_time": "2023-10-24T17:09:42.233371095Z"
    }
   },
   "source": [
    "\n",
    "path = Path('/mnt/data/madness_data/october23_tighter/high-high/')\n",
    "f=plot_absolute_residuals(get_database_residuals(mols,path))"
   ],
   "outputs": []
  },
  {
   "cell_type": "code",
   "execution_count": 65,
   "id": "2023f68c58ab2d62",
   "metadata": {
    "ExecuteTime": {
     "end_time": "2023-10-24T17:09:43.459874301Z",
     "start_time": "2023-10-24T17:09:42.384153529Z"
    }
   },
   "source": [
    "path = Path('/mnt/data/madness_data/october23_tight/high-high/')\n",
    "f=plot_absolute_residuals(get_database_residuals(mols,path))"
   ],
   "outputs": []
  },
  {
   "cell_type": "code",
   "execution_count": 60,
   "id": "86d027028c4cde98",
   "metadata": {
    "ExecuteTime": {
     "end_time": "2023-10-24T17:09:43.760655855Z",
     "start_time": "2023-10-24T17:09:42.703262575Z"
    }
   },
   "source": [
    "m = MadnessResponse('F2', xc, 'dipole', path)\n",
    "m.plot_residuals()"
   ],
   "outputs": []
  },
  {
   "cell_type": "code",
   "execution_count": 66,
   "id": "6f375fef88e97694",
   "metadata": {
    "ExecuteTime": {
     "end_time": "2023-10-24T17:09:43.926102940Z",
     "start_time": "2023-10-24T17:09:43.010033197Z"
    }
   },
   "source": [
    "residuals = get_database_residuals_z(mols, path)\n",
    "plot_residuals(residuals)"
   ],
   "outputs": []
  },
  {
   "cell_type": "code",
   "execution_count": null,
   "id": "31ab518f2f56f09",
   "metadata": {
    "ExecuteTime": {
     "end_time": "2023-10-24T17:09:43.949534641Z",
     "start_time": "2023-10-24T17:09:43.132138352Z"
    }
   },
   "source": [],
   "outputs": []
  },
  {
   "cell_type": "code",
   "execution_count": null,
   "id": "cda8869a40eb3e57",
   "metadata": {
    "ExecuteTime": {
     "end_time": "2023-10-24T17:09:43.957526410Z",
     "start_time": "2023-10-24T17:09:43.262863566Z"
    }
   },
   "source": [],
   "outputs": []
  },
  {
   "cell_type": "code",
   "execution_count": null,
   "id": "aeea719e0c056af2",
   "metadata": {},
   "source": [],
   "outputs": []
  }
 ],
 "metadata": {
  "kernelspec": {
   "display_name": "Python 3 (ipykernel)",
   "language": "python",
   "name": "python3"
  },
  "language_info": {
   "codemirror_mode": {
    "name": "ipython",
    "version": 3
   },
   "file_extension": ".py",
   "mimetype": "text/x-python",
   "name": "python",
   "nbconvert_exporter": "python",
   "pygments_lexer": "ipython3",
   "version": "3.10.5"
  }
 },
 "nbformat": 4,
 "nbformat_minor": 5
}
