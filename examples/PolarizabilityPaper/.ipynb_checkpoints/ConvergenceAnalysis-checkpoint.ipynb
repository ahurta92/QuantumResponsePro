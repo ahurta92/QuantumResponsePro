{
 "cells": [
  {
   "cell_type": "code",
   "execution_count": 1,
   "id": "initial_id",
   "metadata": {
    "ExecuteTime": {
     "end_time": "2023-10-25T15:25:51.275897084Z",
     "start_time": "2023-10-25T15:25:50.535962526Z"
    },
    "collapsed": true
   },
   "outputs": [],
   "source": [
    "from ConvergenceAnalysis import *\n"
   ]
  },
  {
   "cell_type": "code",
   "execution_count": 2,
   "id": "99ed865a9faae4ca",
   "metadata": {
    "ExecuteTime": {
     "end_time": "2023-10-25T15:25:51.284681897Z",
     "start_time": "2023-10-25T15:25:51.277830756Z"
    }
   },
   "outputs": [
    {
     "data": {
      "text/html": [
       "<div>\n",
       "<style scoped>\n",
       "    .dataframe tbody tr th:only-of-type {\n",
       "        vertical-align: middle;\n",
       "    }\n",
       "\n",
       "    .dataframe tbody tr th {\n",
       "        vertical-align: top;\n",
       "    }\n",
       "\n",
       "    .dataframe thead th {\n",
       "        text-align: right;\n",
       "    }\n",
       "</style>\n",
       "<table border=\"1\" class=\"dataframe\">\n",
       "  <thead>\n",
       "    <tr style=\"text-align: right;\">\n",
       "      <th></th>\n",
       "      <th>Molecule</th>\n",
       "      <th>FD</th>\n",
       "    </tr>\n",
       "  </thead>\n",
       "  <tbody>\n",
       "    <tr>\n",
       "      <th>0</th>\n",
       "      <td>He</td>\n",
       "      <td>1.322234</td>\n",
       "    </tr>\n",
       "    <tr>\n",
       "      <th>1</th>\n",
       "      <td>Be</td>\n",
       "      <td>45.616381</td>\n",
       "    </tr>\n",
       "    <tr>\n",
       "      <th>2</th>\n",
       "      <td>Ne</td>\n",
       "      <td>2.376747</td>\n",
       "    </tr>\n",
       "    <tr>\n",
       "      <th>3</th>\n",
       "      <td>Mg</td>\n",
       "      <td>81.593730</td>\n",
       "    </tr>\n",
       "    <tr>\n",
       "      <th>4</th>\n",
       "      <td>Ar</td>\n",
       "      <td>10.758002</td>\n",
       "    </tr>\n",
       "    <tr>\n",
       "      <th>5</th>\n",
       "      <td>N2</td>\n",
       "      <td>15.030438</td>\n",
       "    </tr>\n",
       "    <tr>\n",
       "      <th>6</th>\n",
       "      <td>F2</td>\n",
       "      <td>14.642223</td>\n",
       "    </tr>\n",
       "    <tr>\n",
       "      <th>7</th>\n",
       "      <td>NaCl</td>\n",
       "      <td>28.700184</td>\n",
       "    </tr>\n",
       "    <tr>\n",
       "      <th>8</th>\n",
       "      <td>LiCl</td>\n",
       "      <td>24.532474</td>\n",
       "    </tr>\n",
       "    <tr>\n",
       "      <th>9</th>\n",
       "      <td>CO</td>\n",
       "      <td>14.466840</td>\n",
       "    </tr>\n",
       "  </tbody>\n",
       "</table>\n",
       "</div>"
      ],
      "text/plain": [
       "  Molecule         FD\n",
       "0       He   1.322234\n",
       "1       Be  45.616381\n",
       "2       Ne   2.376747\n",
       "3       Mg  81.593730\n",
       "4       Ar  10.758002\n",
       "5       N2  15.030438\n",
       "6       F2  14.642223\n",
       "7     NaCl  28.700184\n",
       "8     LiCl  24.532474\n",
       "9       CO  14.466840"
      ]
     },
     "execution_count": 2,
     "metadata": {},
     "output_type": "execute_result"
    }
   ],
   "source": [
    "fd_data"
   ]
  },
  {
   "cell_type": "code",
   "execution_count": 13,
   "id": "ef4d5e5de371fb6f",
   "metadata": {
    "ExecuteTime": {
     "end_time": "2023-10-25T15:30:28.751414244Z",
     "start_time": "2023-10-25T15:30:28.703500304Z"
    }
   },
   "outputs": [],
   "source": [
    "october_absolute_path=Path('/mnt/data/madness_data/october_absolute/')\n",
    "october_high=october_absolute_path.joinpath('high-high')\n",
    "october_low=october_absolute_path.joinpath('low-low')\n"
   ]
  },
  {
   "cell_type": "code",
   "execution_count": 18,
   "id": "c081cabb7ff86ffe",
   "metadata": {
    "ExecuteTime": {
     "end_time": "2023-10-25T15:32:59.935831480Z",
     "start_time": "2023-10-25T15:32:59.581335183Z"
    }
   },
   "outputs": [
    {
     "name": "stdout",
     "output_type": "stream",
     "text": [
      "He\n",
      "He /mnt/data/madness_data/october_absolute/low-low/hf/He/dipole_hf_0-000000/response_base.json\n",
      "/mnt/data/madness_data/october_absolute/low-low/hf/He/beta.json\n",
      "[Errno 2] No such file or directory: '/mnt/data/madness_data/october_absolute/low-low/hf/He/beta.json'\n",
      "Be\n",
      "Be /mnt/data/madness_data/october_absolute/low-low/hf/Be/dipole_hf_0-000000/response_base.json\n",
      "/mnt/data/madness_data/october_absolute/low-low/hf/Be/beta.json\n",
      "[Errno 2] No such file or directory: '/mnt/data/madness_data/october_absolute/low-low/hf/Be/beta.json'\n",
      "Ne\n",
      "Ne /mnt/data/madness_data/october_absolute/low-low/hf/Ne/dipole_hf_0-000000/response_base.json\n",
      "/mnt/data/madness_data/october_absolute/low-low/hf/Ne/beta.json\n",
      "[Errno 2] No such file or directory: '/mnt/data/madness_data/october_absolute/low-low/hf/Ne/beta.json'\n",
      "Mg\n",
      "/mnt/data/madness_data/october_absolute/low-low/hf/Mg/beta.json\n",
      "[Errno 2] No such file or directory: '/mnt/data/madness_data/october_absolute/low-low/hf/Mg/beta.json'\n",
      "'0.0'\n",
      "Ar\n",
      "/mnt/data/madness_data/october_absolute/low-low/hf/Ar/beta.json\n",
      "[Errno 2] No such file or directory: '/mnt/data/madness_data/october_absolute/low-low/hf/Ar/beta.json'\n",
      "'0.0'\n",
      "N2\n",
      "N2 /mnt/data/madness_data/october_absolute/low-low/hf/N2/dipole_hf_0-000000/response_base.json\n",
      "/mnt/data/madness_data/october_absolute/low-low/hf/N2/beta.json\n",
      "[Errno 2] No such file or directory: '/mnt/data/madness_data/october_absolute/low-low/hf/N2/beta.json'\n",
      "F2\n",
      "F2 /mnt/data/madness_data/october_absolute/low-low/hf/F2/dipole_hf_0-000000/response_base.json\n",
      "/mnt/data/madness_data/october_absolute/low-low/hf/F2/beta.json\n",
      "[Errno 2] No such file or directory: '/mnt/data/madness_data/october_absolute/low-low/hf/F2/beta.json'\n",
      "NaCl\n",
      "/mnt/data/madness_data/october_absolute/low-low/hf/NaCl/beta.json\n",
      "[Errno 2] No such file or directory: '/mnt/data/madness_data/october_absolute/low-low/hf/NaCl/beta.json'\n",
      "'0.0'\n",
      "LiCl\n",
      "[Errno 2] No such file or directory: '/mnt/data/madness_data/october_absolute/low-low/hf/LiCl/moldft.calc_info.json'\n",
      "CO\n",
      "CO /mnt/data/madness_data/october_absolute/low-low/hf/CO/dipole_hf_0-000000/response_base.json\n",
      "/mnt/data/madness_data/october_absolute/low-low/hf/CO/beta.json\n",
      "[Errno 2] No such file or directory: '/mnt/data/madness_data/october_absolute/low-low/hf/CO/beta.json'\n",
      "He\n",
      "He /mnt/data/madness_data/october_absolute/high-high/hf/He/dipole_hf_0-000000/response_base.json\n",
      "/mnt/data/madness_data/october_absolute/high-high/hf/He/beta.json\n",
      "[Errno 2] No such file or directory: '/mnt/data/madness_data/october_absolute/high-high/hf/He/beta.json'\n",
      "Be\n",
      "Be /mnt/data/madness_data/october_absolute/high-high/hf/Be/dipole_hf_0-000000/response_base.json\n",
      "/mnt/data/madness_data/october_absolute/high-high/hf/Be/beta.json\n",
      "[Errno 2] No such file or directory: '/mnt/data/madness_data/october_absolute/high-high/hf/Be/beta.json'\n",
      "Ne\n",
      "Ne /mnt/data/madness_data/october_absolute/high-high/hf/Ne/dipole_hf_0-000000/response_base.json\n",
      "/mnt/data/madness_data/october_absolute/high-high/hf/Ne/beta.json\n",
      "[Errno 2] No such file or directory: '/mnt/data/madness_data/october_absolute/high-high/hf/Ne/beta.json'\n",
      "Mg\n",
      "Mg /mnt/data/madness_data/october_absolute/high-high/hf/Mg/dipole_hf_0-000000/response_base.json\n",
      "/mnt/data/madness_data/october_absolute/high-high/hf/Mg/beta.json\n",
      "[Errno 2] No such file or directory: '/mnt/data/madness_data/october_absolute/high-high/hf/Mg/beta.json'\n",
      "Ar\n",
      "Ar /mnt/data/madness_data/october_absolute/high-high/hf/Ar/dipole_hf_0-000000/response_base.json\n",
      "/mnt/data/madness_data/october_absolute/high-high/hf/Ar/beta.json\n",
      "[Errno 2] No such file or directory: '/mnt/data/madness_data/october_absolute/high-high/hf/Ar/beta.json'\n",
      "N2\n",
      "N2 /mnt/data/madness_data/october_absolute/high-high/hf/N2/dipole_hf_0-000000/response_base.json\n",
      "/mnt/data/madness_data/october_absolute/high-high/hf/N2/beta.json\n",
      "[Errno 2] No such file or directory: '/mnt/data/madness_data/october_absolute/high-high/hf/N2/beta.json'\n",
      "F2\n",
      "F2 /mnt/data/madness_data/october_absolute/high-high/hf/F2/dipole_hf_0-000000/response_base.json\n",
      "/mnt/data/madness_data/october_absolute/high-high/hf/F2/beta.json\n",
      "[Errno 2] No such file or directory: '/mnt/data/madness_data/october_absolute/high-high/hf/F2/beta.json'\n",
      "NaCl\n",
      "NaCl /mnt/data/madness_data/october_absolute/high-high/hf/NaCl/dipole_hf_0-000000/response_base.json\n",
      "/mnt/data/madness_data/october_absolute/high-high/hf/NaCl/beta.json\n",
      "[Errno 2] No such file or directory: '/mnt/data/madness_data/october_absolute/high-high/hf/NaCl/beta.json'\n",
      "LiCl\n",
      "LiCl /mnt/data/madness_data/october_absolute/high-high/hf/LiCl/dipole_hf_0-000000/response_base.json\n",
      "/mnt/data/madness_data/october_absolute/high-high/hf/LiCl/beta.json\n",
      "[Errno 2] No such file or directory: '/mnt/data/madness_data/october_absolute/high-high/hf/LiCl/beta.json'\n",
      "CO\n",
      "CO /mnt/data/madness_data/october_absolute/high-high/hf/CO/dipole_hf_0-000000/response_base.json\n",
      "/mnt/data/madness_data/october_absolute/high-high/hf/CO/beta.json\n",
      "[Errno 2] No such file or directory: '/mnt/data/madness_data/october_absolute/high-high/hf/CO/beta.json'\n"
     ]
    }
   ],
   "source": [
    "mols=fd_data['Molecule'].to_list()\n",
    "low_data=get_database_residuals_z(mols,october_low)\n",
    "high_data=get_database_residuals_z(mols,october_high)\n",
    "#\n"
   ]
  },
  {
   "cell_type": "code",
   "execution_count": 19,
   "id": "d4db4dbcca1b9e63",
   "metadata": {
    "ExecuteTime": {
     "end_time": "2023-10-25T15:33:03.997564295Z",
     "start_time": "2023-10-25T15:33:03.987311215Z"
    }
   },
   "outputs": [],
   "source": []
  },
  {
   "cell_type": "code",
   "execution_count": 19,
   "id": "7e4bbbaf3de87d7c",
   "metadata": {
    "ExecuteTime": {
     "end_time": "2023-10-25T15:33:14.688300508Z",
     "start_time": "2023-10-25T15:33:14.686078064Z"
    }
   },
   "outputs": [],
   "source": []
  },
  {
   "cell_type": "code",
   "execution_count": null,
   "id": "63f42d6f42c25fa8",
   "metadata": {},
   "outputs": [],
   "source": []
  }
 ],
 "metadata": {
  "kernelspec": {
   "display_name": "Python 3 (ipykernel)",
   "language": "python",
   "name": "python3"
  },
  "language_info": {
   "codemirror_mode": {
    "name": "ipython",
    "version": 3
   },
   "file_extension": ".py",
   "mimetype": "text/x-python",
   "name": "python",
   "nbconvert_exporter": "python",
   "pygments_lexer": "ipython3",
   "version": "3.10.10"
  }
 },
 "nbformat": 4,
 "nbformat_minor": 5
}
