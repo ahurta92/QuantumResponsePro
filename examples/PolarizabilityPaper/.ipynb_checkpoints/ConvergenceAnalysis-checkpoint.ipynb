{
 "cells": [
  {
   "cell_type": "code",
   "execution_count": 1,
   "id": "initial_id",
   "metadata": {
    "ExecuteTime": {
     "end_time": "2023-10-25T15:25:51.275897084Z",
     "start_time": "2023-10-25T15:25:50.535962526Z"
    },
    "collapsed": true
   },
   "source": [
    "from ConvergenceAnalysis import *\n"
   ],
   "outputs": []
  },
  {
   "cell_type": "code",
   "execution_count": 2,
   "id": "99ed865a9faae4ca",
   "metadata": {
    "ExecuteTime": {
     "end_time": "2023-10-25T15:25:51.284681897Z",
     "start_time": "2023-10-25T15:25:51.277830756Z"
    }
   },
   "source": [
    "fd_data"
   ],
   "outputs": []
  },
  {
   "cell_type": "code",
   "execution_count": 13,
   "id": "ef4d5e5de371fb6f",
   "metadata": {
    "ExecuteTime": {
     "end_time": "2023-10-25T15:30:28.751414244Z",
     "start_time": "2023-10-25T15:30:28.703500304Z"
    }
   },
   "source": [
    "october_absolute_path=Path('/mnt/data/madness_data/october_absolute/')\n",
    "october_high=october_absolute_path.joinpath('high-high')\n",
    "october_low=october_absolute_path.joinpath('low-low')\n"
   ],
   "outputs": []
  },
  {
   "cell_type": "code",
   "execution_count": 18,
   "id": "c081cabb7ff86ffe",
   "metadata": {
    "ExecuteTime": {
     "end_time": "2023-10-25T15:32:59.935831480Z",
     "start_time": "2023-10-25T15:32:59.581335183Z"
    }
   },
   "source": [
    "mols=fd_data['Molecule'].to_list()\n",
    "low_data=get_database_residuals_z(mols,october_low)\n",
    "high_data=get_database_residuals_z(mols,october_high)\n",
    "#\n"
   ],
   "outputs": []
  },
  {
   "cell_type": "code",
   "execution_count": 19,
   "id": "d4db4dbcca1b9e63",
   "metadata": {
    "ExecuteTime": {
     "end_time": "2023-10-25T15:33:03.997564295Z",
     "start_time": "2023-10-25T15:33:03.987311215Z"
    }
   },
   "source": [],
   "outputs": []
  },
  {
   "cell_type": "code",
   "execution_count": 19,
   "id": "7e4bbbaf3de87d7c",
   "metadata": {
    "ExecuteTime": {
     "end_time": "2023-10-25T15:33:14.688300508Z",
     "start_time": "2023-10-25T15:33:14.686078064Z"
    }
   },
   "source": [],
   "outputs": []
  },
  {
   "cell_type": "code",
   "execution_count": null,
   "id": "63f42d6f42c25fa8",
   "metadata": {},
   "source": [],
   "outputs": []
  }
 ],
 "metadata": {
  "kernelspec": {
   "display_name": "Python 3 (ipykernel)",
   "language": "python",
   "name": "python3"
  },
  "language_info": {
   "codemirror_mode": {
    "name": "ipython",
    "version": 3
   },
   "file_extension": ".py",
   "mimetype": "text/x-python",
   "name": "python",
   "nbconvert_exporter": "python",
   "pygments_lexer": "ipython3",
   "version": "3.10.10"
  }
 },
 "nbformat": 4,
 "nbformat_minor": 5
}
