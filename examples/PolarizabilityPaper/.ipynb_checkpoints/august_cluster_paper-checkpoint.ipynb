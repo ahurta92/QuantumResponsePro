{
 "cells": [
  {
   "cell_type": "code",
   "execution_count": 1,
   "id": "initial_id",
   "metadata": {
    "collapsed": true,
    "ExecuteTime": {
     "end_time": "2024-03-25T18:07:25.957792Z",
     "start_time": "2024-03-25T18:07:25.789570Z"
    }
   },
   "source": [
    "\n",
    "import numpy as np\n",
    "\n",
    "from DataAnalysisClass import *\n",
    "from clustering_work import *\n",
    "\n",
    "single = ['aug-cc-pVDZ', 'aug-cc-pVTZ', 'aug-cc-pVQZ', 'aug-cc-pV5Z', 'aug-cc-pV6Z']\n",
    "single_polarized = ['aug-cc-pCVDZ', 'aug-cc-pCVTZ', 'aug-cc-pCVQZ']\n",
    "double = ['d-aug-cc-pVDZ', 'd-aug-cc-pVTZ', 'd-aug-cc-pVQZ', 'd-aug-cc-pV5Z', 'd-aug-cc-pV6Z']\n",
    "double_polarized = ['d-aug-cc-pCVDZ', 'd-aug-cc-pCVTZ', 'd-aug-cc-pCVQZ']\n",
    "all_basis_sets = single + single_polarized + double + double_polarized\n"
   ],
   "outputs": []
  },
  {
   "cell_type": "code",
   "execution_count": 2,
   "id": "8f5c78879c11d346",
   "metadata": {
    "ExecuteTime": {
     "end_time": "2024-03-25T18:07:25.960740Z",
     "start_time": "2024-03-25T18:07:25.958574Z"
    }
   },
   "source": [
    "\n",
    "database_path = Path('/mnt/data/madness_data/august')\n",
    "paper_path = Path('/home/adrianhurtado/projects/writing/mra-tdhf-polarizability/Figures')\n",
    "\n"
   ],
   "outputs": []
  },
  {
   "cell_type": "code",
   "execution_count": 3,
   "source": [
    "import glob\n",
    "\n",
    "# glob for .mol files in august molecules directory\n",
    "mols = glob.glob('/mnt/data/madness_data/august/molecules/*.mol')\n",
    "mols = [mol.split('/')[-1].split('.')[0] for mol in mols]\n",
    "mols.remove('LiH_s')\n",
    "mols\n"
   ],
   "metadata": {
    "collapsed": false,
    "ExecuteTime": {
     "end_time": "2024-03-25T18:07:25.968256Z",
     "start_time": "2024-03-25T18:07:25.961350Z"
    }
   },
   "id": "63fcb07efbde96d",
   "outputs": []
  },
  {
   "cell_type": "markdown",
   "source": [],
   "metadata": {
    "collapsed": false
   },
   "id": "fb7e546660b3ec45"
  },
  {
   "cell_type": "code",
   "execution_count": 4,
   "source": [
    "august_database = PolarizabilityData(mols, 'hf', 'dipole', all_basis_sets, database_path, overwrite=False)"
   ],
   "metadata": {
    "collapsed": false,
    "ExecuteTime": {
     "end_time": "2024-03-25T18:07:26.083583Z",
     "start_time": "2024-03-25T18:07:25.969048Z"
    }
   },
   "id": "73d141195488fcec",
   "outputs": []
  },
  {
   "cell_type": "code",
   "source": [
    "august_database.save_dfs()"
   ],
   "metadata": {
    "collapsed": false,
    "ExecuteTime": {
     "end_time": "2024-03-20T21:26:50.668353Z",
     "start_time": "2024-03-20T21:26:50.345862Z"
    }
   },
   "id": "338a80e4fd7fe7b4",
   "execution_count": 5,
   "outputs": []
  },
  {
   "cell_type": "code",
   "source": [
    "polar_data = august_database.iso_data.copy()"
   ],
   "metadata": {
    "collapsed": false,
    "ExecuteTime": {
     "end_time": "2024-03-25T18:07:32.271493Z",
     "start_time": "2024-03-25T18:07:32.268251Z"
    }
   },
   "id": "cdf4aec17c3a9160",
   "execution_count": 5,
   "outputs": []
  },
  {
   "cell_type": "code",
   "source": [
    "eigen_data=MRAComparedBasisDF(august_database.alpha_eigen, ['molecule', 'omega','ij'], ['alpha'], True)\n",
    "eigen_data.set_index(['molecule', 'omega', 'ij','basis'], inplace=True)\n",
    "eigen_data=eigen_data['alphaE']\n",
    "eigen_data=eigen_data.reset_index()\n",
    "eigen_data\n"
   ],
   "metadata": {
    "collapsed": false,
    "ExecuteTime": {
     "end_time": "2024-03-25T18:07:32.661311Z",
     "start_time": "2024-03-25T18:07:32.533827Z"
    }
   },
   "id": "a91bac9ccc3ac2d6",
   "execution_count": 6,
   "outputs": []
  },
  {
   "cell_type": "code",
   "source": [
    "mol_datas=[]\n",
    "for mol in eigen_data.molecule.unique():\n",
    "        mol_data = eigen_data.query('molecule==@mol and omega==0 and ij.isin([\"xx\", \"yy\", \"zz\"])')\n",
    "        mol_data.set_index(['basis', 'ij'], inplace=True)\n",
    "        mol_data = pd.Series(mol_data['alphaE'], name=mol)\n",
    "        mol_datas.append(mol_data)\n",
    "        \n",
    "mol_data = pd.concat(mol_datas, axis=1)\n",
    "eigen_data=mol_data.T.dropna()\n",
    "eigen_data"
   ],
   "metadata": {
    "collapsed": false,
    "ExecuteTime": {
     "end_time": "2024-03-25T18:07:35.454932Z",
     "start_time": "2024-03-25T18:07:35.167434Z"
    }
   },
   "id": "7649105c4c21b7a6",
   "execution_count": 7,
   "outputs": []
  },
  {
   "cell_type": "code",
   "source": [],
   "metadata": {
    "collapsed": false,
    "ExecuteTime": {
     "end_time": "2024-03-25T18:07:37.988015Z",
     "start_time": "2024-03-25T18:07:37.986415Z"
    }
   },
   "id": "95738c4835a64ca7",
   "execution_count": 7,
   "outputs": []
  },
  {
   "cell_type": "code",
   "execution_count": 8,
   "source": [
    "\n",
    "basis_data = MRAComparedBasisDF(polar_data, ['molecule', 'omega'], ['alpha', 'gamma'], True)\n",
    "\n",
    "\n",
    "def get_basis_data(basis_data, omega=8):\n",
    "    df = basis_data.query('omega==@omega')\n",
    "    alphab = {}\n",
    "    gammab = {}\n",
    "    for b in basis_data.basis.unique():\n",
    "        bdata = df.query('basis==@b')\n",
    "        alphab[b] = bdata.set_index('molecule').alphaE\n",
    "        gammab[b] = bdata.set_index('molecule').gammaE\n",
    "    alpha_df = pd.DataFrame(alphab)\n",
    "    gamma_df = pd.DataFrame(gammab)\n",
    "    return alpha_df, gamma_df\n",
    "\n",
    "\n",
    "data = get_basis_data(basis_data, 0)[0]\n",
    "data.drop(['aug-cc-pV5Z', 'aug-cc-pV6Z', 'd-aug-cc-pV5Z', 'd-aug-cc-pV6Z'], axis=1, inplace=True)\n",
    "data.dropna(inplace=True)\n"
   ],
   "metadata": {
    "collapsed": false,
    "ExecuteTime": {
     "end_time": "2024-03-25T18:07:40.122264Z",
     "start_time": "2024-03-25T18:07:40.042938Z"
    }
   },
   "id": "9a460c067e6c4069",
   "outputs": []
  },
  {
   "cell_type": "code",
   "source": [
    "data"
   ],
   "metadata": {
    "collapsed": false,
    "ExecuteTime": {
     "end_time": "2024-03-25T18:07:42.255411Z",
     "start_time": "2024-03-25T18:07:42.246108Z"
    }
   },
   "id": "3cb3a342bafc5d6c",
   "execution_count": 9,
   "outputs": []
  },
  {
   "cell_type": "code",
   "execution_count": 10,
   "source": [
    "\n",
    "def cluster_basis_data(data, n_clusters=8):\n",
    "    scaler = StandardScaler()\n",
    "    X = data.to_numpy()\n",
    "    data_scaled = scaler.fit_transform(X)\n",
    "    # Create an AgglomerativeClustering instance with n_clusters\n",
    "    agglo = AgglomerativeClustering(n_clusters=n_clusters)\n",
    "    # Fit the model to your data and get the cluster assignments in one step\n",
    "    labels = agglo.fit_predict(data_scaled)\n",
    "    data['cluster'] = labels\n",
    "\n",
    "    return data\n",
    "\n",
    "\n",
    "def inv_symlog(y, linthresh):\n",
    "    \"\"\"Inverse of symmetric log transformation.\"\"\"\n",
    "    return np.sign(y) * linthresh * (np.exp(np.abs(y)) - 1)\n",
    "\n",
    "\n",
    "def symlog(x, linthresh):\n",
    "    \"\"\"Symmetric log transformation.\"\"\"\n",
    "    \n",
    "    copy_x= x.copy()\n",
    "    copy_x[np.abs(x) < linthresh ] = 0\n",
    "    #return np.log(np.abs(copy_x/linthresh))\n",
    "    #return np.sign(copy_x) * np.log1p(np.abs(copy_x / linthresh))\n",
    "    return np.sign(copy_x) * np.log1p(np.abs(copy_x / linthresh))"
   ],
   "metadata": {
    "collapsed": false,
    "ExecuteTime": {
     "end_time": "2024-03-25T18:07:42.521175Z",
     "start_time": "2024-03-25T18:07:42.516298Z"
    }
   },
   "id": "46672288b813f436",
   "outputs": []
  },
  {
   "cell_type": "code",
   "source": [],
   "metadata": {
    "collapsed": false,
    "ExecuteTime": {
     "end_time": "2024-03-25T18:07:43.250039Z",
     "start_time": "2024-03-25T18:07:43.247973Z"
    }
   },
   "id": "e70ddaccd88563de",
   "execution_count": 10,
   "outputs": []
  },
  {
   "cell_type": "code",
   "source": [
    "\n",
    "from sklearn import preprocessing"
   ],
   "metadata": {
    "collapsed": false,
    "ExecuteTime": {
     "end_time": "2024-03-25T18:07:43.494498Z",
     "start_time": "2024-03-25T18:07:43.492054Z"
    }
   },
   "id": "caa0ebc0c1e26c0d",
   "execution_count": 11,
   "outputs": []
  },
  {
   "cell_type": "code",
   "source": [
    "from sklearn.model_selection import GridSearchCV\n",
    "from sklearn.mixture import GaussianMixture\n",
    "# plot data_matrix for each column\n",
    "import matplotlib.pyplot as plt\n",
    "import seaborn as sns\n",
    "import pandas as pd\n"
   ],
   "metadata": {
    "collapsed": false,
    "ExecuteTime": {
     "end_time": "2024-03-25T18:07:43.817816Z",
     "start_time": "2024-03-25T18:07:43.815289Z"
    }
   },
   "id": "f88a8532a822c842",
   "execution_count": 12,
   "outputs": []
  },
  {
   "cell_type": "code",
   "source": [
    "data = get_basis_data(basis_data, 0)[0]\n",
    "#data= mol_data.T\n",
    "data.drop(['aug-cc-pV5Z', 'aug-cc-pV6Z', 'd-aug-cc-pV5Z', 'd-aug-cc-pV6Z'], axis=1, inplace=True)\n",
    "# drop DZ basis sets\n",
    "#data.drop(['aug-cc-pVDZ', 'd-aug-cc-pVDZ','aug-cc-pCVDZ','d-aug-cc-pCVDZ'], axis=1, inplace=True)\n",
    "#data.drop(['aug-cc-pVTZ', 'd-aug-cc-pVTZ','aug-cc-pCVTZ','d-aug-cc-pCVTZ'], axis=1, inplace=True)\n",
    "data.dropna(inplace=True)\n",
    "data\n",
    "\n"
   ],
   "metadata": {
    "collapsed": false,
    "ExecuteTime": {
     "end_time": "2024-03-25T18:07:44.604881Z",
     "start_time": "2024-03-25T18:07:44.563903Z"
    }
   },
   "id": "a258722e1382e38e",
   "execution_count": 13,
   "outputs": []
  },
  {
   "cell_type": "code",
   "source": [
    "threshold = 5e-2   # threshold for symlog transformation           \n",
    "\n",
    "quantile = preprocessing.QuantileTransformer(n_quantiles=10)\n",
    "robust= preprocessing.RobustScaler()\n",
    "normalizer = preprocessing.Normalizer()\n",
    "standard= preprocessing.StandardScaler()\n",
    "\n",
    "data_matrix = data.to_numpy()\n",
    "# normalize all values to be between +1 and -1 \n",
    "#data_matrix/=np.max(np.abs(data_matrix))\n",
    "\n",
    "\n",
    "data_matrix = symlog(data_matrix, threshold)\n",
    "#data_matrix = quantile.fit_transform(data_matrix)\n",
    "#data_matrix=standard.fit_transform(data_matrix)\n",
    "data_matrix = normalizer.fit_transform(data_matrix)\n",
    "\n",
    "\n",
    "fig, axes = plt.subplots(4, 3, figsize=(18, 6), sharex=True, sharey=True)\n",
    "for i, ax in enumerate(axes.flat):\n",
    "    sns.histplot(data_matrix[:, i], ax=ax, kde=False, bins=10)\n",
    "    ax.set_title(data.columns[i])\n",
    "\n",
    "\n",
    "\n",
    "def gmm_bic_score(estimator, X):\n",
    "    return -estimator.bic(X)"
   ],
   "metadata": {
    "collapsed": false,
    "ExecuteTime": {
     "end_time": "2024-03-25T18:21:42.771815Z",
     "start_time": "2024-03-25T18:21:41.153925Z"
    }
   },
   "id": "14ab5276150cd5fd",
   "execution_count": 70,
   "outputs": []
  },
  {
   "cell_type": "code",
   "source": [
    "    \n",
    "\n",
    "\n",
    "param_grid = {\n",
    "    'n_components': range(1, 16),\n",
    "    'init_params': ['kmeans'],#'random', 'random_from_data', 'k-means++' ],#\n",
    "    'covariance_type': ['spherical']\n",
    "}\n",
    "\n",
    "grid_search = GridSearchCV(GaussianMixture(tol=threshold,n_init=100,max_iter=2000),\n",
    "                           param_grid=param_grid, scoring=gmm_bic_score, verbose=3,)\n",
    "model = grid_search\n",
    "\n",
    "X = data_matrix\n",
    "#grid_search.fit(X)\n",
    "model.fit(X)\n",
    "\n",
    "\n",
    "df = pd.DataFrame(grid_search.cv_results_)[\n",
    "    [\"param_n_components\", \"param_covariance_type\", \"mean_test_score\"]\n",
    "]\n",
    "df[\"mean_test_score\"] = -df[\"mean_test_score\"]\n",
    "df = df.rename(\n",
    "    columns={\n",
    "        \"param_n_components\": \"Number of components\",\n",
    "        \"param_covariance_type\": \"Type of covariance\",\n",
    "        \"mean_test_score\": \"BIC score\",\n",
    "    }\n",
    ")\n",
    "\n",
    "print(grid_search.best_params_)\n",
    "df.sort_values(by=\"BIC score\").head()\n",
    "\n",
    "# plot the BIC score for each model\n",
    "fig, ax = plt.subplots(figsize=(10, 6))\n",
    "sns.lineplot(data=df, x=\"Number of components\", y=\"BIC score\", hue=\"Type of covariance\", ax=ax)\n",
    "\n"
   ],
   "metadata": {
    "collapsed": false,
    "ExecuteTime": {
     "end_time": "2024-03-25T18:22:16.203630Z",
     "start_time": "2024-03-25T18:21:44.232798Z"
    }
   },
   "id": "31fe90bfad4af565",
   "execution_count": 71,
   "outputs": []
  },
  {
   "cell_type": "code",
   "source": [
    "threshold = 5e-2   # threshold for symlog transformation           \n",
    "\n",
    "data = get_basis_data(basis_data, 0)[0]\n",
    "#data= mol_data.T\n",
    "data.drop(['aug-cc-pV5Z', 'aug-cc-pV6Z', 'd-aug-cc-pV5Z', 'd-aug-cc-pV6Z'], axis=1, inplace=True)\n",
    "# drop DZ basis sets\n",
    "#data.drop(['aug-cc-pVDZ', 'd-aug-cc-pVDZ','aug-cc-pCVDZ','d-aug-cc-pCVDZ'], axis=1, inplace=True)\n",
    "#data.drop(['aug-cc-pVTZ', 'd-aug-cc-pVTZ','aug-cc-pCVTZ','d-aug-cc-pCVTZ'], axis=1, inplace=True)\n",
    "data.dropna(inplace=True)\n",
    "normalizer = preprocessing.Normalizer()\n",
    "standard= preprocessing.StandardScaler()\n",
    "\n",
    "data_matrix = data.to_numpy()\n",
    "# normalize all values to be between +1 and -1 \n",
    "#data_matrix/=np.max(np.abs(data_matrix))\n",
    "\n",
    "\n",
    "data_matrix = symlog(data_matrix, threshold)\n",
    "data_matrix = normalizer.fit_transform(data_matrix)\n",
    "\n",
    "num_clusters=5\n",
    "model=GaussianMixture(n_components=num_clusters, covariance_type='spherical', tol=1e-9, n_init=200, max_iter=2000, init_params='kmeans',)\n",
    "model.fit(data_matrix)\n",
    "\n",
    "labels = model.predict(data_matrix)\n",
    "\n",
    "\n",
    "\n",
    "color_iter = sns.color_palette(\"tab10\", 2)[::-1]\n",
    "#labels = gmm.predict(data_matrix)\n",
    "score = silhouette_score(X, labels, metric='euclidean')\n",
    "data['cluster'] = labels\n",
    "print(\"silhouette score\", score)\n",
    "\n",
    "\n",
    "\n",
    "average_vectors = []\n",
    "std_vectors = []\n",
    "for i in range(num_clusters):\n",
    "    cluster_points = data_matrix[labels == i]\n",
    "    average_vector = np.mean(cluster_points, axis=0)\n",
    "    std_vector = np.std(cluster_points, axis=0)\n",
    "    average_vectors.append(average_vector)\n",
    "    std_vectors.append(std_vector)\n",
    "\n",
    "avg_df = pd.DataFrame(average_vectors, )\n",
    "avg_df['mean'] = avg_df.mean(axis=1)\n",
    "avg_df = avg_df.sort_values('mean', ascending=False)\n",
    "avg_df.drop('mean', axis=1, inplace=True)\n",
    "\n",
    "std_df = pd.DataFrame(std_vectors, )\n",
    "\n",
    "sorted_index = avg_df.index\n",
    "std_df = std_df.reindex(sorted_index)\n",
    "std_df.sort_index(inplace=True)\n",
    "\n",
    "cluster_map = {sorted_index[i]: i for i in range(len(sorted_index))}\n",
    "avg_df = avg_df.reset_index(drop=True)\n",
    "# avg_df = avg_df.apply(lambda x: inv_symlog(x, threshold))\n",
    "# avg_df = pd.DataFrame(scaler.inverse_transform(avg_df), columns=avg_df.columns,\n",
    "#                      index=avg_df.index)\n",
    "print(cluster_map)\n",
    "data['cluster'] = data['cluster'].map(cluster_map)\n",
    "\n",
    "iso_diff = basis_data.copy()\n",
    "iso_diff['cluster'] = iso_diff['molecule'].map(data['cluster'])\n",
    "iso_diff['cluster'] = iso_diff['cluster'] + 1\n",
    "iso_diff['cluster'] = iso_diff['cluster'].astype('category')\n",
    "\n",
    "iso_diff.dropna(inplace=True)\n",
    "\n"
   ],
   "metadata": {
    "collapsed": false,
    "ExecuteTime": {
     "end_time": "2024-03-25T18:43:22.792411Z",
     "start_time": "2024-03-25T18:43:20.810712Z"
    }
   },
   "id": "ac8de11e1cb4ef3e",
   "execution_count": 156,
   "outputs": []
  },
  {
   "cell_type": "code",
   "source": [
    "# create the same plot as above but without using a facet grid and just creating a 2 x 4 grid of plots\n",
    "import matplotlib.pyplot as plt\n",
    "import seaborn as sns\n",
    "from matplotlib.ticker import ScalarFormatter\n",
    "\n",
    "plot_data = iso_diff.query('omega==0')\n",
    "\n",
    "basis_labels = ['aug-pVDZ', 'aug-pVTZ', 'aug-pVQZ', 'aug-pCVDZ', 'aug-pCVTZ', 'aug-pCVQZ', 'd-aug-pVDZ', 'd-aug-pVTZ', 'd-aug-pVQZ', 'd-aug-pCVDZ',\n",
    "                'd-aug-pCVTZ', 'd-aug-pCVQZ']\n",
    "basis_order = ['aug-cc-pVDZ', 'aug-cc-pCVDZ', 'aug-cc-pVTZ', 'aug-cc-pCVTZ', 'aug-cc-pVQZ', 'aug-cc-pCVQZ', 'd-aug-cc-pVDZ', 'd-aug-cc-pCVDZ', 'd-aug-cc-pVTZ',\n",
    "               'd-aug-cc-pCVTZ', 'd-aug-cc-pVQZ', 'd-aug-cc-pCVQZ']\n",
    "basis_order = ['aug-cc-pVDZ', 'aug-cc-pVTZ', 'aug-cc-pVQZ', 'aug-cc-pCVDZ', 'aug-cc-pCVTZ', 'aug-cc-pCVQZ', 'd-aug-cc-pVDZ', 'd-aug-cc-pVTZ', 'd-aug-cc-pVQZ',\n",
    "               'd-aug-cc-pCVDZ', 'd-aug-cc-pCVTZ', 'd-aug-cc-pCVQZ']\n",
    "basis_labels=['s-D','s-T', 's-Q', 's-CD', 's-CT', 's-CQ', 'd-D', 'd-T', 'd-Q', 'd-CD', 'd-CT', 'd-CQ']\n",
    "#basis_labels = ['s-D','s-CD', 's-T', 's-CT', 's-Q', 's-CQ', 'd-D', 'd-CD', 'd-T', 'd-CT', 'd-Q', 'd-CQ']\n",
    "\n",
    "plot_data = plot_data.query('basis!=\"aug-cc-pV5Z\" and basis!=\"aug-cc-pV6Z\" and basis!=\"d-aug-cc-pV5Z\" and basis!=\"d-aug-cc-pV6Z\"')\n",
    "plot_data['basis'] = plot_data['basis'].astype('category')\n",
    "plot_data['basis'] = plot_data['basis'].cat.reorder_categories(basis_order)\n",
    "\n",
    "# remove unused basis sets\n",
    "sns.set_style('darkgrid')\n",
    "with sns.plotting_context('paper', font_scale=1.25, ):\n",
    "    sharey=True\n",
    "    fig, axes = plt.subplots(3, 2, figsize=(8, 8), sharex=True, sharey=sharey)\n",
    "    for i, ax in enumerate(axes.flat):\n",
    "        with sns.axes_style(\"darkgrid\"):\n",
    "            if i == 0:\n",
    "                # plot all the cluster in a single plot without cluster labels\n",
    "                cluster_data = plot_data\n",
    "                #sns.lineplot(data=cluster_data, x='basis', y='alphaE', ax=ax, color='black', legend=False, hue='mol_system')\n",
    "                sns.stripplot(data=cluster_data, x='basis', y='alphaE', hue='mol_system', ax=ax, size=5, alpha=.75, dodge=False, palette='colorblind',\n",
    "                              legend=True)\n",
    "                cluster_size = plot_data.molecule.unique().size\n",
    "                ax.set_title(f'All Data ({cluster_size})')\n",
    "            else:\n",
    "                cluster_data = plot_data.query('cluster==@i')\n",
    "                sns.lineplot(data=cluster_data, x='basis', y='alphaE', ax=ax, color='black', legend=False, hue=None,errorbar=('ci',0))\n",
    "                sns.stripplot(data=cluster_data, x='basis', y='alphaE', hue='mol_system', ax=ax, size=5, alpha=.75, dodge=False, palette='colorblind',\n",
    "                              legend=False)\n",
    "                cluster_size = plot_data.query('cluster==@i').molecule.unique().size\n",
    "                ax.set_title(f'Cluster {i} ({cluster_size})')\n",
    "            ax.set_xticks(range(0, 12))\n",
    "            ax.set_xticklabels(basis_labels, rotation=45)\n",
    "\n",
    "            ax.axhline(y=threshold, linestyle='dashdot', color='red', linewidth=.50)\n",
    "            ax.axhline(y=-threshold, linestyle='dashdot', color='red', linewidth=.50)\n",
    "            ax.axhline(y=.00, linestyle='--', color='red', linewidth=.35)\n",
    "\n",
    "            if sharey:\n",
    "                ax.set_yscale('symlog', linthresh=.1)\n",
    "                ax.set_ylim(-30, 30)\n",
    "                ax.yaxis.set_major_formatter(ScalarFormatter())\n",
    "            # set background color to grey\n",
    "            #ax.set_facecolor('lightgrey')\n",
    "\n",
    "            # set y grid lines only to black\n",
    "            ax.yaxis.grid(True, color='black', linestyle='-', linewidth=.15)\n",
    "\n",
    "            # set y limits\n",
    "\n",
    "            if i % 2 == 0:\n",
    "                ax.set_ylabel(r'$\\alpha$ Percent Error')\n",
    "            else:\n",
    "                ax.set_ylabel('')\n",
    "            ax.set_xlabel('')\n",
    "\n",
    "            for j in range(3, 12, 3):\n",
    "                ax.axvline(x=j-.5, linestyle='dotted', color='black', linewidth=.15)\n",
    "\n",
    "    # create the legend\n",
    "\n",
    "    handles, labels = axes.flat[0].get_legend_handles_labels()\n",
    "    # remove the legend from the first plot\n",
    "    axes.flat[0].legend_.remove()\n",
    "    fig.legend(handles, labels, loc='center', bbox_to_anchor=(0.5, 0.00), ncol=3, fancybox=True, fontsize=10)\n",
    "\n",
    "    fig.tight_layout()\n",
    "    fig.savefig(paper_path.joinpath('alpha_convergence.png'), dpi=600, bbox_inches='tight')\n",
    "    #ax.legend(loc='center', bbox_to_anchor=(0.5, 1.25), ncol=3, fancybox=True, fontsize=10)\n",
    "\n"
   ],
   "metadata": {
    "collapsed": false,
    "ExecuteTime": {
     "end_time": "2024-03-25T18:43:27.745721Z",
     "start_time": "2024-03-25T18:43:24.039127Z"
    }
   },
   "id": "c1c60efe315a3a32",
   "execution_count": 157,
   "outputs": []
  },
  {
   "cell_type": "code",
   "source": [
    "\n",
    "\n",
    "cdata = iso_diff.dropna().query('omega==0 and basis==\"aug-cc-pVDZ\"')\n",
    "cluster_table = cdata[['molecule', 'cluster', 'mol_system']].drop_duplicates().sort_values('mol_system')\n",
    "mol_table = pd.DataFrame()\n",
    "#mol_table.columns = [f'Cluster {i}' for i in range(1, len(cluster_table['cluster'].unique()))]\n",
    "\n",
    "cluster_data = []\n",
    "for cluster_id, group in cluster_table.groupby('cluster'):\n",
    "    print(cluster_id)\n",
    "    cs = pd.Series(group['molecule'])\n",
    "    cs.name = f'Cluster {int(cluster_id)}'\n",
    "    cs.reset_index(drop=True, inplace=True)\n",
    "    cluster_data.append(cs)\n",
    "\n",
    "mol_table = pd.concat(cluster_data, axis=1)\n",
    "# sort the values of each column alphabetically\n",
    "mol_table = mol_table.fillna('-')\n",
    "mol_table = mol_table.applymap(lambda x: '\\\\ce{' + str(x) + '}', na_action='ignore')\n",
    "# reverse the order to the table rowwise\n",
    "mol_table = mol_table.iloc[::-1]\n",
    "# map colorblind colormap to the columns\n",
    "mol_only = cluster_table['molecule']\n",
    "# make mol only into a table 9 x 10 \n",
    "\n",
    "# surround the values with \\ce{} to make them chemical formulas\n",
    "ms = mol_only.apply(lambda x: r'\\ce{' + str(x) + '}')\n",
    "# make a dictionary of the colors\n",
    "mol_dict = dict(zip(ms, cluster_table.mol_system))\n",
    "\n",
    "pal = sns.color_palette('muted', n_colors=3)\n",
    "colormap = dict(zip(cluster_table.mol_system.unique(), pal.as_hex()))\n",
    "mol_color = {mol: colormap[mol_dict[mol]] for mol in ms}\n",
    "# add white to \\ce{-} to make it white\n",
    "mol_color = {mol: colormap[mol_dict[mol]] for mol in ms}\n",
    "\n",
    "mol_color['\\ce{-}'] = 'white'\n",
    "# apply the colors to the dataframe based on mol_color dictionary\n",
    "\n",
    "#mol_df = mol_df.applymap(lambda x: '\\\\ce{' + str(x) + '}')\n",
    "mol_df = mol_table.style.apply(lambda x: [f'background-color: {mol_color[v]}' for v in x],\n",
    "                               axis=1)\n",
    "# before printing surround the values with \\ce{} to make them chemical formulas\n",
    "# adjust column names to be Cluster 1, Cluster 2, etc.\n",
    "# write the dataframe to a latex table\n",
    "mol_df.to_latex(paper_path.joinpath('cluster_molecule_table.tex'),\n",
    "                multicol_align='|c|',\n",
    "                hrules=True,\n",
    "                convert_css=True,\n",
    "                )\n",
    "\n",
    "mol_df\n",
    "\n"
   ],
   "metadata": {
    "collapsed": false,
    "ExecuteTime": {
     "end_time": "2024-03-25T18:43:35.829974Z",
     "start_time": "2024-03-25T18:43:35.804671Z"
    }
   },
   "id": "bffeb255471bf36c",
   "execution_count": 158,
   "outputs": []
  },
  {
   "cell_type": "code",
   "source": [],
   "metadata": {
    "collapsed": false,
    "ExecuteTime": {
     "end_time": "2024-03-20T21:34:59.673898Z",
     "start_time": "2024-03-20T21:34:59.671455Z"
    }
   },
   "id": "cafb1f67e7772d1e",
   "execution_count": 32,
   "outputs": []
  },
  {
   "cell_type": "code",
   "source": [],
   "metadata": {
    "collapsed": false,
    "ExecuteTime": {
     "end_time": "2024-03-20T21:34:59.832221Z",
     "start_time": "2024-03-20T21:34:59.829899Z"
    }
   },
   "id": "319a985982369d70",
   "execution_count": 32,
   "outputs": []
  },
  {
   "cell_type": "code",
   "source": [],
   "metadata": {
    "collapsed": false,
    "ExecuteTime": {
     "end_time": "2024-03-18T14:24:27.933119Z",
     "start_time": "2024-03-18T14:24:27.931453Z"
    }
   },
   "id": "1c284a1db1c7b1fd",
   "execution_count": 172,
   "outputs": []
  },
  {
   "cell_type": "code",
   "source": [
    "    "
   ],
   "metadata": {
    "collapsed": false,
    "ExecuteTime": {
     "end_time": "2024-03-18T14:24:27.936891Z",
     "start_time": "2024-03-18T14:24:27.935275Z"
    }
   },
   "id": "b0837ac32da219d4",
   "execution_count": 172,
   "outputs": []
  },
  {
   "cell_type": "code",
   "source": [],
   "metadata": {
    "collapsed": false,
    "ExecuteTime": {
     "end_time": "2024-03-18T14:24:27.939136Z",
     "start_time": "2024-03-18T14:24:27.937635Z"
    }
   },
   "id": "28ecf7e50e0136cd",
   "execution_count": 172,
   "outputs": []
  },
  {
   "cell_type": "code",
   "source": [],
   "metadata": {
    "collapsed": false,
    "ExecuteTime": {
     "end_time": "2024-03-18T14:24:27.941894Z",
     "start_time": "2024-03-18T14:24:27.940170Z"
    }
   },
   "id": "d9d47f214e684221",
   "execution_count": 172,
   "outputs": []
  },
  {
   "cell_type": "code",
   "source": [],
   "metadata": {
    "collapsed": false,
    "ExecuteTime": {
     "end_time": "2024-03-18T14:24:27.944200Z",
     "start_time": "2024-03-18T14:24:27.942666Z"
    }
   },
   "id": "58e04f74a40ba5e2",
   "execution_count": 172,
   "outputs": []
  },
  {
   "cell_type": "code",
   "source": [],
   "metadata": {
    "collapsed": false,
    "ExecuteTime": {
     "end_time": "2024-03-18T14:24:27.946537Z",
     "start_time": "2024-03-18T14:24:27.944996Z"
    }
   },
   "id": "5f31515aab9e0d80",
   "execution_count": 172,
   "outputs": []
  },
  {
   "cell_type": "code",
   "source": [],
   "metadata": {
    "collapsed": false,
    "ExecuteTime": {
     "end_time": "2024-03-18T14:24:27.948854Z",
     "start_time": "2024-03-18T14:24:27.947324Z"
    }
   },
   "id": "24a70d1bde350a7f",
   "execution_count": 172,
   "outputs": []
  },
  {
   "cell_type": "code",
   "source": [],
   "metadata": {
    "collapsed": false,
    "ExecuteTime": {
     "end_time": "2024-03-18T14:24:27.951708Z",
     "start_time": "2024-03-18T14:24:27.950146Z"
    }
   },
   "id": "565a8ad524ab5a75",
   "execution_count": 172,
   "outputs": []
  },
  {
   "cell_type": "code",
   "source": [],
   "metadata": {
    "collapsed": false,
    "ExecuteTime": {
     "end_time": "2024-03-18T14:24:27.954096Z",
     "start_time": "2024-03-18T14:24:27.952464Z"
    }
   },
   "id": "c5f296821683d931",
   "execution_count": 172,
   "outputs": []
  },
  {
   "cell_type": "code",
   "source": [],
   "metadata": {
    "collapsed": false,
    "ExecuteTime": {
     "end_time": "2024-03-18T14:24:27.956838Z",
     "start_time": "2024-03-18T14:24:27.955166Z"
    }
   },
   "id": "5517d784f8923dc4",
   "execution_count": 172,
   "outputs": []
  },
  {
   "cell_type": "code",
   "source": [],
   "metadata": {
    "collapsed": false,
    "ExecuteTime": {
     "end_time": "2024-03-18T14:24:27.959461Z",
     "start_time": "2024-03-18T14:24:27.957825Z"
    }
   },
   "id": "5130a9011dac86f8",
   "execution_count": 172,
   "outputs": []
  },
  {
   "cell_type": "code",
   "source": [],
   "metadata": {
    "collapsed": false,
    "ExecuteTime": {
     "end_time": "2024-03-18T14:24:27.961704Z",
     "start_time": "2024-03-18T14:24:27.960245Z"
    }
   },
   "id": "76cd0fdb333cc6d1",
   "execution_count": 172,
   "outputs": []
  },
  {
   "cell_type": "code",
   "source": [],
   "metadata": {
    "collapsed": false
   },
   "id": "6860f980a3b0a6d2",
   "execution_count": null,
   "outputs": []
  }
 ],
 "metadata": {
  "kernelspec": {
   "display_name": "Python 3 (ipykernel)",
   "language": "python",
   "name": "python3"
  },
  "language_info": {
   "codemirror_mode": {
    "name": "ipython",
    "version": 3
   },
   "file_extension": ".py",
   "mimetype": "text/x-python",
   "name": "python",
   "nbconvert_exporter": "python",
   "pygments_lexer": "ipython3",
   "version": "3.10.10"
  }
 },
 "nbformat": 4,
 "nbformat_minor": 5
}
