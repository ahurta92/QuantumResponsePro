{
 "cells": [
  {
   "cell_type": "code",
   "id": "initial_id",
   "metadata": {
    "ExecuteTime": {
     "end_time": "2024-05-16T23:57:57.356199Z",
     "start_time": "2024-05-16T23:57:57.262575Z"
    }
   },
   "source": [
    "\n",
    "import numpy as np\n",
    "\n",
    "from DataAnalysisClass import *\n",
    "from clustering_work import *\n",
    "\n",
    "single = ['aug-cc-pVDZ', 'aug-cc-pVTZ', 'aug-cc-pVQZ', 'aug-cc-pV5Z', 'aug-cc-pV6Z']\n",
    "single_polarized = ['aug-cc-pCVDZ', 'aug-cc-pCVTZ', 'aug-cc-pCVQZ']\n",
    "double = ['d-aug-cc-pVDZ', 'd-aug-cc-pVTZ', 'd-aug-cc-pVQZ', 'd-aug-cc-pV5Z', 'd-aug-cc-pV6Z']\n",
    "double_polarized = ['d-aug-cc-pCVDZ', 'd-aug-cc-pCVTZ', 'd-aug-cc-pCVQZ']\n",
    "all_basis_sets = single + single_polarized + double + double_polarized\n"
   ],
   "execution_count": 1,
   "outputs": []
  },
  {
   "cell_type": "code",
   "id": "8f5c78879c11d346",
   "metadata": {
    "ExecuteTime": {
     "end_time": "2024-05-16T23:57:57.359075Z",
     "start_time": "2024-05-16T23:57:57.357057Z"
    }
   },
   "source": [
    "\n",
    "database_path = Path('/home/ahurta92/data/august')\n",
    "paper_path = Path('response_paper_figures')\n",
    "\n"
   ],
   "execution_count": 2,
   "outputs": []
  },
  {
   "cell_type": "code",
   "id": "63fcb07efbde96d",
   "metadata": {
    "collapsed": false,
    "jupyter": {
     "outputs_hidden": false
    },
    "ExecuteTime": {
     "end_time": "2024-05-16T23:57:57.365616Z",
     "start_time": "2024-05-16T23:57:57.360086Z"
    }
   },
   "source": [
    "import glob\n",
    "\n",
    "# glob for .mol files in august molecules directory\n",
    "mols = glob.glob('/home/ahurta92/data/august/molecules/*.mol')\n",
    "mols = [mol.split('/')[-1].split('.')[0] for mol in mols]\n",
    "mols.remove('LiH_s')\n",
    "mols\n"
   ],
   "execution_count": 3,
   "outputs": []
  },
  {
   "cell_type": "markdown",
   "id": "fb7e546660b3ec45",
   "metadata": {
    "collapsed": false,
    "jupyter": {
     "outputs_hidden": false
    }
   },
   "source": []
  },
  {
   "cell_type": "code",
   "id": "73d141195488fcec",
   "metadata": {
    "collapsed": false,
    "jupyter": {
     "outputs_hidden": false
    },
    "ExecuteTime": {
     "end_time": "2024-05-16T23:57:57.938256Z",
     "start_time": "2024-05-16T23:57:57.870071Z"
    }
   },
   "source": [
    "august_database = PolarizabilityData(mols, 'hf', 'dipole', all_basis_sets, database_path, overwrite=False)"
   ],
   "execution_count": 4,
   "outputs": []
  },
  {
   "cell_type": "code",
   "id": "338a80e4fd7fe7b4",
   "metadata": {
    "collapsed": false,
    "jupyter": {
     "outputs_hidden": false
    },
    "ExecuteTime": {
     "end_time": "2024-05-16T23:57:58.623395Z",
     "start_time": "2024-05-16T23:57:58.454634Z"
    }
   },
   "source": [
    "august_database.save_dfs()"
   ],
   "execution_count": 5,
   "outputs": []
  },
  {
   "cell_type": "code",
   "id": "cdf4aec17c3a9160",
   "metadata": {
    "collapsed": false,
    "jupyter": {
     "outputs_hidden": false
    },
    "ExecuteTime": {
     "end_time": "2024-05-16T23:57:59.010148Z",
     "start_time": "2024-05-16T23:57:59.005846Z"
    }
   },
   "source": [
    "polar_data = august_database.iso_data.copy()"
   ],
   "execution_count": 6,
   "outputs": []
  },
  {
   "cell_type": "code",
   "id": "a91bac9ccc3ac2d6",
   "metadata": {
    "collapsed": false,
    "jupyter": {
     "outputs_hidden": false
    },
    "ExecuteTime": {
     "end_time": "2024-05-16T23:57:59.618103Z",
     "start_time": "2024-05-16T23:57:59.491052Z"
    }
   },
   "source": [
    "eigen_data = MRAComparedBasisDF(august_database.alpha_eigen, ['molecule', 'omega', 'ij'], ['alpha'], True)\n",
    "eigen_data.set_index(['molecule', 'omega', 'ij', 'basis'], inplace=True)\n",
    "eigen_data = eigen_data['alphaE']\n",
    "eigen_data = eigen_data.reset_index()\n",
    "eigen_data\n"
   ],
   "execution_count": 7,
   "outputs": []
  },
  {
   "cell_type": "code",
   "id": "7649105c4c21b7a6",
   "metadata": {
    "collapsed": false,
    "jupyter": {
     "outputs_hidden": false
    },
    "ExecuteTime": {
     "end_time": "2024-05-16T23:58:01.141290Z",
     "start_time": "2024-05-16T23:58:00.849986Z"
    }
   },
   "source": [
    "mol_datas = []\n",
    "for mol in eigen_data.molecule.unique():\n",
    "    mol_data = eigen_data.query('molecule==@mol and omega==0 and ij.isin([\"xx\", \"yy\", \"zz\"])')\n",
    "    mol_data.set_index(['basis', 'ij'], inplace=True)\n",
    "    mol_data = pd.Series(mol_data['alphaE'], name=mol)\n",
    "    mol_datas.append(mol_data)\n",
    "\n",
    "mol_data = pd.concat(mol_datas, axis=1)\n",
    "eigen_data = mol_data.T.dropna()\n",
    "eigen_data"
   ],
   "execution_count": 8,
   "outputs": []
  },
  {
   "cell_type": "code",
   "execution_count": null,
   "id": "95738c4835a64ca7",
   "metadata": {
    "ExecuteTime": {
     "end_time": "2024-03-25T18:07:37.988015Z",
     "start_time": "2024-03-25T18:07:37.986415Z"
    },
    "collapsed": false,
    "jupyter": {
     "outputs_hidden": false
    }
   },
   "source": [],
   "outputs": []
  },
  {
   "cell_type": "code",
   "execution_count": 9,
   "id": "9a460c067e6c4069",
   "metadata": {
    "ExecuteTime": {
     "end_time": "2024-03-25T18:07:40.122264Z",
     "start_time": "2024-03-25T18:07:40.042938Z"
    },
    "collapsed": false,
    "jupyter": {
     "outputs_hidden": false
    }
   },
   "source": [
    "\n",
    "basis_data = MRAComparedBasisDF(polar_data, ['molecule', 'omega'], ['alpha', 'gamma'], True)\n",
    "\n",
    "\n",
    "def get_basis_data(basis_data, omega=8):\n",
    "    df = basis_data.query('omega==@omega')\n",
    "    alphab = {}\n",
    "    gammab = {}\n",
    "    for b in basis_data.basis.unique():\n",
    "        bdata = df.query('basis==@b')\n",
    "        alphab[b] = bdata.set_index('molecule').alphaE\n",
    "        gammab[b] = bdata.set_index('molecule').gammaE\n",
    "    alpha_df = pd.DataFrame(alphab)\n",
    "    gamma_df = pd.DataFrame(gammab)\n",
    "    return alpha_df, gamma_df\n",
    "\n",
    "\n",
    "data = get_basis_data(basis_data, 0)[0]\n",
    "data.drop(['aug-cc-pV5Z', 'aug-cc-pV6Z', 'd-aug-cc-pV5Z', 'd-aug-cc-pV6Z'], axis=1, inplace=True)\n",
    "data.dropna(inplace=True)\n"
   ],
   "outputs": []
  },
  {
   "cell_type": "code",
   "execution_count": 10,
   "id": "3cb3a342bafc5d6c",
   "metadata": {
    "ExecuteTime": {
     "end_time": "2024-03-25T18:07:42.255411Z",
     "start_time": "2024-03-25T18:07:42.246108Z"
    },
    "collapsed": false,
    "jupyter": {
     "outputs_hidden": false
    }
   },
   "source": [
    "data"
   ],
   "outputs": []
  },
  {
   "cell_type": "code",
   "execution_count": 11,
   "id": "46672288b813f436",
   "metadata": {
    "ExecuteTime": {
     "end_time": "2024-03-25T18:07:42.521175Z",
     "start_time": "2024-03-25T18:07:42.516298Z"
    },
    "collapsed": false,
    "jupyter": {
     "outputs_hidden": false
    }
   },
   "source": [
    "\n",
    "def cluster_basis_data(data, n_clusters=8):\n",
    "    scaler = StandardScaler()\n",
    "    X = data.to_numpy()\n",
    "    data_scaled = scaler.fit_transform(X)\n",
    "    # Create an AgglomerativeClustering instance with n_clusters\n",
    "    agglo = AgglomerativeClustering(n_clusters=n_clusters)\n",
    "    # Fit the model to your data and get the cluster assignments in one step\n",
    "    labels = agglo.fit_predict(data_scaled)\n",
    "    data['cluster'] = labels\n",
    "\n",
    "    return data\n",
    "\n",
    "\n",
    "def inv_symlog(y, linthresh):\n",
    "    \"\"\"Inverse of symmetric log transformation.\"\"\"\n",
    "    return np.sign(y) * linthresh * (np.exp(np.abs(y)) - 1)\n",
    "\n",
    "\n",
    "def symlog(x, linthresh):\n",
    "    \"\"\"Symmetric log transformation.\"\"\"\n",
    "\n",
    "    copy_x = x.copy()\n",
    "    copy_x[np.abs(x) < linthresh] = 0\n",
    "    #return np.log(np.abs(copy_x/linthresh))\n",
    "    #return np.sign(copy_x) * np.log1p(np.abs(copy_x / linthresh))\n",
    "    return np.sign(copy_x) * np.log1p(np.abs(copy_x / linthresh))"
   ],
   "outputs": []
  },
  {
   "cell_type": "code",
   "execution_count": null,
   "id": "e70ddaccd88563de",
   "metadata": {
    "ExecuteTime": {
     "end_time": "2024-03-25T18:07:43.250039Z",
     "start_time": "2024-03-25T18:07:43.247973Z"
    },
    "collapsed": false,
    "jupyter": {
     "outputs_hidden": false
    }
   },
   "source": [],
   "outputs": []
  },
  {
   "cell_type": "code",
   "execution_count": 12,
   "id": "caa0ebc0c1e26c0d",
   "metadata": {
    "ExecuteTime": {
     "end_time": "2024-03-25T18:07:43.494498Z",
     "start_time": "2024-03-25T18:07:43.492054Z"
    },
    "collapsed": false,
    "jupyter": {
     "outputs_hidden": false
    }
   },
   "source": [
    "\n",
    "from sklearn import preprocessing"
   ],
   "outputs": []
  },
  {
   "cell_type": "code",
   "execution_count": 13,
   "id": "f88a8532a822c842",
   "metadata": {
    "ExecuteTime": {
     "end_time": "2024-03-25T18:07:43.817816Z",
     "start_time": "2024-03-25T18:07:43.815289Z"
    },
    "collapsed": false,
    "jupyter": {
     "outputs_hidden": false
    }
   },
   "source": [
    "from sklearn.model_selection import GridSearchCV\n",
    "from sklearn.mixture import GaussianMixture\n",
    "# plot data_matrix for each column\n",
    "import matplotlib.pyplot as plt\n",
    "import seaborn as sns\n",
    "import pandas as pd\n"
   ],
   "outputs": []
  },
  {
   "cell_type": "code",
   "execution_count": 14,
   "id": "a258722e1382e38e",
   "metadata": {
    "ExecuteTime": {
     "end_time": "2024-03-25T18:07:44.604881Z",
     "start_time": "2024-03-25T18:07:44.563903Z"
    },
    "collapsed": false,
    "jupyter": {
     "outputs_hidden": false
    }
   },
   "source": [
    "data = get_basis_data(basis_data, 0)[0]\n",
    "#data= mol_data.T\n",
    "data.drop(['aug-cc-pV5Z', 'aug-cc-pV6Z', 'd-aug-cc-pV5Z', 'd-aug-cc-pV6Z'], axis=1, inplace=True)\n",
    "# drop DZ basis sets\n",
    "#data.drop(['aug-cc-pVDZ', 'd-aug-cc-pVDZ','aug-cc-pCVDZ','d-aug-cc-pCVDZ'], axis=1, inplace=True)\n",
    "#data.drop(['aug-cc-pVTZ', 'd-aug-cc-pVTZ','aug-cc-pCVTZ','d-aug-cc-pCVTZ'], axis=1, inplace=True)\n",
    "data.dropna(inplace=True)\n",
    "data\n",
    "\n"
   ],
   "outputs": []
  },
  {
   "cell_type": "code",
   "execution_count": 15,
   "id": "14ab5276150cd5fd",
   "metadata": {
    "ExecuteTime": {
     "end_time": "2024-03-25T18:21:42.771815Z",
     "start_time": "2024-03-25T18:21:41.153925Z"
    },
    "collapsed": false,
    "jupyter": {
     "outputs_hidden": false
    }
   },
   "source": [
    "threshold = 5e-2  # threshold for symlog transformation           \n",
    "\n",
    "quantile = preprocessing.QuantileTransformer(n_quantiles=10)\n",
    "robust = preprocessing.RobustScaler()\n",
    "normalizer = preprocessing.Normalizer()\n",
    "standard = preprocessing.StandardScaler()\n",
    "\n",
    "data_matrix = data.to_numpy()\n",
    "# normalize all values to be between +1 and -1 \n",
    "#data_matrix/=np.max(np.abs(data_matrix))\n",
    "\n",
    "\n",
    "data_matrix = symlog(data_matrix, threshold)\n",
    "#data_matrix = quantile.fit_transform(data_matrix)\n",
    "#data_matrix=standard.fit_transform(data_matrix)\n",
    "data_matrix = normalizer.fit_transform(data_matrix)\n",
    "\n",
    "fig, axes = plt.subplots(4, 3, figsize=(18, 6), sharex=True, sharey=True)\n",
    "for i, ax in enumerate(axes.flat):\n",
    "    sns.histplot(data_matrix[:, i], ax=ax, kde=False, bins=10)\n",
    "    ax.set_title(data.columns[i])\n",
    "\n",
    "\n",
    "def gmm_bic_score(estimator, X):\n",
    "    return -estimator.bic(X)"
   ],
   "outputs": []
  },
  {
   "cell_type": "code",
   "execution_count": 130,
   "id": "31fe90bfad4af565",
   "metadata": {
    "ExecuteTime": {
     "end_time": "2024-03-25T18:22:16.203630Z",
     "start_time": "2024-03-25T18:21:44.232798Z"
    },
    "collapsed": false,
    "jupyter": {
     "outputs_hidden": false
    }
   },
   "source": [
    "\n",
    "\n",
    "\n",
    "param_grid = {\n",
    "    'n_components': range(1, 16),\n",
    "    'init_params': ['kmeans', 'random_from_data'],  #\n",
    "    'covariance_type': ['spherical']\n",
    "}\n",
    "\n",
    "grid_search = GridSearchCV(GaussianMixture(tol=1e-9, n_init=100, max_iter=2000),\n",
    "                           param_grid=param_grid, scoring=gmm_bic_score, verbose=3, )\n",
    "model = grid_search\n",
    "\n",
    "X = data_matrix\n",
    "#grid_search.fit(X)\n",
    "model.fit(X)\n",
    "\n",
    "df = pd.DataFrame(grid_search.cv_results_)[\n",
    "    [\"param_n_components\", \"param_covariance_type\", \"mean_test_score\"]\n",
    "]\n",
    "df[\"mean_test_score\"] = -df[\"mean_test_score\"]\n",
    "df = df.rename(\n",
    "    columns={\n",
    "        \"param_n_components\": \"Number of components\",\n",
    "        \"param_covariance_type\": \"Type of covariance\",\n",
    "        \"mean_test_score\": \"BIC score\",\n",
    "    }\n",
    ")\n",
    "\n",
    "print(grid_search.best_params_)\n",
    "df.sort_values(by=\"BIC score\").head()\n",
    "\n",
    "# plot the BIC score for each model\n",
    "fig, ax = plt.subplots(figsize=(10, 6))\n",
    "sns.lineplot(data=df, x=\"Number of components\", y=\"BIC score\", hue=\"Type of covariance\", ax=ax)\n",
    "\n"
   ],
   "outputs": []
  },
  {
   "cell_type": "code",
   "execution_count": 52,
   "id": "ac8de11e1cb4ef3e",
   "metadata": {
    "ExecuteTime": {
     "end_time": "2024-05-15T20:52:09.935276Z",
     "start_time": "2024-05-15T20:52:09.351727Z"
    },
    "collapsed": false,
    "jupyter": {
     "outputs_hidden": false
    }
   },
   "source": [
    "threshold = 5e-2  # threshold for symlog transformation           \n",
    "\n",
    "data = get_basis_data(basis_data, 0)[0]\n",
    "#data= mol_data.T\n",
    "data.drop(['aug-cc-pV5Z', 'aug-cc-pV6Z', 'd-aug-cc-pV5Z', 'd-aug-cc-pV6Z'], axis=1, inplace=True)\n",
    "data.drop(['aug-cc-pVDZ', 'd-aug-cc-pVDZ', 'aug-cc-pCVDZ', 'd-aug-cc-pCVDZ'], axis=1, inplace=True)\n",
    "data.drop(['aug-cc-pVTZ', 'd-aug-cc-pVTZ', 'aug-cc-pCVTZ', 'd-aug-cc-pCVTZ'], axis=1, inplace=True)\n",
    "data.dropna(inplace=True)\n",
    "normalizer = preprocessing.Normalizer()\n",
    "standard = preprocessing.StandardScaler()\n",
    "\n",
    "data_matrix = symlog(data_matrix, threshold)\n",
    "data_matrix = normalizer.fit_transform(data_matrix)\n",
    "\n",
    "num_clusters = 4\n",
    "\n",
    "model = GaussianMixture(n_components=num_clusters, covariance_type='spherical', tol=1e-8, n_init=100, max_iter=2000,\n",
    "                        init_params='kmeans', )\n",
    "model.fit(data_matrix)\n",
    "\n",
    "labels = model.predict(data_matrix)\n",
    "\n",
    "color_iter = sns.color_palette(\"tab10\", 2)[::-1]\n",
    "#labels = gmm.predict(data_matrix)\n",
    "score = silhouette_score(data_matrix, labels, metric='euclidean')\n",
    "data['cluster'] = labels\n",
    "print(\"silhouette score\", score)\n",
    "\n",
    "average_vectors = []\n",
    "std_vectors = []\n",
    "for i in range(num_clusters):\n",
    "    cluster_points = data_matrix[labels == i]\n",
    "    average_vector = np.mean(cluster_points, axis=0)\n",
    "    std_vector = np.std(cluster_points, axis=0)\n",
    "    average_vectors.append(average_vector)\n",
    "    std_vectors.append(std_vector)\n",
    "\n",
    "avg_df = pd.DataFrame(average_vectors, )\n",
    "avg_df['mean'] = avg_df.mean(axis=1)\n",
    "avg_df = avg_df.sort_values('mean', ascending=False)\n",
    "avg_df.drop('mean', axis=1, inplace=True)\n",
    "\n",
    "std_df = pd.DataFrame(std_vectors, )\n",
    "\n",
    "sorted_index = avg_df.index\n",
    "std_df = std_df.reindex(sorted_index)\n",
    "std_df.sort_index(inplace=True)\n",
    "\n",
    "cluster_map = {sorted_index[i]: i for i in range(len(sorted_index))}\n",
    "avg_df = avg_df.reset_index(drop=True)\n",
    "# avg_df = avg_df.apply(lambda x: inv_symlog(x, threshold))\n",
    "# avg_df = pd.DataFrame(scaler.inverse_transform(avg_df), columns=avg_df.columns,\n",
    "#                      index=avg_df.index)\n",
    "print(cluster_map)\n",
    "data['cluster'] = data['cluster'].map(cluster_map)\n",
    "\n",
    "iso_diff = basis_data.copy()\n",
    "iso_diff['cluster'] = iso_diff['molecule'].map(data['cluster'])\n",
    "iso_diff['cluster'] = iso_diff['cluster'] + 1\n",
    "iso_diff['cluster'] = iso_diff['cluster'].astype('category')\n",
    "\n",
    "iso_diff.dropna(inplace=True)\n",
    "\n"
   ],
   "outputs": []
  },
  {
   "cell_type": "code",
   "execution_count": 53,
   "id": "e70f2687-c61d-419e-8fcd-b272ec6957db",
   "metadata": {
    "ExecuteTime": {
     "end_time": "2024-05-15T20:52:11.418796Z",
     "start_time": "2024-05-15T20:52:11.384935Z"
    }
   },
   "source": [
    "plot_data = iso_diff.query('omega==0')\n",
    "\n",
    "basis_labels = ['aug-pVDZ', 'aug-pVTZ', 'aug-pVQZ', 'aug-pCVDZ', 'aug-pCVTZ', 'aug-pCVQZ', 'd-aug-pVDZ', 'd-aug-pVTZ',\n",
    "                'd-aug-pVQZ', 'd-aug-pCVDZ',\n",
    "                'd-aug-pCVTZ', 'd-aug-pCVQZ']\n",
    "basis_order = ['aug-cc-pVDZ', 'aug-cc-pCVDZ', 'aug-cc-pVTZ', 'aug-cc-pCVTZ', 'aug-cc-pVQZ', 'aug-cc-pCVQZ',\n",
    "               'd-aug-cc-pVDZ', 'd-aug-cc-pCVDZ', 'd-aug-cc-pVTZ',\n",
    "               'd-aug-cc-pCVTZ', 'd-aug-cc-pVQZ', 'd-aug-cc-pCVQZ']\n",
    "basis_order = ['aug-cc-pVDZ', 'aug-cc-pVTZ', 'aug-cc-pVQZ', 'aug-cc-pCVDZ', 'aug-cc-pCVTZ', 'aug-cc-pCVQZ',\n",
    "               'd-aug-cc-pVDZ', 'd-aug-cc-pVTZ', 'd-aug-cc-pVQZ',\n",
    "               'd-aug-cc-pCVDZ', 'd-aug-cc-pCVTZ', 'd-aug-cc-pCVQZ']\n",
    "basis_labels = ['s-D', 's-T', 's-Q', 's-CD', 's-CT', 's-CQ', 'd-D', 'd-T', 'd-Q', 'd-CD', 'd-CT', 'd-CQ']\n",
    "#basis_labels = ['s-D','s-CD', 's-T', 's-CT', 's-Q', 's-CQ', 'd-D', 'd-CD', 'd-T', 'd-CT', 'd-Q', 'd-CQ']\n",
    "\n",
    "plot_data = plot_data.query(\n",
    "    'basis!=\"aug-cc-pV5Z\" and basis!=\"aug-cc-pV6Z\" and basis!=\"d-aug-cc-pV5Z\" and basis!=\"d-aug-cc-pV6Z\"')\n",
    "plot_data['basis'] = plot_data['basis'].astype('category')\n",
    "plot_data['basis'] = plot_data['basis'].cat.reorder_categories(basis_order)\n",
    "plot_data"
   ],
   "outputs": []
  },
  {
   "cell_type": "code",
   "execution_count": 58,
   "id": "39141c9eefa916fd",
   "metadata": {
    "ExecuteTime": {
     "end_time": "2024-05-15T20:52:52.192494Z",
     "start_time": "2024-05-15T20:52:49.454419Z"
    }
   },
   "source": [
    "\n",
    "from matplotlib.ticker import ScalarFormatter\n",
    "\n",
    "sharey=True\n",
    "if sharey:\n",
    "    ci=0\n",
    "else:\n",
    "    ci = 95\n",
    "\n",
    "g = sns.FacetGrid(plot_data, col='cluster', col_wrap=2, sharey=sharey, sharex=True, height=3, aspect=1.5)\n",
    "\n",
    "g.map_dataframe(sns.lineplot,x='basis',y='alphaE', hue='Type', size=10, alpha=.75,palette=['k'],errorbar=('ci',ci), \n",
    "                legend=False)\n",
    "g.map_dataframe(sns.stripplot,x='basis',y='alphaE', hue='mol_system', size=5, alpha=.75, dodge=False, palette='colorblind',\n",
    "      legend=True)\n",
    "g.set_ylabels(r'$\\alpha$ Percent Error')\n",
    "\n",
    "for i,ax in enumerate(g.axes.flat):\n",
    "    j=i+1\n",
    "    cluster_size = plot_data.query('cluster==@j').molecule.unique().size\n",
    "    ax.set_title(f'Cluster {j} ({cluster_size}/ {plot_data.molecule.unique().size})')\n",
    "    \n",
    "    ax.axhline(y=threshold, linestyle='dashdot', color='red', linewidth=.50)\n",
    "    ax.axhline(y=-threshold, linestyle='dashdot', color='red', linewidth=.50)\n",
    "    ax.axhline(y=.00, linestyle='--', color='red', linewidth=.35)\n",
    "    if sharey:\n",
    "        ax.set_yscale('symlog', linthresh=.1)\n",
    "        ax.yaxis.set_major_formatter(ScalarFormatter())\n",
    "    ax.set_xticks(range(0, 12))\n",
    "    ax.set_xticklabels(basis_labels, rotation=45)\n",
    "    ax.axvline(x=2.5, linestyle='dotted', color='black', linewidth=.15)\n",
    "    ax.axvline(x=5.5, linestyle='dotted', color='black', linewidth=.15)\n",
    "    ax.axvline(x=8.5, linestyle='dotted', color='black', linewidth=.15)\n",
    "    ax.set_xlabel('')\n",
    "\n",
    "handles, labels = ax.get_legend_handles_labels()\n",
    "# add a legened\n",
    "g.fig.legend(handles, labels, loc='center', bbox_to_anchor=(0.5, 0.00), ncol=3, fancybox=True, fontsize=10)\n",
    "\n",
    "g.fig.tight_layout()\n",
    "g.fig.savefig(paper_path.joinpath('alpha_convergence.png'), dpi=600, bbox_inches='tight')\n"
   ],
   "outputs": []
  },
  {
   "cell_type": "code",
   "execution_count": 59,
   "id": "bffeb255471bf36c",
   "metadata": {
    "ExecuteTime": {
     "end_time": "2024-05-15T20:53:10.709812Z",
     "start_time": "2024-05-15T20:53:10.667813Z"
    },
    "collapsed": false,
    "jupyter": {
     "outputs_hidden": false
    }
   },
   "source": [
    "\n",
    "\n",
    "cdata = iso_diff.dropna().query('omega==0 and basis==\"aug-cc-pVDZ\"')\n",
    "cluster_table = cdata[['molecule', 'cluster', 'mol_system']].drop_duplicates().sort_values('mol_system')\n",
    "mol_table = pd.DataFrame()\n",
    "#mol_table.columns = [f'Cluster {i}' for i in range(1, len(cluster_table['cluster'].unique()))]\n",
    "\n",
    "cluster_data = []\n",
    "for cluster_id, group in cluster_table.groupby('cluster'):\n",
    "    print(cluster_id)\n",
    "    cs = pd.Series(group['molecule'])\n",
    "    cs.name = f'Cluster {int(cluster_id)}'\n",
    "    cs.reset_index(drop=True, inplace=True)\n",
    "    cluster_data.append(cs)\n",
    "\n",
    "mol_table = pd.concat(cluster_data, axis=1)\n",
    "# sort the values of each column alphabetically\n",
    "mol_table = mol_table.fillna('-')\n",
    "mol_table = mol_table.applymap(lambda x: '\\\\ce{' + str(x) + '}', na_action='ignore')\n",
    "# reverse the order to the table rowwise\n",
    "mol_table = mol_table.iloc[::-1]\n",
    "# map colorblind colormap to the columns\n",
    "mol_only = cluster_table['molecule']\n",
    "# make mol only into a table 9 x 10 \n",
    "\n",
    "# surround the values with \\ce{} to make them chemical formulas\n",
    "ms = mol_only.apply(lambda x: r'\\ce{' + str(x) + '}')\n",
    "# make a dictionary of the colors\n",
    "mol_dict = dict(zip(ms, cluster_table.mol_system))\n",
    "\n",
    "pal = sns.color_palette('muted', n_colors=3)\n",
    "colormap = dict(zip(cluster_table.mol_system.unique(), pal.as_hex()))\n",
    "mol_color = {mol: colormap[mol_dict[mol]] for mol in ms}\n",
    "# add white to \\ce{-} to make it white\n",
    "mol_color = {mol: colormap[mol_dict[mol]] for mol in ms}\n",
    "\n",
    "mol_color['\\\\ce{-}'] = 'white'\n",
    "# apply the colors to the dataframe based on mol_color dictionary\n",
    "\n",
    "#mol_df = mol_df.applymap(lambda x: '\\\\ce{' + str(x) + '}')\n",
    "mol_df = mol_table.style.apply(lambda x: [f'background-color: {mol_color[v]}' for v in x],\n",
    "                               axis=1)\n",
    "# before printing surround the values with \\ce{} to make them chemical formulas\n",
    "# adjust column names to be Cluster 1, Cluster 2, etc.\n",
    "# write the dataframe to a latex table\n",
    "mol_df.to_latex(paper_path.joinpath('cluster_molecule_table.tex'),\n",
    "                multicol_align='|c|',\n",
    "                hrules=True,\n",
    "                convert_css=True,\n",
    "                )\n",
    "\n",
    "mol_df\n",
    "\n"
   ],
   "outputs": []
  },
  {
   "cell_type": "code",
   "execution_count": null,
   "id": "cafb1f67e7772d1e",
   "metadata": {
    "ExecuteTime": {
     "end_time": "2024-03-20T21:34:59.673898Z",
     "start_time": "2024-03-20T21:34:59.671455Z"
    },
    "collapsed": false,
    "jupyter": {
     "outputs_hidden": false
    }
   },
   "source": [],
   "outputs": []
  },
  {
   "cell_type": "code",
   "execution_count": 32,
   "id": "319a985982369d70",
   "metadata": {
    "ExecuteTime": {
     "end_time": "2024-03-20T21:34:59.832221Z",
     "start_time": "2024-03-20T21:34:59.829899Z"
    },
    "collapsed": false,
    "jupyter": {
     "outputs_hidden": false
    }
   },
   "source": [],
   "outputs": []
  },
  {
   "cell_type": "code",
   "execution_count": 172,
   "id": "1c284a1db1c7b1fd",
   "metadata": {
    "ExecuteTime": {
     "end_time": "2024-03-18T14:24:27.933119Z",
     "start_time": "2024-03-18T14:24:27.931453Z"
    },
    "collapsed": false,
    "jupyter": {
     "outputs_hidden": false
    }
   },
   "source": [],
   "outputs": []
  },
  {
   "cell_type": "code",
   "execution_count": 62,
   "id": "b0837ac32da219d4",
   "metadata": {
    "ExecuteTime": {
     "end_time": "2024-03-18T14:24:27.936891Z",
     "start_time": "2024-03-18T14:24:27.935275Z"
    },
    "collapsed": false,
    "jupyter": {
     "outputs_hidden": false
    }
   },
   "source": [
    "august_database.iso_data"
   ],
   "outputs": []
  },
  {
   "cell_type": "code",
   "execution_count": null,
   "id": "28ecf7e50e0136cd",
   "metadata": {
    "ExecuteTime": {
     "end_time": "2024-03-18T14:24:27.939136Z",
     "start_time": "2024-03-18T14:24:27.937635Z"
    },
    "collapsed": false,
    "jupyter": {
     "outputs_hidden": false
    }
   },
   "source": [],
   "outputs": []
  },
  {
   "cell_type": "code",
   "execution_count": 172,
   "id": "d9d47f214e684221",
   "metadata": {
    "ExecuteTime": {
     "end_time": "2024-03-18T14:24:27.941894Z",
     "start_time": "2024-03-18T14:24:27.940170Z"
    },
    "collapsed": false,
    "jupyter": {
     "outputs_hidden": false
    }
   },
   "source": [],
   "outputs": []
  },
  {
   "cell_type": "code",
   "execution_count": 172,
   "id": "58e04f74a40ba5e2",
   "metadata": {
    "ExecuteTime": {
     "end_time": "2024-03-18T14:24:27.944200Z",
     "start_time": "2024-03-18T14:24:27.942666Z"
    },
    "collapsed": false,
    "jupyter": {
     "outputs_hidden": false
    }
   },
   "source": [],
   "outputs": []
  },
  {
   "cell_type": "code",
   "execution_count": 172,
   "id": "5f31515aab9e0d80",
   "metadata": {
    "ExecuteTime": {
     "end_time": "2024-03-18T14:24:27.946537Z",
     "start_time": "2024-03-18T14:24:27.944996Z"
    },
    "collapsed": false,
    "jupyter": {
     "outputs_hidden": false
    }
   },
   "source": [],
   "outputs": []
  },
  {
   "cell_type": "code",
   "execution_count": 172,
   "id": "24a70d1bde350a7f",
   "metadata": {
    "ExecuteTime": {
     "end_time": "2024-03-18T14:24:27.948854Z",
     "start_time": "2024-03-18T14:24:27.947324Z"
    },
    "collapsed": false,
    "jupyter": {
     "outputs_hidden": false
    }
   },
   "source": [],
   "outputs": []
  },
  {
   "cell_type": "code",
   "execution_count": 172,
   "id": "565a8ad524ab5a75",
   "metadata": {
    "ExecuteTime": {
     "end_time": "2024-03-18T14:24:27.951708Z",
     "start_time": "2024-03-18T14:24:27.950146Z"
    },
    "collapsed": false,
    "jupyter": {
     "outputs_hidden": false
    }
   },
   "source": [],
   "outputs": []
  },
  {
   "cell_type": "code",
   "execution_count": 172,
   "id": "c5f296821683d931",
   "metadata": {
    "ExecuteTime": {
     "end_time": "2024-03-18T14:24:27.954096Z",
     "start_time": "2024-03-18T14:24:27.952464Z"
    },
    "collapsed": false,
    "jupyter": {
     "outputs_hidden": false
    }
   },
   "source": [],
   "outputs": []
  },
  {
   "cell_type": "code",
   "execution_count": 172,
   "id": "5517d784f8923dc4",
   "metadata": {
    "ExecuteTime": {
     "end_time": "2024-03-18T14:24:27.956838Z",
     "start_time": "2024-03-18T14:24:27.955166Z"
    },
    "collapsed": false,
    "jupyter": {
     "outputs_hidden": false
    }
   },
   "source": [],
   "outputs": []
  },
  {
   "cell_type": "code",
   "execution_count": 172,
   "id": "5130a9011dac86f8",
   "metadata": {
    "ExecuteTime": {
     "end_time": "2024-03-18T14:24:27.959461Z",
     "start_time": "2024-03-18T14:24:27.957825Z"
    },
    "collapsed": false,
    "jupyter": {
     "outputs_hidden": false
    }
   },
   "source": [],
   "outputs": []
  },
  {
   "cell_type": "code",
   "execution_count": 172,
   "id": "76cd0fdb333cc6d1",
   "metadata": {
    "ExecuteTime": {
     "end_time": "2024-03-18T14:24:27.961704Z",
     "start_time": "2024-03-18T14:24:27.960245Z"
    },
    "collapsed": false,
    "jupyter": {
     "outputs_hidden": false
    }
   },
   "source": [],
   "outputs": []
  },
  {
   "cell_type": "code",
   "execution_count": null,
   "id": "6860f980a3b0a6d2",
   "metadata": {
    "collapsed": false,
    "jupyter": {
     "outputs_hidden": false
    }
   },
   "source": [],
   "outputs": []
  }
 ],
 "metadata": {
  "kernelspec": {
   "display_name": "Python 3 (ipykernel)",
   "language": "python",
   "name": "python3"
  },
  "language_info": {
   "codemirror_mode": {
    "name": "ipython",
    "version": 3
   },
   "file_extension": ".py",
   "mimetype": "text/x-python",
   "name": "python",
   "nbconvert_exporter": "python",
   "pygments_lexer": "ipython3",
   "version": "3.12.3"
  }
 },
 "nbformat": 4,
 "nbformat_minor": 5
}
