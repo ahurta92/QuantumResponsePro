{
 "cells": [
  {
   "cell_type": "code",
   "execution_count": 2,
   "id": "initial_id",
   "metadata": {
    "collapsed": true,
    "ExecuteTime": {
     "end_time": "2023-11-02T13:49:15.733070101Z",
     "start_time": "2023-11-02T13:49:14.895726506Z"
    }
   },
   "source": [
    "from ConvergenceAnalysis import *\n"
   ],
   "outputs": []
  },
  {
   "cell_type": "code",
   "execution_count": 3,
   "id": "99ed865a9faae4ca",
   "metadata": {
    "ExecuteTime": {
     "end_time": "2023-11-02T13:49:15.733364357Z",
     "start_time": "2023-11-02T13:49:15.732858900Z"
    }
   },
   "source": [
    "fd_beta_data\n",
    "# rename System to Molecule\n",
    "fd_beta_data.rename(columns={'System':'Molecule'}, inplace=True)\n",
    "mols= fd_beta_data.Molecule.unique().tolist()\n",
    "# remove KF \n",
    "mols.remove('KF')\n",
    "mols.remove('LiBr')\n"
   ],
   "outputs": []
  },
  {
   "cell_type": "code",
   "execution_count": 4,
   "id": "2da73d104c40b0d0",
   "metadata": {
    "ExecuteTime": {
     "end_time": "2023-11-02T13:49:15.733965467Z",
     "start_time": "2023-11-02T13:49:15.733038620Z"
    }
   },
   "source": [
    "fd_beta_data"
   ],
   "outputs": []
  },
  {
   "cell_type": "code",
   "execution_count": 5,
   "id": "a06f04a3268cddf",
   "metadata": {
    "ExecuteTime": {
     "end_time": "2023-11-02T13:49:15.735089492Z",
     "start_time": "2023-11-02T13:49:15.733166913Z"
    }
   },
   "source": [
    "# query molecule LiH \n",
    "fd_beta_data.query('Molecule == \"LiH\"')"
   ],
   "outputs": []
  },
  {
   "cell_type": "code",
   "execution_count": 6,
   "id": "a504285993f94b65",
   "metadata": {
    "ExecuteTime": {
     "end_time": "2023-11-02T13:49:15.735199779Z",
     "start_time": "2023-11-02T13:49:15.733249757Z"
    }
   },
   "source": [
    "from DataAnalysisClass import *\n",
    "\n",
    "october_absolute_kain_path = Path('/mnt/data/madness_data/october_beta_absolute_kain/')\n",
    "paper_path = Path('/home/adrianhurtado/projects/writing/mra-tdhf-polarizability/Figures_v2')\n",
    "\n"
   ],
   "outputs": []
  },
  {
   "cell_type": "markdown",
   "source": [],
   "metadata": {
    "collapsed": false
   },
   "id": "26b3109e145c3e93"
  },
  {
   "cell_type": "code",
   "execution_count": 7,
   "id": "49a40d392031dbd7",
   "metadata": {
    "ExecuteTime": {
     "end_time": "2023-11-02T13:49:15.735960724Z",
     "start_time": "2023-11-02T13:49:15.733406245Z"
    }
   },
   "source": [
    "\n",
    "single = ['aug-cc-pVDZ', 'aug-cc-pVTZ', 'aug-cc-pVQZ', 'aug-cc-pV5Z', 'aug-cc-pV6Z']\n",
    "single_polarized = ['aug-cc-pCVDZ', 'aug-cc-pCVTZ', 'aug-cc-pCVQZ']\n",
    "double = ['d-aug-cc-pVDZ', 'd-aug-cc-pVTZ', 'd-aug-cc-pVQZ', 'd-aug-cc-pV5Z', 'd-aug-cc-pV6Z']\n",
    "double_polarized = ['d-aug-cc-pCVDZ', 'd-aug-cc-pCVTZ', 'd-aug-cc-pCVQZ']\n",
    "all_basis_sets = single + single_polarized + double + double_polarized\n"
   ],
   "outputs": []
  },
  {
   "cell_type": "code",
   "execution_count": 7,
   "source": [],
   "metadata": {
    "collapsed": false,
    "ExecuteTime": {
     "end_time": "2023-11-02T13:49:15.736045103Z",
     "start_time": "2023-11-02T13:49:15.733476772Z"
    }
   },
   "id": "2a5f94c4e78999ed",
   "outputs": []
  },
  {
   "cell_type": "code",
   "execution_count": 7,
   "source": [],
   "metadata": {
    "collapsed": false,
    "ExecuteTime": {
     "end_time": "2023-11-02T13:49:15.736830036Z",
     "start_time": "2023-11-02T13:49:15.733540549Z"
    }
   },
   "id": "ae9e4efc79f93013",
   "outputs": []
  },
  {
   "cell_type": "code",
   "execution_count": 7,
   "source": [],
   "metadata": {
    "collapsed": false,
    "ExecuteTime": {
     "end_time": "2023-11-02T13:49:15.736904367Z",
     "start_time": "2023-11-02T13:49:15.733604162Z"
    }
   },
   "id": "a793c22c7f0c5ff",
   "outputs": []
  },
  {
   "cell_type": "code",
   "execution_count": 7,
   "source": [],
   "metadata": {
    "collapsed": false,
    "ExecuteTime": {
     "end_time": "2023-11-02T13:49:15.736960779Z",
     "start_time": "2023-11-02T13:49:15.733668189Z"
    }
   },
   "id": "288b0c05ccbb68d1",
   "outputs": []
  },
  {
   "cell_type": "code",
   "execution_count": 8,
   "source": [
    "low_q_data=QuadraticDatabase(mols,all_basis_sets,'hf','dipole',[0],october_absolute_kain_path\n",
    "                             .joinpath('low-low'),False)\n",
    "high_q_data=QuadraticDatabase(mols,all_basis_sets,'hf','dipole',[0],october_absolute_kain_path\n",
    "                             .joinpath('high-high'),False)\n",
    "# save data"
   ],
   "metadata": {
    "collapsed": false,
    "ExecuteTime": {
     "end_time": "2023-11-02T13:49:15.789064786Z",
     "start_time": "2023-11-02T13:49:15.733731884Z"
    }
   },
   "id": "38b2607e73d927be",
   "outputs": []
  },
  {
   "cell_type": "code",
   "execution_count": 9,
   "source": [
    "#low_q_data.save_dfs()\n",
    "high_q_data.save_dfs()\n"
   ],
   "metadata": {
    "collapsed": false,
    "ExecuteTime": {
     "end_time": "2023-11-02T13:49:15.892044122Z",
     "start_time": "2023-11-02T13:49:15.761258616Z"
    }
   },
   "id": "42c8851b375a30a4",
   "outputs": []
  },
  {
   "cell_type": "code",
   "execution_count": 9,
   "source": [],
   "metadata": {
    "collapsed": false,
    "ExecuteTime": {
     "end_time": "2023-11-02T13:49:15.920694575Z",
     "start_time": "2023-11-02T13:49:15.813993698Z"
    }
   },
   "id": "4c746c51b977870",
   "outputs": []
  },
  {
   "cell_type": "code",
   "execution_count": 9,
   "source": [],
   "metadata": {
    "collapsed": false,
    "ExecuteTime": {
     "end_time": "2023-11-02T13:49:15.920926308Z",
     "start_time": "2023-11-02T13:49:15.816333175Z"
    }
   },
   "id": "a009e2f541674eb0",
   "outputs": []
  },
  {
   "cell_type": "code",
   "execution_count": 10,
   "source": [
    "\n",
    "# get the percent error relative to the FD datal\n",
    "beta_data=low_q_data.q_df.copy()\n",
    "beta_data=high_q_data.q_df.copy()\n",
    "\n",
    "low_z_data=create_z_beta_data(low_q_data.q_df)\n",
    "# add column called MRA-LOW\n",
    "low_z_data['Protocol']='Medium'\n",
    "high_z_data=create_z_beta_data(high_q_data.q_df)\n",
    "# add column called MRA-HIGH\n",
    "high_z_data['Protocol']='High'\n",
    "# concatenate the two dataframes\n",
    "z_data=pd.concat([low_z_data,high_z_data],axis=0)\n",
    "\n",
    "\n",
    "z_data\n"
   ],
   "metadata": {
    "collapsed": false,
    "ExecuteTime": {
     "end_time": "2023-11-02T13:49:18.739310546Z",
     "start_time": "2023-11-02T13:49:15.820031663Z"
    }
   },
   "id": "b0d5c61df0cd4372",
   "outputs": []
  },
  {
   "cell_type": "code",
   "execution_count": 11,
   "source": [
    "\n",
    "beta_z_plot=compare_z_beta_to_basis_set(z_data,'Absolute Percent Error')\n",
    "# save the plot\n",
    "beta_z_plot.savefig(paper_path.joinpath('beta_z_plot_2.png'),dpi=600)\n"
   ],
   "metadata": {
    "collapsed": false,
    "ExecuteTime": {
     "end_time": "2023-11-02T13:49:20.388214696Z",
     "start_time": "2023-11-02T13:49:18.740944548Z"
    }
   },
   "id": "35bdf653f9242650",
   "outputs": []
  },
  {
   "cell_type": "code",
   "execution_count": 12,
   "source": [
    "z_data.query('basis==\"MRA\"').sort_values('molecule')"
   ],
   "metadata": {
    "collapsed": false,
    "ExecuteTime": {
     "end_time": "2023-11-02T13:49:20.398865453Z",
     "start_time": "2023-11-02T13:49:20.390447193Z"
    }
   },
   "id": "83739772c8b99eb7",
   "outputs": []
  },
  {
   "cell_type": "code",
   "execution_count": 13,
   "source": [
    "\n",
    "\n",
    "\n",
    "low_data = PolarizabilityData(mols, 'hf', 'dipole', all_basis_sets,\n",
    "                              october_absolute_kain_path.joinpath\n",
    "                              ('low-low'),overwrite=False)\n",
    "high_data = PolarizabilityData(mols, 'hf', 'dipole', all_basis_sets, october_absolute_kain_path\n",
    "                               .joinpath('high-high'),overwrite=True)\n",
    "\n",
    "low_data.save_dfs()\n",
    "high_data.save_dfs()\n",
    "low_data.polar_data.query('omega==0')\n",
    "low_data.iso_data.query('omega==0')\n"
   ],
   "metadata": {
    "collapsed": false,
    "ExecuteTime": {
     "end_time": "2023-11-02T13:49:30.930439095Z",
     "start_time": "2023-11-02T13:49:20.399528821Z"
    }
   },
   "id": "e16f1f08f0be73af",
   "outputs": []
  },
  {
   "cell_type": "code",
   "execution_count": 14,
   "source": [
    "low_z_data=create_z_data(low_data,'two')\n",
    "# create Protocol column\n",
    "low_z_data['Protocol']='Medium'\n",
    "high_z_data=create_z_data(high_data,'two')\n",
    "high_z_data['Protocol']='High'\n",
    "z_data=pd.concat([low_z_data,high_z_data])\n",
    "z_data\n",
    "# remove HeNe\n",
    "z_data=z_data.query('molecule!=\"HeNe\"')\n",
    "\n"
   ],
   "metadata": {
    "collapsed": false,
    "ExecuteTime": {
     "end_time": "2023-11-02T13:49:31.107821566Z",
     "start_time": "2023-11-02T13:49:31.020220371Z"
    }
   },
   "id": "ca153c57b7b62e32",
   "outputs": []
  },
  {
   "cell_type": "code",
   "execution_count": 15,
   "source": [
    "z_abs_error_plot=compare_z_to_basis_set(z_data,y='Absolute Percent Error')\n",
    "z_abs_error_plot.savefig(paper_path.joinpath('z_abs_error_plot_2.png'),dpi=600)\n"
   ],
   "metadata": {
    "collapsed": false,
    "ExecuteTime": {
     "end_time": "2023-11-02T13:49:32.547060427Z",
     "start_time": "2023-11-02T13:49:31.110180357Z"
    }
   },
   "id": "fcf3dc94d7a413e8",
   "outputs": []
  },
  {
   "cell_type": "code",
   "execution_count": 15,
   "source": [],
   "metadata": {
    "collapsed": false,
    "ExecuteTime": {
     "end_time": "2023-11-02T13:49:32.548929570Z",
     "start_time": "2023-11-02T13:49:32.546887045Z"
    }
   },
   "id": "e04690bec52e94d4",
   "outputs": []
  },
  {
   "cell_type": "code",
   "execution_count": 16,
   "source": [
    "low_data.iso_data.query('omega==0')\n",
    "# grab the basis set data only \n",
    "basis_data=low_data.iso_data.query('omega==0 and basis!=\"MRA\"').copy()\n",
    "# add a column for the MRA data for each molecule by mapping based on molecule\n",
    "basis_data['alpha(MRA)']=basis_data['molecule'].map(low_data.iso_data.query('omega==0 and '\n",
    "                                                                      'basis==\"MRA\"').set_index\n",
    "                                                    ('molecule')['alpha'].to_dict())\n",
    "basis_data['gamma(MRA)']=basis_data['molecule'].map(low_data.iso_data.query('omega==0 and '\n",
    "                                                                      'basis==\"MRA\"').set_index\n",
    "                                                    ('molecule')['gamma'].to_dict())\n",
    "#basis_data\n",
    "# compute the percent error in alpha and gamma\n",
    "basis_data['alpha error']=100*(basis_data['alpha']-basis_data['alpha(MRA)'])/basis_data['alpha(MRA)']\n",
    "basis_data['gamma error']=100*(basis_data['gamma']-basis_data['gamma(MRA)'])/basis_data['gamma(MRA)']\n"
   ],
   "metadata": {
    "collapsed": false,
    "ExecuteTime": {
     "end_time": "2023-11-02T13:49:32.562646196Z",
     "start_time": "2023-11-02T13:49:32.560130013Z"
    }
   },
   "id": "66a5f683fba13946",
   "outputs": []
  },
  {
   "cell_type": "code",
   "execution_count": 17,
   "source": [
    "basis_data=make_detailed_df(basis_data)\n",
    "basis_data\n"
   ],
   "metadata": {
    "collapsed": false,
    "ExecuteTime": {
     "end_time": "2023-11-02T13:49:32.628904150Z",
     "start_time": "2023-11-02T13:49:32.563156797Z"
    }
   },
   "id": "dd4cb455c5d1f284",
   "outputs": []
  },
  {
   "cell_type": "code",
   "execution_count": 18,
   "source": [
    "with sns.plotting_context('paper',font_scale=1.5):\n",
    "    g=sns.catplot(col='valence',x='Type',y='alpha error',hue='mol_system',\n",
    "                  data=basis_data,kind='strip',dodge=False,jitter=True,col_wrap=2,\n",
    "                  s=100,palette='colorblind',height=4,aspect=1.5,sharey=False)\n",
    "    \n",
    "    for ax in g.axes.flat:\n",
    "        #ax.set_yscale('symlog', linthresh=1e-2)\n",
    "        # draw horizontal line at .05%\n",
    "        ax.axhline(y=.05,linestyle='--',color='orange')\n",
    "        ax.axhline(y=-.05,linestyle='--',color='orange')\n",
    "         \n",
    "        ax.set_ylabel(r'$\\alpha$ Error (%)')\n",
    "        # rotate the xlabels\n",
    "        for label in ax.get_xticklabels():\n",
    "            label.set_rotation(45)\n",
    "            label.set_horizontalalignment('right')\n",
    "        \n",
    "        \n",
    "            \n",
    "        \n"
   ],
   "metadata": {
    "collapsed": false,
    "ExecuteTime": {
     "end_time": "2023-11-02T13:49:33.633512077Z",
     "start_time": "2023-11-02T13:49:32.604399920Z"
    }
   },
   "id": "e2fa165013f33171",
   "outputs": []
  },
  {
   "cell_type": "code",
   "execution_count": 19,
   "source": [
    "low_data.iso_data.query('omega==0')\n",
    "# grab the basis set data only \n",
    "basis_data=low_data.iso_data.query('omega==0 and basis!=\"MRA\"').copy()\n",
    "# add a column for the MRA data for each molecule by mapping based on molecule\n",
    "basis_data['alpha(MRA)']=basis_data['molecule'].map(low_data.iso_data.query('omega==0 and '\n",
    "                                                                            'basis==\"MRA\"').set_index\n",
    "                                                    ('molecule')['alpha'].to_dict())\n",
    "basis_data['gamma(MRA)']=basis_data['molecule'].map(low_data.iso_data.query('omega==0 and '\n",
    "                                                                            'basis==\"MRA\"').set_index\n",
    "                                                    ('molecule')['gamma'].to_dict())\n",
    "#basis_data\n",
    "# compute the percent error in alpha and gamma\n",
    "basis_data['alpha error']=100*(basis_data['alpha']-basis_data['alpha(MRA)'])/basis_data['alpha(MRA)']\n",
    "basis_data['gamma error']=100*(basis_data['gamma']-basis_data['gamma(MRA)'])/basis_data['gamma(MRA)']\n",
    "\n"
   ],
   "metadata": {
    "collapsed": false,
    "ExecuteTime": {
     "end_time": "2023-11-02T13:49:33.643330584Z",
     "start_time": "2023-11-02T13:49:33.636779026Z"
    }
   },
   "id": "f763908f41bd49bd",
   "outputs": []
  },
  {
   "cell_type": "code",
   "execution_count": 20,
   "source": [
    "basis_data=high_q_data.beta_hrs_df.query('basis!=\"MRA\" & Afreq==0.0').copy()\n",
    "basis_data['beta(MRA)']=basis_data['molecule'].map(low_q_data.beta_hrs_df.query('basis==\"MRA\" & '\n",
    "                                                                                'Afreq==0.0')\n",
    "                                                   .set_index('molecule')['Beta'].to_dict())\n",
    "basis_data['beta error']=100*(basis_data['Beta']-basis_data['beta(MRA)'])/basis_data['beta(MRA)']\n",
    "basis_data=make_detailed_df(basis_data)\n",
    "basis_data"
   ],
   "metadata": {
    "collapsed": false,
    "ExecuteTime": {
     "end_time": "2023-11-02T13:49:33.774272592Z",
     "start_time": "2023-11-02T13:49:33.644422774Z"
    }
   },
   "id": "61130501050af919",
   "outputs": []
  },
  {
   "cell_type": "code",
   "execution_count": 21,
   "source": [
    "with sns.plotting_context('paper',font_scale=1.0):\n",
    "    g=sns.catplot(col='valence',x='Type',y='beta error',hue='mol_system',\n",
    "                  data=basis_data,kind='strip',dodge=False,jitter=True,col_wrap=2,\n",
    "                  s=100,palette='colorblind',height=4,aspect=1.5,sharey=False)\n",
    "\n",
    "    for ax in g.axes.flat:\n",
    "        #ax.set_yscale('symlog', linthresh=1e-2)\n",
    "        # draw horizontal line at .05%\n",
    "        ax.axhline(y=.05,linestyle='--',color='orange')\n",
    "        ax.axhline(y=-.05,linestyle='--',color='orange')\n",
    "\n",
    "        ax.set_ylabel(r'$\\beta_{HRS}$ Error (%)')\n",
    "        # rotate the xlabels\n",
    "        for label in ax.get_xticklabels():\n",
    "            label.set_rotation(45)\n",
    "            label.set_horizontalalignment('right')\n"
   ],
   "metadata": {
    "collapsed": false,
    "ExecuteTime": {
     "end_time": "2023-11-02T13:49:34.688020151Z",
     "start_time": "2023-11-02T13:49:33.672206475Z"
    }
   },
   "id": "d99bac834ff03156",
   "outputs": []
  },
  {
   "cell_type": "code",
   "execution_count": 22,
   "source": [
    "\n",
    "basis_data=high_q_data.q_df.query('basis!=\"MRA\" & Afreq==0.0 & ijk==\"ZZZ\"').copy()\n",
    "basis_data['beta(MRA)']=basis_data['molecule'].map(low_q_data.q_df.query('basis==\"MRA\" & '\n",
    "                                                                                'Afreq==0.0 & ijk==\"ZZZ\"')\n",
    "                                                   .set_index('molecule')['Beta'].to_dict())\n",
    "basis_data['beta error']=100*(basis_data['Beta']-basis_data['beta(MRA)'])/basis_data['beta(MRA)']\n",
    "basis_data=make_detailed_df(basis_data)\n",
    "basis_data\n"
   ],
   "metadata": {
    "collapsed": false,
    "ExecuteTime": {
     "end_time": "2023-11-02T13:49:34.817200758Z",
     "start_time": "2023-11-02T13:49:34.692941228Z"
    }
   },
   "id": "c102c127307ca3a8",
   "outputs": []
  },
  {
   "cell_type": "code",
   "execution_count": 23,
   "source": [
    "\n",
    "with sns.plotting_context('paper',font_scale=1.0):\n",
    "    g=sns.catplot(col='valence',x='Type',y='beta error',hue='mol_system',\n",
    "                  data=basis_data,kind='strip',dodge=False,jitter=True,col_wrap=2,\n",
    "                  s=100,palette='colorblind',height=4,aspect=1.5,sharey=False)\n",
    "\n",
    "    for ax in g.axes.flat:\n",
    "        #ax.set_yscale('symlog', linthresh=1e-2)\n",
    "        # draw horizontal line at .05%\n",
    "        ax.axhline(y=.05,linestyle='--',color='orange')\n",
    "        ax.axhline(y=-.05,linestyle='--',color='orange')\n",
    "\n",
    "        ax.set_ylabel(r'$\\beta_{ZZZ}$ Error (%)')\n",
    "        # rotate the xlabels\n",
    "        for label in ax.get_xticklabels():\n",
    "            label.set_rotation(45)\n",
    "            label.set_horizontalalignment('right')\n",
    "\n"
   ],
   "metadata": {
    "collapsed": false,
    "ExecuteTime": {
     "end_time": "2023-11-02T13:49:35.721413123Z",
     "start_time": "2023-11-02T13:49:34.719504185Z"
    }
   },
   "id": "72452134cd0ce7b4",
   "outputs": []
  },
  {
   "cell_type": "code",
   "execution_count": 23,
   "source": [],
   "metadata": {
    "collapsed": false,
    "ExecuteTime": {
     "end_time": "2023-11-02T13:49:35.723262518Z",
     "start_time": "2023-11-02T13:49:35.721762827Z"
    }
   },
   "id": "ffe644494f6121f4",
   "outputs": []
  }
 ],
 "metadata": {
  "kernelspec": {
   "display_name": "Python 3 (ipykernel)",
   "language": "python",
   "name": "python3"
  },
  "language_info": {
   "codemirror_mode": {
    "name": "ipython",
    "version": 3
   },
   "file_extension": ".py",
   "mimetype": "text/x-python",
   "name": "python",
   "nbconvert_exporter": "python",
   "pygments_lexer": "ipython3",
   "version": "3.10.10"
  }
 },
 "nbformat": 4,
 "nbformat_minor": 5
}
