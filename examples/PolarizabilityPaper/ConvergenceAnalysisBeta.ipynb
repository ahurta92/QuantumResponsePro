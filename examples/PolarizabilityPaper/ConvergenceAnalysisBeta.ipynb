{
 "cells": [
  {
   "cell_type": "code",
   "execution_count": 1,
   "id": "initial_id",
   "metadata": {
    "ExecuteTime": {
     "end_time": "2023-10-26T16:11:28.618132159Z",
     "start_time": "2023-10-26T16:11:28.015160910Z"
    },
    "collapsed": true
   },
   "outputs": [],
   "source": [
    "from ConvergenceAnalysis import *\n"
   ]
  },
  {
   "cell_type": "code",
   "execution_count": 2,
   "id": "99ed865a9faae4ca",
   "metadata": {
    "ExecuteTime": {
     "end_time": "2023-10-26T16:11:28.626690580Z",
     "start_time": "2023-10-26T16:11:28.619490170Z"
    }
   },
   "outputs": [],
   "source": [
    "fd_beta_data\n",
    "# rename System to Molecule\n",
    "fd_beta_data.rename(columns={'System':'Molecule'}, inplace=True)"
   ]
  },
  {
   "cell_type": "code",
   "execution_count": 3,
   "id": "2da73d104c40b0d0",
   "metadata": {
    "ExecuteTime": {
     "end_time": "2023-10-26T16:11:28.644052355Z",
     "start_time": "2023-10-26T16:11:28.625029971Z"
    }
   },
   "outputs": [
    {
     "data": {
      "text/html": [
       "<div>\n",
       "<style scoped>\n",
       "    .dataframe tbody tr th:only-of-type {\n",
       "        vertical-align: middle;\n",
       "    }\n",
       "\n",
       "    .dataframe tbody tr th {\n",
       "        vertical-align: top;\n",
       "    }\n",
       "\n",
       "    .dataframe thead th {\n",
       "        text-align: right;\n",
       "    }\n",
       "</style>\n",
       "<table border=\"1\" class=\"dataframe\">\n",
       "  <thead>\n",
       "    <tr style=\"text-align: right;\">\n",
       "      <th></th>\n",
       "      <th>Molecule</th>\n",
       "      <th>R</th>\n",
       "      <th>dipole</th>\n",
       "      <th>alpha</th>\n",
       "      <th>beta</th>\n",
       "    </tr>\n",
       "  </thead>\n",
       "  <tbody>\n",
       "    <tr>\n",
       "      <th>0</th>\n",
       "      <td>LiH</td>\n",
       "      <td>3.0150</td>\n",
       "      <td>-2.361805</td>\n",
       "      <td>21.874128</td>\n",
       "      <td>306.874000</td>\n",
       "    </tr>\n",
       "    <tr>\n",
       "      <th>1</th>\n",
       "      <td>BH</td>\n",
       "      <td>2.3289</td>\n",
       "      <td>-0.684961</td>\n",
       "      <td>22.559887</td>\n",
       "      <td>-10.458300</td>\n",
       "    </tr>\n",
       "    <tr>\n",
       "      <th>2</th>\n",
       "      <td>FH</td>\n",
       "      <td>1.7328</td>\n",
       "      <td>-0.756076</td>\n",
       "      <td>5.754232</td>\n",
       "      <td>-8.448100</td>\n",
       "    </tr>\n",
       "    <tr>\n",
       "      <th>3</th>\n",
       "      <td>CO</td>\n",
       "      <td>2.1320</td>\n",
       "      <td>0.104245</td>\n",
       "      <td>14.466680</td>\n",
       "      <td>31.408084</td>\n",
       "    </tr>\n",
       "    <tr>\n",
       "      <th>4</th>\n",
       "      <td>BF</td>\n",
       "      <td>2.3860</td>\n",
       "      <td>0.342808</td>\n",
       "      <td>16.645013</td>\n",
       "      <td>63.968600</td>\n",
       "    </tr>\n",
       "    <tr>\n",
       "      <th>5</th>\n",
       "      <td>NaCl</td>\n",
       "      <td>4.4613</td>\n",
       "      <td>NaN</td>\n",
       "      <td>28.700184</td>\n",
       "      <td>-222.796700</td>\n",
       "    </tr>\n",
       "    <tr>\n",
       "      <th>6</th>\n",
       "      <td>LiBr</td>\n",
       "      <td>4.1015</td>\n",
       "      <td>NaN</td>\n",
       "      <td>34.050885</td>\n",
       "      <td>-148.976600</td>\n",
       "    </tr>\n",
       "    <tr>\n",
       "      <th>7</th>\n",
       "      <td>KF</td>\n",
       "      <td>4.1035</td>\n",
       "      <td>NaN</td>\n",
       "      <td>15.588210</td>\n",
       "      <td>-52.430000</td>\n",
       "    </tr>\n",
       "    <tr>\n",
       "      <th>8</th>\n",
       "      <td>HeNe</td>\n",
       "      <td>2.7500</td>\n",
       "      <td>NaN</td>\n",
       "      <td>22.560640</td>\n",
       "      <td>-10.459700</td>\n",
       "    </tr>\n",
       "  </tbody>\n",
       "</table>\n",
       "</div>"
      ],
      "text/plain": [
       "  Molecule      R     dipole      alpha        beta\n",
       "0      LiH  3.0150 -2.361805  21.874128  306.874000\n",
       "1       BH  2.3289 -0.684961  22.559887  -10.458300\n",
       "2       FH  1.7328 -0.756076   5.754232   -8.448100\n",
       "3       CO  2.1320  0.104245  14.466680   31.408084\n",
       "4       BF  2.3860  0.342808  16.645013   63.968600\n",
       "5     NaCl  4.4613       NaN  28.700184 -222.796700\n",
       "6     LiBr  4.1015       NaN  34.050885 -148.976600\n",
       "7       KF  4.1035       NaN  15.588210  -52.430000\n",
       "8     HeNe  2.7500       NaN  22.560640  -10.459700"
      ]
     },
     "execution_count": 3,
     "metadata": {},
     "output_type": "execute_result"
    }
   ],
   "source": [
    "fd_beta_data"
   ]
  },
  {
   "cell_type": "code",
   "execution_count": 4,
   "id": "a06f04a3268cddf",
   "metadata": {
    "ExecuteTime": {
     "end_time": "2023-10-26T16:11:28.650868252Z",
     "start_time": "2023-10-26T16:11:28.638283746Z"
    }
   },
   "outputs": [
    {
     "data": {
      "text/html": [
       "<div>\n",
       "<style scoped>\n",
       "    .dataframe tbody tr th:only-of-type {\n",
       "        vertical-align: middle;\n",
       "    }\n",
       "\n",
       "    .dataframe tbody tr th {\n",
       "        vertical-align: top;\n",
       "    }\n",
       "\n",
       "    .dataframe thead th {\n",
       "        text-align: right;\n",
       "    }\n",
       "</style>\n",
       "<table border=\"1\" class=\"dataframe\">\n",
       "  <thead>\n",
       "    <tr style=\"text-align: right;\">\n",
       "      <th></th>\n",
       "      <th>Molecule</th>\n",
       "      <th>R</th>\n",
       "      <th>dipole</th>\n",
       "      <th>alpha</th>\n",
       "      <th>beta</th>\n",
       "    </tr>\n",
       "  </thead>\n",
       "  <tbody>\n",
       "    <tr>\n",
       "      <th>0</th>\n",
       "      <td>LiH</td>\n",
       "      <td>3.015</td>\n",
       "      <td>-2.361805</td>\n",
       "      <td>21.874128</td>\n",
       "      <td>306.874</td>\n",
       "    </tr>\n",
       "  </tbody>\n",
       "</table>\n",
       "</div>"
      ],
      "text/plain": [
       "  Molecule     R     dipole      alpha     beta\n",
       "0      LiH  3.015 -2.361805  21.874128  306.874"
      ]
     },
     "execution_count": 4,
     "metadata": {},
     "output_type": "execute_result"
    }
   ],
   "source": [
    "# query molecule LiH \n",
    "fd_beta_data.query('Molecule == \"LiH\"')"
   ]
  },
  {
   "cell_type": "code",
   "execution_count": 3,
   "id": "a504285993f94b65",
   "metadata": {
    "ExecuteTime": {
     "end_time": "2023-10-27T15:17:21.296933357Z",
     "start_time": "2023-10-27T15:17:21.189017751Z"
    }
   },
   "outputs": [
    {
     "ename": "ModuleNotFoundError",
     "evalue": "No module named 'plotly'",
     "output_type": "error",
     "traceback": [
      "\u001B[0;31m---------------------------------------------------------------------------\u001B[0m",
      "\u001B[0;31mModuleNotFoundError\u001B[0m                       Traceback (most recent call last)",
      "Cell \u001B[0;32mIn[3], line 1\u001B[0m\n\u001B[0;32m----> 1\u001B[0m \u001B[38;5;28;01mfrom\u001B[39;00m \u001B[38;5;21;01mDataAnalysisClass\u001B[39;00m \u001B[38;5;28;01mimport\u001B[39;00m \u001B[38;5;241m*\u001B[39m\n",
      "File \u001B[0;32m~/projects/QuantumResponsePro/examples/PolarizabilityPaper/DataAnalysisClass.py:5\u001B[0m\n\u001B[1;32m      3\u001B[0m \u001B[38;5;28;01mimport\u001B[39;00m \u001B[38;5;21;01mmatplotlib\u001B[39;00m \u001B[38;5;28;01mas\u001B[39;00m \u001B[38;5;21;01mmpl\u001B[39;00m\n\u001B[1;32m      4\u001B[0m \u001B[38;5;28;01mimport\u001B[39;00m \u001B[38;5;21;01mos\u001B[39;00m\n\u001B[0;32m----> 5\u001B[0m \u001B[38;5;28;01mimport\u001B[39;00m \u001B[38;5;21;01mplotly\u001B[39;00m\u001B[38;5;21;01m.\u001B[39;00m\u001B[38;5;21;01mgraph_objects\u001B[39;00m \u001B[38;5;28;01mas\u001B[39;00m \u001B[38;5;21;01mgo\u001B[39;00m\n\u001B[1;32m      6\u001B[0m \u001B[38;5;28;01mimport\u001B[39;00m \u001B[38;5;21;01mvtk\u001B[39;00m\n\u001B[1;32m      7\u001B[0m \u001B[38;5;28;01mfrom\u001B[39;00m \u001B[38;5;21;01mquantumresponsepro\u001B[39;00m\u001B[38;5;21;01m.\u001B[39;00m\u001B[38;5;21;01mBasisMRADataAssembler\u001B[39;00m \u001B[38;5;28;01mimport\u001B[39;00m \u001B[38;5;241m*\u001B[39m\n",
      "\u001B[0;31mModuleNotFoundError\u001B[0m: No module named 'plotly'"
     ]
    }
   ],
   "source": [
    "from DataAnalysisClass import *\n",
    "\n",
    "from DataAnalysisClass import *"
   ]
  },
  {
   "cell_type": "code",
   "execution_count": null,
   "id": "49a40d392031dbd7",
   "metadata": {},
   "outputs": [],
   "source": []
  }
 ],
 "metadata": {
  "kernelspec": {
   "display_name": "Python 3 (ipykernel)",
   "language": "python",
   "name": "python3"
  },
  "language_info": {
   "codemirror_mode": {
    "name": "ipython",
    "version": 3
   },
   "file_extension": ".py",
   "mimetype": "text/x-python",
   "name": "python",
   "nbconvert_exporter": "python",
   "pygments_lexer": "ipython3",
   "version": "3.10.10"
  }
 },
 "nbformat": 4,
 "nbformat_minor": 5
}
