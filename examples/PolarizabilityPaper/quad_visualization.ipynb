{
 "cells": [
  {
   "cell_type": "code",
   "execution_count": 3,
   "id": "a504285993f94b65",
   "metadata": {
    "ExecuteTime": {
     "end_time": "2023-11-19T15:31:15.115349384Z",
     "start_time": "2023-11-19T15:31:14.014223596Z"
    }
   },
   "outputs": [],
   "source": [
    "\n",
    "from pathlib import Path\n",
    "\n",
    "from DataAnalysisClass import *\n",
    "\n",
    "october_absolute_kain_path = Path('/mnt/data/madness_data/october_beta_absolute_kain/')\n",
    "paper_path = Path('/home/adrianhurtado/projects/writing/mra-tdhf-polarizability/Figures_v2')\n",
    "paper_path = Path('/home/adrianhurtado/projects/writing/thesis2023/PresentationMaterials')\n",
    "\n"
   ]
  },
  {
   "cell_type": "markdown",
   "source": [],
   "metadata": {
    "collapsed": false
   },
   "id": "26b3109e145c3e93"
  },
  {
   "cell_type": "code",
   "execution_count": 4,
   "id": "49a40d392031dbd7",
   "metadata": {
    "ExecuteTime": {
     "end_time": "2023-11-19T15:31:15.115869484Z",
     "start_time": "2023-11-19T15:31:15.075128127Z"
    }
   },
   "outputs": [],
   "source": [
    "\n",
    "single = ['aug-cc-pVDZ', 'aug-cc-pVTZ', 'aug-cc-pVQZ', 'aug-cc-pV5Z', 'aug-cc-pV6Z']\n",
    "single_polarized = ['aug-cc-pCVDZ', 'aug-cc-pCVTZ', 'aug-cc-pCVQZ']\n",
    "double = ['d-aug-cc-pVDZ', 'd-aug-cc-pVTZ', 'd-aug-cc-pVQZ', 'd-aug-cc-pV5Z', 'd-aug-cc-pV6Z']\n",
    "double_polarized = ['d-aug-cc-pCVDZ', 'd-aug-cc-pCVTZ', 'd-aug-cc-pCVQZ']\n",
    "all_basis_sets = single + single_polarized + double + double_polarized\n"
   ]
  },
  {
   "cell_type": "code",
   "execution_count": 5,
   "outputs": [],
   "source": [
    "\n",
    "\n",
    "beta_path = Path('/mnt/data/madness_data/august_no_symmetry')\n",
    "beta_mol = '/mnt/data/madness_data/august_no_symmetry/molecules/*.mol'\n",
    "beta_mos = ['FNO',\n",
    "            'CH3SH',\n",
    "            'N2H2',\n",
    "            'CH3NH2',\n",
    "            'HOCl',\n",
    "            'SiO',\n",
    "            'HBS',\n",
    "            'HBO',\n",
    "            'CH2BH',\n",
    "            'PH3O',\n",
    "            'ClF',\n",
    "            'HF',\n",
    "            'BH2Cl',\n",
    "            'Li2',\n",
    "            'SiH4',\n",
    "            'SF2',\n",
    "            'P2H4',\n",
    "            'NaCN',\n",
    "            'OCl2',\n",
    "            'CH3Cl',\n",
    "            'SCl2',\n",
    "            'HCCF',\n",
    "            'LiH',\n",
    "            'BF',\n",
    "            'SiH3F',\n",
    "            'HCONH2',\n",
    "            'CS',\n",
    "            'S2H2',\n",
    "            'FCN',\n",
    "            'NaCl',\n",
    "            'SiH3Cl',\n",
    "            'N2H4',\n",
    "            'NH2Cl',\n",
    "            'LiCl',\n",
    "            'NH3O',\n",
    "            'NH2OH',\n",
    "            'BH3',\n",
    "            'SO2',\n",
    "            'HCN',\n",
    "            'CH3BH2',\n",
    "            'NaLi',\n",
    "            'HOF',\n",
    "            'CH3F',\n",
    "            'HNS',\n",
    "            'CH3OH',\n",
    "            'Na2',\n",
    "            'O3',\n",
    "            'CH2NH',\n",
    "            'ClCN',\n",
    "            'Mg2',\n",
    "            'NH3',\n",
    "            'H2O',\n",
    "            'PH3',\n",
    "            'BHF2',\n",
    "            'LiCN',\n",
    "            'NH2F',\n",
    "            'CH4',\n",
    "            'HCl',\n",
    "            'HCCCl',\n",
    "            'HCOOH',\n",
    "            'HCHS',\n",
    "            'LiH_s',\n",
    "            'HCHO',\n",
    "            'SH2',\n",
    "            'CSO',\n",
    "            'HOOH',\n",
    "            'CO',\n",
    "            'HCP',\n",
    "            'NOCl',\n",
    "            'HNO',\n",
    "            'NaH',\n",
    "            'OF2',\n",
    "            'HNC',\n",
    "            'BH2F',\n",
    "            'LiBH4']\n"
   ],
   "metadata": {
    "collapsed": false,
    "ExecuteTime": {
     "end_time": "2023-11-19T15:31:15.352746187Z",
     "start_time": "2023-11-19T15:31:15.344618750Z"
    }
   },
   "id": "307d898a33065f33"
  },
  {
   "cell_type": "code",
   "execution_count": 5,
   "outputs": [],
   "source": [
    "\n",
    "beta_path = Path('/mnt/data/madness_data/august_no_symmetry')\n",
    "quad_data = QuadraticDatabase(beta_mos, all_basis_sets, 'hf', 'dipole', [0], beta_path, False)\n",
    "quad_data.save_dfs()\n",
    "# save data\n"
   ],
   "metadata": {
    "collapsed": false,
    "ExecuteTime": {
     "end_time": "2023-11-17T15:03:36.897294654Z",
     "start_time": "2023-11-17T15:03:34.349649730Z"
    }
   },
   "id": "ffe644494f6121f4"
  },
  {
   "cell_type": "code",
   "execution_count": 6,
   "outputs": [
    {
     "data": {
      "text/plain": "'CH3OH HCONH2 NH3O N2H4 HCCF SiH3F CH3F OCl2 S2H2 FNO N2 BF BHF2 LiH_s NaLi N2H2 SiO BeH2 NH2Cl CS SiH3Cl FCN HOCl LiH LiCl CH2NH Mg2 PH3 HCOOH HNS Cl2 H2 C2H2 SCl2 He CH3Cl LiCN NH3 O3 NaCl H2O HBS HOF HCl F2 C2H4 CH4 Mg Na2 Ar HCCCl HCHO ClCN Be NH2F CH3SH'"
     },
     "execution_count": 6,
     "metadata": {},
     "output_type": "execute_result"
    }
   ],
   "source": [
    "\n",
    "complete=set(quad_data.q_df.dropna().molecule.unique())\n",
    "' '.join(complete)\n"
   ],
   "metadata": {
    "collapsed": false,
    "ExecuteTime": {
     "end_time": "2023-11-17T15:03:36.967440069Z",
     "start_time": "2023-11-17T15:03:36.898759681Z"
    }
   },
   "id": "aa8b653906e378ac"
  },
  {
   "cell_type": "code",
   "execution_count": 9,
   "outputs": [],
   "source": [
    "from QuadVisualization import QuadVisualization"
   ],
   "metadata": {
    "collapsed": false,
    "ExecuteTime": {
     "end_time": "2023-11-17T15:03:48.402999938Z",
     "start_time": "2023-11-17T15:03:48.394825231Z"
    }
   },
   "id": "93b8b6a2d6fc7c1a"
  },
  {
   "cell_type": "code",
   "execution_count": 10,
   "outputs": [],
   "source": [
    "qv=QuadVisualization(quad_data)"
   ],
   "metadata": {
    "collapsed": false,
    "ExecuteTime": {
     "end_time": "2023-11-17T15:03:48.594807330Z",
     "start_time": "2023-11-17T15:03:48.588778387Z"
    }
   },
   "id": "b2a4b38a823d1f19"
  },
  {
   "cell_type": "code",
   "execution_count": 11,
   "outputs": [],
   "source": [
    "#qv.HyperpolarizabilityScene('NH2Cl',['aug-cc-pVDZ'])"
   ],
   "metadata": {
    "collapsed": false,
    "ExecuteTime": {
     "end_time": "2023-11-17T15:03:48.767182483Z",
     "start_time": "2023-11-17T15:03:48.758096346Z"
    }
   },
   "id": "b8a9e8c86f256f11"
  },
  {
   "cell_type": "code",
   "execution_count": 12,
   "outputs": [
    {
     "name": "stdout",
     "output_type": "stream",
     "text": [
      "omega_1 0\n",
      "omega_2 0\n",
      "        Afreq  Bfreq  Cfreq  ijk           basis molecule       Beta    a   \n",
      "519318    0.0    0.0    0.0  XXX             MRA       O3   0.000172  0.0  \\\n",
      "519319    0.0    0.0    0.0  XYY             MRA       O3  -0.001139  0.0   \n",
      "519320    0.0    0.0    0.0  YXY             MRA       O3  -0.001139  0.0   \n",
      "519321    0.0    0.0    0.0  YYX             MRA       O3  -0.001139  0.0   \n",
      "519322    0.0    0.0    0.0  XYZ             MRA       O3   0.004391  0.0   \n",
      "...       ...    ...    ...  ...             ...      ...        ...  ...   \n",
      "527374    0.0    0.0    0.0  XYZ  d-aug-cc-pCVQZ       O3   0.000000  0.0   \n",
      "527375    0.0    0.0    0.0  YYZ  d-aug-cc-pCVQZ       O3  46.426500  0.0   \n",
      "527376    0.0    0.0    0.0  ZYZ  d-aug-cc-pCVQZ       O3  -0.001441  0.0   \n",
      "527389    0.0    0.0    0.0  XZZ  d-aug-cc-pCVQZ       O3   0.000000  0.0   \n",
      "527390    0.0    0.0    0.0  YZZ  d-aug-cc-pCVQZ       O3  -0.001441  0.0   \n",
      "\n",
      "          b    c  \n",
      "519318  0.0  0.0  \n",
      "519319  0.0  0.0  \n",
      "519320  0.0  0.0  \n",
      "519321  0.0  0.0  \n",
      "519322  0.0  0.0  \n",
      "...     ...  ...  \n",
      "527374  0.0  0.0  \n",
      "527375  0.0  0.0  \n",
      "527376  0.0  0.0  \n",
      "527389  0.0  0.0  \n",
      "527390  0.0  0.0  \n",
      "\n",
      "[447 rows x 10 columns]\n",
      "        Afreq  Bfreq  Cfreq  ijk basis molecule       Beta    a    b    c\n",
      "519318    0.0    0.0    0.0  XXX   MRA       O3   0.000172  0.0  0.0  0.0\n",
      "519319    0.0    0.0    0.0  XYY   MRA       O3  -0.001139  0.0  0.0  0.0\n",
      "519320    0.0    0.0    0.0  YXY   MRA       O3  -0.001139  0.0  0.0  0.0\n",
      "519321    0.0    0.0    0.0  YYX   MRA       O3  -0.001139  0.0  0.0  0.0\n",
      "519322    0.0    0.0    0.0  XYZ   MRA       O3   0.004391  0.0  0.0  0.0\n",
      "519323    0.0    0.0    0.0  XZY   MRA       O3   0.004391  0.0  0.0  0.0\n",
      "519324    0.0    0.0    0.0  YXZ   MRA       O3   0.004391  0.0  0.0  0.0\n",
      "519325    0.0    0.0    0.0  YZX   MRA       O3   0.004391  0.0  0.0  0.0\n",
      "519326    0.0    0.0    0.0  ZXY   MRA       O3   0.004391  0.0  0.0  0.0\n",
      "519327    0.0    0.0    0.0  ZYX   MRA       O3   0.004391  0.0  0.0  0.0\n",
      "519328    0.0    0.0    0.0  XZZ   MRA       O3  -0.000219  0.0  0.0  0.0\n",
      "519329    0.0    0.0    0.0  ZXZ   MRA       O3  -0.000219  0.0  0.0  0.0\n",
      "519330    0.0    0.0    0.0  ZZX   MRA       O3  -0.000219  0.0  0.0  0.0\n",
      "519331    0.0    0.0    0.0  YXX   MRA       O3  -0.002014  0.0  0.0  0.0\n",
      "519332    0.0    0.0    0.0  XYX   MRA       O3  -0.002014  0.0  0.0  0.0\n",
      "519333    0.0    0.0    0.0  XXY   MRA       O3  -0.002014  0.0  0.0  0.0\n",
      "519334    0.0    0.0    0.0  YYY   MRA       O3   0.000901  0.0  0.0  0.0\n",
      "519335    0.0    0.0    0.0  YZZ   MRA       O3   0.004113  0.0  0.0  0.0\n",
      "519336    0.0    0.0    0.0  ZYZ   MRA       O3   0.004113  0.0  0.0  0.0\n",
      "519337    0.0    0.0    0.0  ZZY   MRA       O3   0.004113  0.0  0.0  0.0\n",
      "519338    0.0    0.0    0.0  ZXX   MRA       O3  -0.117272  0.0  0.0  0.0\n",
      "519339    0.0    0.0    0.0  XZX   MRA       O3  -0.117272  0.0  0.0  0.0\n",
      "519340    0.0    0.0    0.0  XXZ   MRA       O3  -0.117272  0.0  0.0  0.0\n",
      "519341    0.0    0.0    0.0  ZYY   MRA       O3  46.278800  0.0  0.0  0.0\n",
      "519342    0.0    0.0    0.0  YZY   MRA       O3  46.278800  0.0  0.0  0.0\n",
      "519343    0.0    0.0    0.0  YYZ   MRA       O3  46.278800  0.0  0.0  0.0\n",
      "519344    0.0    0.0    0.0  ZZZ   MRA       O3  -8.633600  0.0  0.0  0.0\n"
     ]
    },
    {
     "name": "stderr",
     "output_type": "stream",
     "text": [
      "/home/adrianhurtado/projects/QuantumResponsePro/examples/PolarizabilityPaper/QuadVisualization.py:400: SettingWithCopyWarning: \n",
      "A value is trying to be set on a copy of a slice from a DataFrame\n",
      "\n",
      "See the caveats in the documentation: https://pandas.pydata.org/pandas-docs/stable/user_guide/indexing.html#returning-a-view-versus-a-copy\n",
      "  bdata.sort_index(inplace=True)\n"
     ]
    }
   ],
   "source": [
    "basis_sets=['MRA']\n",
    "qv.beta_to_vtk('O3',basis_sets)\n"
   ],
   "metadata": {
    "collapsed": false,
    "ExecuteTime": {
     "end_time": "2023-11-17T15:03:48.956013789Z",
     "start_time": "2023-11-17T15:03:48.910561755Z"
    }
   },
   "id": "14263132d856e174"
  },
  {
   "cell_type": "code",
   "execution_count": 7,
   "outputs": [
    {
     "data": {
      "text/plain": "'FNO CH3SH N2H2 CH3NH2 HOCl SiO HBS HBO CH2BH PH3O ClF HF BH2Cl Li2 SiH4 SF2 P2H4 NaCN OCl2 CH3Cl SCl2 HCCF LiH BF SiH3F HCONH2 CS S2H2 FCN NaCl SiH3Cl N2H4 NH2Cl LiCl NH3O NH2OH BH3 SO2 HCN CH3BH2 NaLi HOF CH3F HNS CH3OH Na2 O3 CH2NH ClCN Mg2 NH3 H2O PH3 BHF2 LiCN NH2F CH4 HCl HCCCl HCOOH HCHS LiH_s HCHO SH2 CSO HOOH CO HCP NOCl HNO NaH OF2 HNC BH2F LiBH4'"
     },
     "execution_count": 7,
     "metadata": {},
     "output_type": "execute_result"
    }
   ],
   "source": [
    "' '.join(beta_mos)"
   ],
   "metadata": {
    "collapsed": false,
    "ExecuteTime": {
     "end_time": "2023-11-19T15:31:37.422161244Z",
     "start_time": "2023-11-19T15:31:37.379416635Z"
    }
   },
   "id": "f18e8c9a58cc4533"
  },
  {
   "cell_type": "code",
   "execution_count": null,
   "outputs": [],
   "source": [],
   "metadata": {
    "collapsed": false
   },
   "id": "da3528ef09669966"
  }
 ],
 "metadata": {
  "kernelspec": {
   "display_name": "Python 3 (ipykernel)",
   "language": "python",
   "name": "python3"
  },
  "language_info": {
   "codemirror_mode": {
    "name": "ipython",
    "version": 3
   },
   "file_extension": ".py",
   "mimetype": "text/x-python",
   "name": "python",
   "nbconvert_exporter": "python",
   "pygments_lexer": "ipython3",
   "version": "3.10.10"
  }
 },
 "nbformat": 4,
 "nbformat_minor": 5
}
