{
 "cells": [
  {
   "cell_type": "code",
   "execution_count": 3,
   "id": "initial_id",
   "metadata": {
    "collapsed": true,
    "ExecuteTime": {
     "end_time": "2024-03-20T20:21:32.096042Z",
     "start_time": "2024-03-20T20:21:32.078346Z"
    }
   },
   "source": [
    "from ConvergenceAnalysis import *\n"
   ],
   "outputs": []
  },
  {
   "cell_type": "code",
   "execution_count": 4,
   "id": "99ed865a9faae4ca",
   "metadata": {
    "ExecuteTime": {
     "end_time": "2024-03-20T20:21:32.765588Z",
     "start_time": "2024-03-20T20:21:32.754673Z"
    }
   },
   "source": [
    "fd_data"
   ],
   "outputs": []
  },
  {
   "cell_type": "code",
   "execution_count": 5,
   "id": "c081cabb7ff86ffe",
   "metadata": {
    "ExecuteTime": {
     "end_time": "2024-03-20T20:21:33.045947Z",
     "start_time": "2024-03-20T20:21:33.041446Z"
    }
   },
   "source": [
    "def process_data(base_path):\n",
    "    base_high = base_path.joinpath('high-high')\n",
    "    base_low = base_path.joinpath('low-low')\n",
    "\n",
    "    mols = fd_data['Molecule'].to_list()\n",
    "    low_data = get_database_residuals_z(mols, base_low)\n",
    "    high_data = get_database_residuals_z(mols, base_high)\n",
    "    # add column to low_data and high_data indicating low or high called ground state\n",
    "    low_data['Ground Protocol'] = 'Low'\n",
    "    high_data['Ground Protocol'] = 'High'\n",
    "    # combine dataframe\n",
    "    data = pd.concat([low_data, high_data])\n",
    "\n",
    "    # concatenate the protocol and ground state columns to make a new column\n",
    "    data['Response Protocol'] = data['Protocol'].astype(str)\n",
    "    # if protocol is 'High' or 'Low' then set it to 'H' or 'L' \n",
    "    data.loc[data['Response Protocol'] == 'High', 'Protocol'] = 'High'\n",
    "    data.loc[data['Response Protocol'] == 'Medium', 'Protocol'] = 'Low'\n",
    "    data.loc[data['Response Protocol'] == 'Guess', 'Protocol'] = 'Guess'\n",
    "    return data\n",
    "\n"
   ],
   "outputs": []
  },
  {
   "cell_type": "code",
   "execution_count": 6,
   "id": "8f5c78879c11d346",
   "metadata": {
    "ExecuteTime": {
     "end_time": "2024-03-20T20:21:36.729402Z",
     "start_time": "2024-03-20T20:21:35.410166Z"
    }
   },
   "source": [
    "november_absolute_path = Path('/mnt/data/madness_data/november_absolute_kain/')\n",
    "\n",
    "fd_compare2 = Path('/mnt/data/madness_data/fd_compare2/')\n",
    "fd_compare_data = process_data(fd_compare2)\n",
    "\n",
    "november_absolute_data = process_data(november_absolute_path)\n",
    "\n",
    "paper_path = Path('/home/adrianhurtado/projects/writing/mra-tdhf-polarizability/Figures')\n",
    "\n"
   ],
   "outputs": []
  },
  {
   "cell_type": "code",
   "execution_count": 7,
   "source": [
    "november_absolute_data"
   ],
   "metadata": {
    "collapsed": false,
    "ExecuteTime": {
     "end_time": "2024-03-20T20:21:38.656193Z",
     "start_time": "2024-03-20T20:21:38.636437Z"
    }
   },
   "id": "897dfe03c6760589",
   "outputs": []
  },
  {
   "cell_type": "code",
   "execution_count": 8,
   "id": "94d4e1cdca5dbc2a",
   "metadata": {
    "ExecuteTime": {
     "end_time": "2024-03-20T20:21:42.698079Z",
     "start_time": "2024-03-20T20:21:40.714724Z"
    }
   },
   "source": [
    "data = fd_compare_data\n",
    "data = november_absolute_data\n",
    "\n",
    "sns.set_context(\"paper\", font_scale=1.50)\n",
    "sns.set_style(\"darkgrid\")\n",
    "sns.set_palette(\"colorblind\")\n",
    "style = 'Molecule'\n",
    "hue = 'Response Protocol'\n",
    "hue_order = ['Low', 'High']\n",
    "data= data.query('Protocol.isin(@hue_order)')\n",
    "# colormap is colorblind staring with index 1\n",
    "colors = sns.color_palette(\"colorblind\", 3)\n",
    "# grab second and third colors in list\n",
    "colors = [colors[1], colors[2]]\n",
    "# create palette from colors\n",
    "palette = sns.color_palette(colors)\n",
    "s = 200\n",
    "x = 'dz'\n",
    "x = 'Absolute Residual Z'\n",
    "g = sns.relplot(x=x, y='Absolute Percent Error', data=data, style=style, hue=hue, s=s,hue_order=hue_order,\n",
    "                col='Ground Protocol',palette=colors )\n",
    "# set the subplot titles to Ground Protocol = H or M\n",
    "g.set_titles(col_template=\"Ground Protocol : {col_name}\")\n",
    "# increase the font of the legend\n",
    "\n",
    "for ax in g.axes.flat:\n",
    "    #ax.plot([1e-6,1e-2],[1e-6,1e-2], ls='--', color='black')\n",
    "    ax.set_xscale('log')\n",
    "    ax.set_yscale('log')\n",
    "    # write an annotation indicating the green line is .005\n",
    "    # only on first left plot\n",
    "    if ax == g.axes.flat[0]:\n",
    "        ax.axhline(.02, ls='--', color='orange')\n",
    "        ax.annotate('0.02%', xy=(1e-4, .02), xytext=(1e-4, .022))\n",
    "    else:\n",
    "        ax.axhline(5e-3, ls='--', color='green')\n",
    "        ax.annotate('0.005%', xy=(1e-4, .005), xytext=(1e-4, .006))\n",
    "        \n",
    "# Draw a y=x line on each plot\n",
    "for ax in g.axes.flat:\n",
    "    if x=='dz':\n",
    "        ax.set_xlabel(r'$\\Delta \\rho_{z}(x)$')\n",
    "    else:\n",
    "        ax.set_xlabel('||f(x)-x||')\n",
    "    # y label is percent error of static polarizability\n",
    "    ax.set_title('{}'.format(ax.get_title()))\n",
    "\n",
    "g.fig.gca().invert_xaxis()\n",
    "# Change the marker size in the legend to be larger and more legible\n",
    "for lh in g.legend.legend_handles: \n",
    "    lh._sizes = [100]\n",
    "# save a high res version\n",
    "#g.savefig(paper_path.joinpath('mra_convergence.png'),dpi=600)\n"
   ],
   "outputs": []
  },
  {
   "cell_type": "code",
   "source": [
    "data=november_absolute_data\n",
    "# first rename Ground Protocol  and Response Protocol to GP and RP\n",
    "data.rename(columns={'Ground Protocol':'GP','Response Protocol':'RP'},inplace=True)\n",
    "\n",
    "low_data=data.query('GP==\"Low\"').query('RP==\"Low\"')\n",
    "high_data=data.query('GP==\"High\"').query('RP==\"High\"')\n",
    "\n",
    "\n",
    "data=pd.concat([low_data,high_data])\n",
    "data"
   ],
   "metadata": {
    "collapsed": false,
    "ExecuteTime": {
     "end_time": "2024-03-20T20:21:45.052765Z",
     "start_time": "2024-03-20T20:21:45.029628Z"
    }
   },
   "id": "7bb1ad77bb675642",
   "execution_count": 9,
   "outputs": []
  },
  {
   "cell_type": "code",
   "source": [
    "# violin plot strip plot\n",
    "\n",
    "sns.set_context(\"paper\", font_scale=1.50)\n",
    "sns.set_style(\"darkgrid\")\n",
    "sns.set_palette(\"colorblind\")\n",
    "style = 'Molecule'\n",
    "hue = 'Molecule'\n",
    "kind='strip'\n",
    "jitter=False\n",
    "height=3\n",
    "aspect_ratio=1.0\n",
    "\n",
    "\n",
    "with sns.plotting_context('paper', font_scale=1.00):\n",
    "    facet_kws = {'margin_titles': True, 'despine': False}\n",
    "    g = sns.catplot(x='Protocol', y='Absolute Percent Error', hue='Molecule',\n",
    "                    data=data,\n",
    "                    kind=kind, dodge=jitter, jitter=jitter,\n",
    "                    height=height, aspect=aspect_ratio, sharey=True,\n",
    "                    facet_kws=facet_kws, alpha=0.9,\n",
    "                    )\n",
    "    ax=g.axes.flat[0]\n",
    "    ax.axhline(.02, ls='--', color='orange')\n",
    "    ax.axhline(.005, ls='--', color='green')\n",
    "    ax.set_yscale('log', )\n",
    "    # adjust legend\n",
    "    g._legend.set_title('System')\n",
    "\n",
    "\n",
    "g.savefig(paper_path.joinpath('mra_convergence.png'),dpi=600)\n",
    "\n"
   ],
   "metadata": {
    "collapsed": false,
    "ExecuteTime": {
     "end_time": "2024-03-20T20:22:41.217633Z",
     "start_time": "2024-03-20T20:22:40.146556Z"
    }
   },
   "id": "f0710e01ee44074c",
   "execution_count": 12,
   "outputs": []
  },
  {
   "cell_type": "code",
   "source": [
    "\n",
    "with sns.plotting_context('paper', font_scale=1.00):\n",
    "    facet_kws = {'margin_titles': True, 'despine': False}\n",
    "    g = sns.catplot(x='Protocol', y='Percent Error', hue='Molecule',\n",
    "                    data=data,\n",
    "                    kind=kind, dodge=jitter, jitter=jitter,\n",
    "                    height=height, aspect=aspect_ratio, sharey=True,\n",
    "                    facet_kws=facet_kws, alpha=0.9,\n",
    "                    )\n",
    "    ax=g.axes.flat[0]\n",
    "    ax.axhline(.05, ls='--', color='orange')\n",
    "    ax.axhline(.005, ls='--', color='green')\n",
    "    ax.axhline(-.05, ls='--', color='orange')\n",
    "    ax.axhline(-.005, ls='--', color='green')\n",
    "    #ax.set_yscale('log', )\n",
    "\n"
   ],
   "metadata": {
    "collapsed": false,
    "ExecuteTime": {
     "end_time": "2024-03-04T19:14:46.519198Z",
     "start_time": "2024-03-04T19:14:45.889707Z"
    }
   },
   "id": "1796c4fa43ec028e",
   "execution_count": 109,
   "outputs": []
  },
  {
   "cell_type": "code",
   "execution_count": 67,
   "source": [
    "data = fd_compare_data\n",
    "data = november_absolute_data\n",
    "\n",
    "sns.set_context(\"paper\", font_scale=1.50)\n",
    "sns.set_style(\"darkgrid\")\n",
    "sns.set_palette(\"colorblind\")\n",
    "style = 'Molecule'\n",
    "hue = 'Response Protocol'\n",
    "s = 200\n",
    "x = 'dz'\n",
    "g = sns.relplot(x=x, y='Percent Error', data=data, style=style, hue=hue, s=s,\n",
    "                col='Ground Protocol')\n",
    "# set the subplot titles to Ground Protocol = H or M\n",
    "g.set_titles(col_template=\"Ground Protocol : {col_name}\")\n",
    "# increase the font of the legend\n",
    "\n",
    "for ax in g.axes.flat:\n",
    "    ax.set_xscale('log')\n",
    "    ax.set_yscale('symlog', linthresh=1e-4)\n",
    "    # write an annotation indicating the green line is .005\n",
    "    # only on first left plot\n",
    "    if ax == g.axes.flat[0]:\n",
    "        ax.axhline(.05, ls='--', color='orange')\n",
    "        ax.axhline(-.05, ls='--', color='orange')\n",
    "        ax.annotate('0.02%', xy=(1e-4, .02), xytext=(1e-4, .022))\n",
    "        ax.annotate('-0.02%', xy=(1e-4, -.02), xytext=(1e-4, -.022))\n",
    "    else:\n",
    "        ax.axhline(.005, ls='--', color='green')\n",
    "        ax.axhline(-.005, ls='--', color='green')\n",
    "        ax.annotate('0.005%', xy=(1e-4, .005), xytext=(1e-4, .006))\n",
    "        ax.annotate('-0.005%', xy=(1e-4, -.005), xytext=(1e-4, -.006))\n",
    "\n",
    "# Draw a y=x line on each plot\n",
    "for ax in g.axes.flat:\n",
    "    ax.set_xlabel(r'$\\Delta \\rho_{z}(x)$')\n",
    "    # y label is percent error of static polarizability\n",
    "\n",
    "g.fig.gca().invert_xaxis()\n",
    "# Change the marker size in the legend to be larger and more legible\n",
    "for lh in g.legend.legend_handles:\n",
    "    lh._sizes = [100]\n"
   ],
   "metadata": {
    "collapsed": false,
    "ExecuteTime": {
     "end_time": "2024-03-04T18:50:04.729328Z",
     "start_time": "2024-03-04T18:50:04.658103Z"
    }
   },
   "id": "d884fe171bdf3977",
   "outputs": []
  },
  {
   "cell_type": "code",
   "execution_count": 10,
   "source": [
    "MadnessResponse('NaCl','hf','dipole',november_absolute_path.joinpath('low-low')).plot_residuals()"
   ],
   "metadata": {
    "collapsed": false,
    "ExecuteTime": {
     "end_time": "2024-03-04T16:16:12.651209Z",
     "start_time": "2024-03-04T16:16:12.590969Z"
    }
   },
   "id": "c5a379f8291a3e65",
   "outputs": []
  },
  {
   "cell_type": "code",
   "execution_count": 17,
   "source": [],
   "metadata": {
    "collapsed": false,
    "ExecuteTime": {
     "end_time": "2024-02-19T20:09:51.746198392Z",
     "start_time": "2024-02-19T20:09:51.739624225Z"
    }
   },
   "id": "63fcb07efbde96d",
   "outputs": []
  },
  {
   "cell_type": "markdown",
   "source": [],
   "metadata": {
    "collapsed": false
   },
   "id": "fb7e546660b3ec45"
  },
  {
   "cell_type": "code",
   "execution_count": 17,
   "source": [],
   "metadata": {
    "collapsed": false,
    "ExecuteTime": {
     "end_time": "2024-02-19T20:09:54.175272892Z",
     "start_time": "2024-02-19T20:09:54.167507964Z"
    }
   },
   "id": "73d141195488fcec",
   "outputs": []
  },
  {
   "cell_type": "code",
   "execution_count": 18,
   "source": [
    "data.query('Protocol==\"Medium\" and Molecule==\"NaCl\"')\n",
    "     \n",
    " "
   ],
   "metadata": {
    "collapsed": false,
    "ExecuteTime": {
     "end_time": "2024-02-19T20:09:54.445884747Z",
     "start_time": "2024-02-19T20:09:54.431342118Z"
    }
   },
   "id": "4250e85a017f754c",
   "outputs": []
  },
  {
   "cell_type": "code",
   "execution_count": 20,
   "id": "aee57b9b7c363705",
   "metadata": {
    "ExecuteTime": {
     "end_time": "2024-02-19T20:10:14.491355136Z",
     "start_time": "2024-02-19T20:10:12.768911745Z"
    }
   },
   "source": [
    "\n",
    "\n",
    "sns.set_context(\"paper\", font_scale=1)\n",
    "sns.set_style(\"whitegrid\")\n",
    "sns.set_palette(\"colorblind\")\n",
    "style = 'Molecule'\n",
    "hue = 'Protocol'\n",
    "s = 200\n",
    "x = 'dz'\n",
    "y = 'Absolute Residual Z'\n",
    "\n",
    "g = sns.relplot(x=y, y=x, data=data, hue=hue,style=style, s=s,\n",
    "                col='Ground Protocol')\n",
    "\n",
    "for ax in g.axes.flat:\n",
    "    ax.set_yscale('log')\n",
    "    ax.set_xscale('log')\n",
    "# Change the marker size in the legend to be larger and more legible\n",
    "for lh in g.legend.legend_handles:\n",
    "    lh._sizes = [100]\n",
    "    \n",
    "# draw a y=x line on each plot\n",
    "\n",
    "for ax in g.axes.flat:\n",
    "    ax.plot([1e-6,1e-2],[1e-6,1e-2], ls='--', color='black')\n",
    "    ax.set_xlabel('||f(x)-x||')\n",
    "    ax.set_ylabel(r'$\\Delta \\rho_{z}(x)$')\n",
    "    ax.set_title('{}'.format(ax.get_title()))\n",
    "\n",
    "g.fig.gca().invert_xaxis()\n",
    "\n"
   ],
   "outputs": []
  },
  {
   "cell_type": "markdown",
   "source": [],
   "metadata": {
    "collapsed": false
   },
   "id": "21fde9aa015bf1a1"
  },
  {
   "cell_type": "markdown",
   "source": [],
   "metadata": {
    "collapsed": false
   },
   "id": "6242f059d42a9f5f"
  },
  {
   "cell_type": "code",
   "execution_count": 21,
   "id": "20a41105efb553f5",
   "metadata": {
    "ExecuteTime": {
     "end_time": "2024-02-19T20:10:33.083532487Z",
     "start_time": "2024-02-19T20:10:33.041450276Z"
    }
   },
   "source": [
    "\n",
    "mols=data.Molecule.unique().tolist()\n"
   ],
   "outputs": []
  },
  {
   "cell_type": "code",
   "execution_count": 22,
   "source": [
    "from DataAnalysisClass import *\n",
    "single = ['aug-cc-pVDZ', 'aug-cc-pVTZ', 'aug-cc-pVQZ', 'aug-cc-pV5Z', 'aug-cc-pV6Z']\n",
    "single_polarized = ['aug-cc-pCVDZ', 'aug-cc-pCVTZ', 'aug-cc-pCVQZ']\n",
    "double = ['d-aug-cc-pVDZ', 'd-aug-cc-pVTZ', 'd-aug-cc-pVQZ', 'd-aug-cc-pV5Z', 'd-aug-cc-pV6Z']\n",
    "double_polarized = ['d-aug-cc-pCVDZ', 'd-aug-cc-pCVTZ', 'd-aug-cc-pCVQZ']\n",
    "all_basis_sets = single + single_polarized+ double  + double_polarized\n"
   ],
   "metadata": {
    "collapsed": false,
    "ExecuteTime": {
     "end_time": "2024-02-19T20:10:33.354583560Z",
     "start_time": "2024-02-19T20:10:33.346674198Z"
    }
   },
   "id": "3df8460070abfef1",
   "outputs": []
  },
  {
   "cell_type": "code",
   "execution_count": 23,
   "source": [
    "low_data=PolarizabilityData(mols,'hf','dipole',all_basis_sets,november_absolute_path.joinpath\n",
    "('low-low'),overwrite=True)\n",
    "high_data=PolarizabilityData(mols,'hf','dipole',all_basis_sets,november_absolute_path\n",
    "                                .joinpath\n",
    "('high-high'),overwrite=True)\n"
   ],
   "metadata": {
    "collapsed": false,
    "ExecuteTime": {
     "end_time": "2024-02-19T20:11:03.989363274Z",
     "start_time": "2024-02-19T20:10:33.702793561Z"
    }
   },
   "id": "8b29106dad3db736",
   "outputs": []
  },
  {
   "cell_type": "code",
   "execution_count": 25,
   "source": [
    "low_data.save_dfs()\n",
    "high_data.save_dfs()\n",
    "\n"
   ],
   "metadata": {
    "collapsed": false,
    "ExecuteTime": {
     "end_time": "2023-11-07T12:37:43.421054087Z",
     "start_time": "2023-11-07T12:37:43.371190711Z"
    }
   },
   "id": "8d03a0e13f030318",
   "outputs": []
  },
  {
   "cell_type": "code",
   "execution_count": 26,
   "source": [
    "\n",
    "low_z_data=create_z_data(low_data)\n",
    "# create Protocol column\n",
    "low_z_data['Protocol']='Medium'\n",
    "high_z_data=create_z_data(high_data)\n",
    "high_z_data['Protocol']='High'\n",
    "z_data=pd.concat([low_z_data,high_z_data])\n",
    "z_data\n",
    "\n",
    "\n",
    "\n"
   ],
   "metadata": {
    "collapsed": false,
    "ExecuteTime": {
     "end_time": "2023-11-07T12:37:43.796950089Z",
     "start_time": "2023-11-07T12:37:43.421135580Z"
    }
   },
   "id": "115d7603ad6e8426",
   "outputs": []
  },
  {
   "cell_type": "code",
   "execution_count": 27,
   "source": [
    "\n",
    "z_abs_error_plot=compare_z_to_basis_set(z_data,y='Absolute Percent Error')\n",
    "#z_error_plot=compare_z_to_basis_set(z_data,y='Percent Error')\n",
    "z_abs_error_plot.fig.savefig(paper_path.joinpath('z_abs_error.png'),dpi=600)\n"
   ],
   "metadata": {
    "collapsed": false,
    "ExecuteTime": {
     "end_time": "2023-11-07T12:37:48.321911613Z",
     "start_time": "2023-11-07T12:37:47.044154085Z"
    }
   },
   "id": "30cad3b4c090c6f9",
   "outputs": []
  },
  {
   "cell_type": "code",
   "execution_count": null,
   "source": [
    "z_data.query('basis==\"MRA\"').sort_values('molecule')\n"
   ],
   "metadata": {
    "collapsed": false
   },
   "id": "3c930124aa58ae2f",
   "outputs": []
  },
  {
   "cell_type": "code",
   "execution_count": null,
   "source": [],
   "metadata": {
    "collapsed": false
   },
   "id": "68efe216869e19ae",
   "outputs": []
  },
  {
   "cell_type": "code",
   "execution_count": null,
   "source": [],
   "metadata": {
    "collapsed": false
   },
   "id": "86c4b4ae853ac4d4",
   "outputs": []
  }
 ],
 "metadata": {
  "kernelspec": {
   "display_name": "Python 3 (ipykernel)",
   "language": "python",
   "name": "python3"
  },
  "language_info": {
   "codemirror_mode": {
    "name": "ipython",
    "version": 3
   },
   "file_extension": ".py",
   "mimetype": "text/x-python",
   "name": "python",
   "nbconvert_exporter": "python",
   "pygments_lexer": "ipython3",
   "version": "3.10.10"
  }
 },
 "nbformat": 4,
 "nbformat_minor": 5
}
