{
 "cells": [
  {
   "cell_type": "code",
   "execution_count": 13,
   "id": "initial_id",
   "metadata": {
    "collapsed": true,
    "ExecuteTime": {
     "end_time": "2023-11-29T13:24:05.551305498Z",
     "start_time": "2023-11-29T13:24:05.503975057Z"
    }
   },
   "outputs": [],
   "source": [
    "\n",
    "\n",
    "from DataAnalysisClass import *\n",
    "from clustering_work import *\n",
    "from quantumresponsepro import BasisMRADataAnalyzer\n",
    "\n",
    "single = ['aug-cc-pVDZ', 'aug-cc-pVTZ', 'aug-cc-pVQZ', 'aug-cc-pV5Z', 'aug-cc-pV6Z']\n",
    "single_polarized = ['aug-cc-pCVDZ', 'aug-cc-pCVTZ', 'aug-cc-pCVQZ']\n",
    "double = ['d-aug-cc-pVDZ', 'd-aug-cc-pVTZ', 'd-aug-cc-pVQZ', 'd-aug-cc-pV5Z', 'd-aug-cc-pV6Z']\n",
    "double_polarized = ['d-aug-cc-pCVDZ', 'd-aug-cc-pCVTZ', 'd-aug-cc-pCVQZ']\n",
    "all_basis_sets = single + single_polarized + double + double_polarized\n"
   ]
  },
  {
   "cell_type": "code",
   "execution_count": 40,
   "id": "8f5c78879c11d346",
   "metadata": {
    "ExecuteTime": {
     "end_time": "2023-11-29T13:39:05.916069274Z",
     "start_time": "2023-11-29T13:39:05.902185853Z"
    }
   },
   "outputs": [],
   "source": [
    "\n",
    "database_path = Path('/mnt/data/madness_data/post_watoc/august')\n",
    "paper_path = Path('/home/adrianhurtado/projects/writing/thesis2023/Figures_v2')\n",
    "\n"
   ]
  },
  {
   "cell_type": "code",
   "execution_count": 34,
   "outputs": [],
   "source": [
    "import glob\n",
    "\n",
    "# glob for .mol files in august molecules directory\n",
    "mols = glob.glob('/mnt/data/madness_data/post_watoc/august/molecules/*.mol')\n",
    "# remove .mol extension\n",
    "mols = [mol.split('/')[-1].split('.')[0] for mol in mols]"
   ],
   "metadata": {
    "collapsed": false,
    "ExecuteTime": {
     "end_time": "2023-11-29T13:34:57.228101177Z",
     "start_time": "2023-11-29T13:34:57.219106917Z"
    }
   },
   "id": "63fcb07efbde96d"
  },
  {
   "cell_type": "markdown",
   "source": [],
   "metadata": {
    "collapsed": false
   },
   "id": "fb7e546660b3ec45"
  },
  {
   "cell_type": "code",
   "execution_count": 35,
   "outputs": [],
   "source": [
    "august_database = PolarizabilityData(mols, 'hf', 'dipole', all_basis_sets, database_path,\n",
    "                                     overwrite=False)\n",
    "\n",
    "analyzer = BasisMRADataAnalyzer(august_database, .02, )\n",
    "polar_data = august_database.iso_data.copy()"
   ],
   "metadata": {
    "collapsed": false,
    "ExecuteTime": {
     "end_time": "2023-11-29T13:34:59.013534414Z",
     "start_time": "2023-11-29T13:34:58.965626069Z"
    }
   },
   "id": "73d141195488fcec"
  },
  {
   "cell_type": "code",
   "execution_count": 53,
   "outputs": [
    {
     "name": "stdout",
     "output_type": "stream",
     "text": [
      "['D', 'T', 'Q', '5', '6']\n"
     ]
    }
   ],
   "source": [
    "# isolate the basis set data not MRA\n",
    "basis_data = polar_data.query('basis!=\"MRA\"').copy()\n",
    "basis_data = basis_data.set_index(['molecule', 'omega'])\n",
    "basis_data['alphaMRA'] = polar_data.query('basis==\"MRA\"').set_index(['molecule', 'omega'])[\n",
    "    'alpha']\n",
    "# do the same for gamma\n",
    "basis_data['gammaMRA'] = polar_data.query('basis==\"MRA\"').set_index(['molecule', 'omega'])[\n",
    "    'gamma']\n",
    "# reset index\n",
    "basis_data = basis_data.reset_index()\n",
    "basis_data['alphaE'] = ((basis_data['alpha'] - basis_data['alphaMRA']) / basis_data['alpha'\n",
    "                                                                                    'MRA'\n",
    "                                                                                    ''] * 100)\n",
    "basis_data['gammaE'] = ((basis_data['gamma'] - basis_data['gammaMRA']) / basis_data['gamma'\n",
    "                                                                                    'MRA'\n",
    "                                                                                    ''] * 100)\n",
    "basis_data = make_detailed_df(basis_data)\n",
    "\n",
    "\n",
    "def get_basis_data(basis_data, omega=8):\n",
    "    df = basis_data.query('omega==@omega')\n",
    "    alphab = {}\n",
    "    gammab = {}\n",
    "    for b in basis_data.basis.unique():\n",
    "        bdata = df.query('basis==@b')\n",
    "        alphab[b] = bdata.set_index('molecule').alpha\n",
    "        gammab[b] = bdata.set_index('molecule').gamma\n",
    "    alpha_df = pd.DataFrame(alphab)\n",
    "    gamma_df = pd.DataFrame(gammab)\n",
    "    return alpha_df, gamma_df\n",
    "\n",
    "\n",
    "data = get_basis_data(basis_data,0)[0]\n",
    "data.drop(['aug-cc-pV5Z', 'aug-cc-pV6Z', 'd-aug-cc-pV5Z', 'd-aug-cc-pV6Z'], axis=1, inplace=True)\n",
    "data.dropna(inplace=True)\n"
   ],
   "metadata": {
    "collapsed": false,
    "ExecuteTime": {
     "end_time": "2023-11-29T13:49:57.121355392Z",
     "start_time": "2023-11-29T13:49:57.040777415Z"
    }
   },
   "id": "9a460c067e6c4069"
  },
  {
   "cell_type": "code",
   "execution_count": 54,
   "outputs": [],
   "source": [
    "\n",
    "def cluster_basis_data(data, n_clusters=8):\n",
    "    scaler = StandardScaler()\n",
    "    X = data.to_numpy()\n",
    "    data_scaled = scaler.fit_transform(X)\n",
    "    # Create an AgglomerativeClustering instance with n_clusters\n",
    "    agglo = AgglomerativeClustering(n_clusters=n_clusters)\n",
    "    # Fit the model to your data and get the cluster assignments in one step\n",
    "    labels = agglo.fit_predict(data_scaled)\n",
    "    data['cluster'] = labels\n",
    "\n",
    "    return data\n",
    "\n",
    "\n",
    "def inv_symlog(y, linthresh):\n",
    "    \"\"\"Inverse of symmetric log transformation.\"\"\"\n",
    "    return np.sign(y) * linthresh * (np.exp(np.abs(y)) - 1)\n",
    "\n",
    "\n",
    "def symlog(x, linthresh):\n",
    "    \"\"\"Symmetric log transformation.\"\"\"\n",
    "    return np.sign(x) * np.log1p(np.abs(x / linthresh))"
   ],
   "metadata": {
    "collapsed": false,
    "ExecuteTime": {
     "end_time": "2023-11-29T13:49:58.444234348Z",
     "start_time": "2023-11-29T13:49:58.430417499Z"
    }
   },
   "id": "46672288b813f436"
  },
  {
   "cell_type": "code",
   "execution_count": 51,
   "outputs": [],
   "source": [
    "from sklearn.preprocessing import StandardScaler\n",
    "from sklearn.neighbors import NearestNeighbors\n",
    "def cluster_gaussian_mixture_with_bic(data,paper_path):\n",
    "    \"\"\"\n",
    "    Bayesian Information Criterioon (BIC) for model selction amoung a finite set of models\n",
    "    Based on likelhood function and introduces a penalty term for complexity to avoid overfitting\n",
    "    In this context used to select the number of clusters\n",
    "    \"\"\"\n",
    "    scaler = StandardScaler()\n",
    "    data_matrix = data.to_numpy()\n",
    "    threshold = analyzer.mra_ref\n",
    "\n",
    "    data_matrix = symlog(data_matrix, threshold)\n",
    "\n",
    "    data_matrix = scaler.fit_transform(data_matrix)\n",
    "\n",
    "    # pca = PCA(n_components=4)\n",
    "    # principal_components = pca.fit_transform(data_matrix)\n",
    "\n",
    "    # print(data_scaled)\n",
    "    # data_matrix = principal_components\n",
    "\n",
    "    n_clusters_range = range(1, 16)\n",
    "    bic_scores = []\n",
    "    convergence_type = 'full'\n",
    "    tol = 1e-3\n",
    "\n",
    "    for n_clusters in n_clusters_range:\n",
    "        # Create and fit a Gaussian Mixture Model\n",
    "        gmm = GaussianMixture(n_components=n_clusters, covariance_type=convergence_type,\n",
    "                              random_state=42,\n",
    "                              tol=tol, n_init=10, )\n",
    "        gmm.fit(data_matrix)\n",
    "\n",
    "        # Compute BIC for the current clustering\n",
    "        bic_scores.append(gmm.bic(data_matrix))\n",
    "\n",
    "    # Find the number of clusters that gives the minimum BIC\n",
    "    optimal_clusters = n_clusters_range[np.argmin(bic_scores)]\n",
    "    neigh = NearestNeighbors(n_neighbors=optimal_clusters)\n",
    "    # optimal_clusters = 4\n",
    "    print(f\"Optimal number of clusters: {optimal_clusters}\")\n",
    "\n",
    "    plt.figure()  # Adjust the size of the plot as needed\n",
    "    plt.plot(n_clusters_range, bic_scores, marker='o')\n",
    "    plt.xlabel('Number of clusters')\n",
    "    plt.ylabel('BIC score')\n",
    "    plt.title('BIC score per number of clusters')\n",
    "    plt.tight_layout()\n",
    "    plt.savefig(paper_path.joinpath('BIC.svg'))\n",
    "    plt.show()\n",
    "\n",
    "    # Create an AgglomerativeClustering instance with n_clusters\n",
    "    # gmm = BayesianGaussianMixture(n_components=optimal_clusters,\n",
    "    #                               random_state=None,\n",
    "    #                               covariance_type='full',\n",
    "    #                               tol=1e-6, )\n",
    "    gmm = GaussianMixture(n_components=optimal_clusters,\n",
    "                          covariance_type=convergence_type,\n",
    "                          random_state=42,\n",
    "                          warm_start=True,\n",
    "                          n_init=40,\n",
    "                          tol=tol, )\n",
    "    neigh.fit(data_matrix)\n",
    "\n",
    "    # Fit the model to your data and get the cluster assignments in one step\n",
    "    labels = neigh.predict(data_matrix)\n",
    "    score = silhouette_score(data_matrix, labels, metric='euclidean')\n",
    "    data['cluster'] = labels\n",
    "    print(\"silhouette score\", score)\n",
    "\n",
    "    average_vectors = []\n",
    "    std_vectors = []\n",
    "    for i in range(optimal_clusters):\n",
    "        cluster_points = data_matrix[labels == i]\n",
    "        average_vector = np.mean(cluster_points, axis=0)\n",
    "        std_vector = np.std(cluster_points, axis=0)\n",
    "        average_vectors.append(average_vector)\n",
    "        std_vectors.append(std_vector)\n",
    "\n",
    "    avg_df = pd.DataFrame(average_vectors, )\n",
    "    avg_df['mean'] = avg_df.mean(axis=1)\n",
    "    avg_df = avg_df.sort_values('mean', ascending=False)\n",
    "    avg_df.drop('mean', axis=1, inplace=True)\n",
    "\n",
    "    std_df = pd.DataFrame(std_vectors, )\n",
    "\n",
    "    sorted_index = avg_df.index\n",
    "    std_df = std_df.reindex(sorted_index)\n",
    "    std_df.sort_index(inplace=True)\n",
    "\n",
    "    cluster_map = {sorted_index[i]: i for i in range(len(sorted_index))}\n",
    "    avg_df = avg_df.reset_index(drop=True)\n",
    "    # avg_df = avg_df.apply(lambda x: inv_symlog(x, threshold))\n",
    "    # avg_df = pd.DataFrame(scaler.inverse_transform(avg_df), columns=avg_df.columns,\n",
    "    #                      index=avg_df.index)\n",
    "    print(cluster_map)\n",
    "    data['cluster'] = data['cluster'].map(cluster_map)\n",
    "    # avg_df = np.exp(avg_df) + xmin\n",
    "\n",
    "    # Generate a line plot\n",
    "    fig = plt.figure()  # Adjust the size of the plot as needed\n",
    "    for i, row in avg_df.iterrows():\n",
    "        plt.plot(row, label=f'Cluster {i}', marker='o')\n",
    "    # plt.yscale('log')\n",
    "    plt.axhline(y=0, color='black', linestyle='--', linewidth=1)  # Add a horizontal line at 0\n",
    "    plt.xlabel('Basis set')  # Label for the x-axis\n",
    "    plt.ylabel('Average basis set error')  # Label for the y-axis\n",
    "    plt.title('Average basis set errors for each cluster')  # Title of the plot\n",
    "    plt.legend()  # Show the legend\n",
    "    plt.xticks(rotation=60)  # Rotate the x-axis labels for better visibility if needed\n",
    "    plt.tight_layout()  # Adjust the layout for better visibility if needed\n",
    "    plt.show()\n",
    "    fig.savefig(paper_path.joinpath('GMM_averages.svg'))\n",
    "\n",
    "    return data, avg_df\n",
    "\n",
    "\n"
   ],
   "metadata": {
    "collapsed": false,
    "ExecuteTime": {
     "end_time": "2023-11-29T13:49:05.191256844Z",
     "start_time": "2023-11-29T13:49:05.149673633Z"
    }
   },
   "id": "4250e85a017f754c"
  },
  {
   "cell_type": "code",
   "execution_count": 52,
   "outputs": [
    {
     "name": "stdout",
     "output_type": "stream",
     "text": [
      "Optimal number of clusters: 2\n"
     ]
    },
    {
     "data": {
      "text/plain": "<Figure size 640x480 with 1 Axes>",
      "image/png": "[encoded data removed]"
     },
     "metadata": {},
     "output_type": "display_data"
    },
    {
     "ename": "AttributeError",
     "evalue": "'NearestNeighbors' object has no attribute 'predict'",
     "output_type": "error",
     "traceback": [
      "\u001B[0;31m---------------------------------------------------------------------------\u001B[0m",
      "\u001B[0;31mAttributeError\u001B[0m                            Traceback (most recent call last)",
      "Cell \u001B[0;32mIn[52], line 3\u001B[0m\n\u001B[1;32m      1\u001B[0m omega \u001B[38;5;241m=\u001B[39m \u001B[38;5;241m8\u001B[39m\n\u001B[1;32m      2\u001B[0m linthresh \u001B[38;5;241m=\u001B[39m \u001B[38;5;241m1e-2\u001B[39m\n\u001B[0;32m----> 3\u001B[0m X, avg_vectors \u001B[38;5;241m=\u001B[39m \u001B[43mcluster_gaussian_mixture_with_bic\u001B[49m\u001B[43m(\u001B[49m\u001B[43mdata\u001B[49m\u001B[43m,\u001B[49m\u001B[43m \u001B[49m\u001B[43mpaper_path\u001B[49m\u001B[43m)\u001B[49m\n\u001B[1;32m      4\u001B[0m avg_vectors\u001B[38;5;241m.\u001B[39mplot()\n\u001B[1;32m      5\u001B[0m molecules_path \u001B[38;5;241m=\u001B[39m paper_path\u001B[38;5;241m.\u001B[39mjoinpath(\u001B[38;5;124m'\u001B[39m\u001B[38;5;124mmolecules\u001B[39m\u001B[38;5;124m'\u001B[39m)\n",
      "Cell \u001B[0;32mIn[51], line 67\u001B[0m, in \u001B[0;36mcluster_gaussian_mixture_with_bic\u001B[0;34m(data, paper_path)\u001B[0m\n\u001B[1;32m     64\u001B[0m neigh\u001B[38;5;241m.\u001B[39mfit(data_matrix)\n\u001B[1;32m     66\u001B[0m \u001B[38;5;66;03m# Fit the model to your data and get the cluster assignments in one step\u001B[39;00m\n\u001B[0;32m---> 67\u001B[0m labels \u001B[38;5;241m=\u001B[39m \u001B[43mneigh\u001B[49m\u001B[38;5;241;43m.\u001B[39;49m\u001B[43mpredict\u001B[49m(data_matrix)\n\u001B[1;32m     68\u001B[0m score \u001B[38;5;241m=\u001B[39m silhouette_score(data_matrix, labels, metric\u001B[38;5;241m=\u001B[39m\u001B[38;5;124m'\u001B[39m\u001B[38;5;124meuclidean\u001B[39m\u001B[38;5;124m'\u001B[39m)\n\u001B[1;32m     69\u001B[0m data[\u001B[38;5;124m'\u001B[39m\u001B[38;5;124mcluster\u001B[39m\u001B[38;5;124m'\u001B[39m] \u001B[38;5;241m=\u001B[39m labels\n",
      "\u001B[0;31mAttributeError\u001B[0m: 'NearestNeighbors' object has no attribute 'predict'"
     ]
    }
   ],
   "source": [
    "omega = 8\n",
    "linthresh = 1e-2\n",
    "X, avg_vectors = cluster_gaussian_mixture_with_bic(data, paper_path)\n",
    "avg_vectors.plot()\n",
    "molecules_path = paper_path.joinpath('molecules')\n",
    "cluster_path = molecules_path.joinpath(f'alpha_clusters')\n",
    "if not cluster_path.exists():\n",
    "    cluster_path.mkdir()\n",
    "else:\n",
    "    shutil.rmtree(cluster_path)\n",
    "    cluster_path.mkdir()\n",
    "\n",
    "grouped = X.groupby('cluster')\n",
    "cluster_mol_path = cluster_path.joinpath(f'cluster_molecules.txt')\n",
    "with open(cluster_mol_path, 'w') as f:\n",
    "    for cluster_id, group in grouped:\n",
    "        f.write(r'\\textbf{' + f'Cluster {cluster_id + 1} ' + f'({len(group.index)})' + ':} ')\n",
    "        for molecule in group.index:\n",
    "            f.write(\"\\ce{\" + f\"{molecule}\" + \"}, \")\n",
    "        f.write('\\n\\n')\n",
    "\n",
    "for cluster_id, group in grouped:\n",
    "    cluster_mol_path = cluster_path.joinpath(f'cluster_{cluster_id + 1}_molecules.txt')\n",
    "\n",
    "    with open(cluster_mol_path, 'w') as f:\n",
    "        f.write(r'\\textbf{' + f'Cluster {cluster_id + 1} ' + f'({len(group.index)})' + ':} ')\n",
    "        for molecule in group.index:\n",
    "            f.write(\"\\ce{\" + f\"{molecule}\" + \"}, \")\n",
    "\n"
   ],
   "metadata": {
    "collapsed": false,
    "ExecuteTime": {
     "end_time": "2023-11-29T13:49:22.768460288Z",
     "start_time": "2023-11-29T13:49:06.662796546Z"
    }
   },
   "id": "4c8641267ba80bea"
  },
  {
   "cell_type": "code",
   "execution_count": 18,
   "outputs": [],
   "source": [],
   "metadata": {
    "collapsed": false,
    "ExecuteTime": {
     "end_time": "2023-11-29T13:29:17.855785292Z",
     "start_time": "2023-11-29T13:29:17.811897349Z"
    }
   },
   "id": "ff8db99bc572f833"
  },
  {
   "cell_type": "code",
   "execution_count": 19,
   "outputs": [
    {
     "name": "stdout",
     "output_type": "stream",
     "text": [
      "[[-0.54697491 -0.55445257 -0.55711318 ... -0.55629292 -0.55861025\n",
      "  -0.54641888]\n",
      " [ 0.49817049  0.50428285  0.50648321 ...  0.50572599  0.50785123\n",
      "   0.52597833]\n",
      " [ 0.29436836  0.2823081   0.2793091  ...  0.28183421  0.27942555\n",
      "   0.29579637]\n",
      " ...\n",
      " [-0.341955   -0.35373972 -0.35854574 ... -0.35727058 -0.36107498\n",
      "  -0.34762956]\n",
      " [-0.52142292 -0.54786694 -0.55559191 ... -0.55572936 -0.55879481\n",
      "  -0.54662413]\n",
      " [ 0.31367046  0.27927245  0.27245982 ...  0.28423825  0.27153303\n",
      "   0.28710486]]\n"
     ]
    },
    {
     "ename": "ValueError",
     "evalue": "Input X contains NaN.\nGaussianMixture does not accept missing values encoded as NaN natively. For supervised learning, you might want to consider sklearn.ensemble.HistGradientBoostingClassifier and Regressor which accept missing values encoded as NaNs natively. Alternatively, it is possible to preprocess the data, for instance by using an imputer transformer in a pipeline or drop samples with missing values. See https://scikit-learn.org/stable/modules/impute.html You can find a list of all estimators that handle NaN values at the following page: https://scikit-learn.org/stable/modules/impute.html#estimators-that-handle-nan-values",
     "output_type": "error",
     "traceback": [
      "\u001B[0;31m---------------------------------------------------------------------------\u001B[0m",
      "\u001B[0;31mValueError\u001B[0m                                Traceback (most recent call last)",
      "Cell \u001B[0;32mIn[19], line 3\u001B[0m\n\u001B[1;32m      1\u001B[0m omega\u001B[38;5;241m=\u001B[39m\u001B[38;5;241m8\u001B[39m\n\u001B[1;32m      2\u001B[0m linthresh\u001B[38;5;241m=\u001B[39m\u001B[38;5;241m1e-2\u001B[39m\n\u001B[0;32m----> 3\u001B[0m X, avg_vectors \u001B[38;5;241m=\u001B[39m \u001B[43mcluster_gaussian_mixture_with_bic\u001B[49m\u001B[43m(\u001B[49m\u001B[43mdata\u001B[49m\u001B[43m)\u001B[49m\n\u001B[1;32m      4\u001B[0m avg_vectors\u001B[38;5;241m.\u001B[39mplot()\n\u001B[1;32m      5\u001B[0m molecules_path \u001B[38;5;241m=\u001B[39m paper_path\u001B[38;5;241m.\u001B[39mjoinpath(\u001B[38;5;124m'\u001B[39m\u001B[38;5;124mmolecules\u001B[39m\u001B[38;5;124m'\u001B[39m)\n",
      "File \u001B[0;32m~/projects/QuantumResponsePro/examples/PolarizabilityPaper/clustering_work.py:86\u001B[0m, in \u001B[0;36mcluster_gaussian_mixture_with_bic\u001B[0;34m(data)\u001B[0m\n\u001B[1;32m     81\u001B[0m \u001B[38;5;28;01mfor\u001B[39;00m n_clusters \u001B[38;5;129;01min\u001B[39;00m n_clusters_range:\n\u001B[1;32m     82\u001B[0m     \u001B[38;5;66;03m# Create and fit a Gaussian Mixture Model\u001B[39;00m\n\u001B[1;32m     83\u001B[0m     gmm \u001B[38;5;241m=\u001B[39m GaussianMixture(n_components\u001B[38;5;241m=\u001B[39mn_clusters, covariance_type\u001B[38;5;241m=\u001B[39mconvergence_type,\n\u001B[1;32m     84\u001B[0m                           random_state\u001B[38;5;241m=\u001B[39m\u001B[38;5;241m42\u001B[39m,\n\u001B[1;32m     85\u001B[0m                           tol\u001B[38;5;241m=\u001B[39mtol, n_init\u001B[38;5;241m=\u001B[39m\u001B[38;5;241m10\u001B[39m, )\n\u001B[0;32m---> 86\u001B[0m     \u001B[43mgmm\u001B[49m\u001B[38;5;241;43m.\u001B[39;49m\u001B[43mfit\u001B[49m\u001B[43m(\u001B[49m\u001B[43mdata_matrix\u001B[49m\u001B[43m)\u001B[49m\n\u001B[1;32m     88\u001B[0m     \u001B[38;5;66;03m# Compute BIC for the current clustering\u001B[39;00m\n\u001B[1;32m     89\u001B[0m     bic_scores\u001B[38;5;241m.\u001B[39mappend(gmm\u001B[38;5;241m.\u001B[39mbic(data_matrix))\n",
      "File \u001B[0;32m~/projects/QuantumResponsePro/venv/lib/python3.10/site-packages/sklearn/mixture/_base.py:186\u001B[0m, in \u001B[0;36mBaseMixture.fit\u001B[0;34m(self, X, y)\u001B[0m\n\u001B[1;32m    160\u001B[0m \u001B[38;5;250m\u001B[39m\u001B[38;5;124;03m\"\"\"Estimate model parameters with the EM algorithm.\u001B[39;00m\n\u001B[1;32m    161\u001B[0m \n\u001B[1;32m    162\u001B[0m \u001B[38;5;124;03mThe method fits the model ``n_init`` times and sets the parameters with\u001B[39;00m\n\u001B[0;32m   (...)\u001B[0m\n\u001B[1;32m    183\u001B[0m \u001B[38;5;124;03m    The fitted mixture.\u001B[39;00m\n\u001B[1;32m    184\u001B[0m \u001B[38;5;124;03m\"\"\"\u001B[39;00m\n\u001B[1;32m    185\u001B[0m \u001B[38;5;66;03m# parameters are validated in fit_predict\u001B[39;00m\n\u001B[0;32m--> 186\u001B[0m \u001B[38;5;28;43mself\u001B[39;49m\u001B[38;5;241;43m.\u001B[39;49m\u001B[43mfit_predict\u001B[49m\u001B[43m(\u001B[49m\u001B[43mX\u001B[49m\u001B[43m,\u001B[49m\u001B[43m \u001B[49m\u001B[43my\u001B[49m\u001B[43m)\u001B[49m\n\u001B[1;32m    187\u001B[0m \u001B[38;5;28;01mreturn\u001B[39;00m \u001B[38;5;28mself\u001B[39m\n",
      "File \u001B[0;32m~/projects/QuantumResponsePro/venv/lib/python3.10/site-packages/sklearn/mixture/_base.py:218\u001B[0m, in \u001B[0;36mBaseMixture.fit_predict\u001B[0;34m(self, X, y)\u001B[0m\n\u001B[1;32m    190\u001B[0m \u001B[38;5;250m\u001B[39m\u001B[38;5;124;03m\"\"\"Estimate model parameters using X and predict the labels for X.\u001B[39;00m\n\u001B[1;32m    191\u001B[0m \n\u001B[1;32m    192\u001B[0m \u001B[38;5;124;03mThe method fits the model n_init times and sets the parameters with\u001B[39;00m\n\u001B[0;32m   (...)\u001B[0m\n\u001B[1;32m    214\u001B[0m \u001B[38;5;124;03m    Component labels.\u001B[39;00m\n\u001B[1;32m    215\u001B[0m \u001B[38;5;124;03m\"\"\"\u001B[39;00m\n\u001B[1;32m    216\u001B[0m \u001B[38;5;28mself\u001B[39m\u001B[38;5;241m.\u001B[39m_validate_params()\n\u001B[0;32m--> 218\u001B[0m X \u001B[38;5;241m=\u001B[39m \u001B[38;5;28;43mself\u001B[39;49m\u001B[38;5;241;43m.\u001B[39;49m\u001B[43m_validate_data\u001B[49m\u001B[43m(\u001B[49m\u001B[43mX\u001B[49m\u001B[43m,\u001B[49m\u001B[43m \u001B[49m\u001B[43mdtype\u001B[49m\u001B[38;5;241;43m=\u001B[39;49m\u001B[43m[\u001B[49m\u001B[43mnp\u001B[49m\u001B[38;5;241;43m.\u001B[39;49m\u001B[43mfloat64\u001B[49m\u001B[43m,\u001B[49m\u001B[43m \u001B[49m\u001B[43mnp\u001B[49m\u001B[38;5;241;43m.\u001B[39;49m\u001B[43mfloat32\u001B[49m\u001B[43m]\u001B[49m\u001B[43m,\u001B[49m\u001B[43m \u001B[49m\u001B[43mensure_min_samples\u001B[49m\u001B[38;5;241;43m=\u001B[39;49m\u001B[38;5;241;43m2\u001B[39;49m\u001B[43m)\u001B[49m\n\u001B[1;32m    219\u001B[0m \u001B[38;5;28;01mif\u001B[39;00m X\u001B[38;5;241m.\u001B[39mshape[\u001B[38;5;241m0\u001B[39m] \u001B[38;5;241m<\u001B[39m \u001B[38;5;28mself\u001B[39m\u001B[38;5;241m.\u001B[39mn_components:\n\u001B[1;32m    220\u001B[0m     \u001B[38;5;28;01mraise\u001B[39;00m \u001B[38;5;167;01mValueError\u001B[39;00m(\n\u001B[1;32m    221\u001B[0m         \u001B[38;5;124m\"\u001B[39m\u001B[38;5;124mExpected n_samples >= n_components \u001B[39m\u001B[38;5;124m\"\u001B[39m\n\u001B[1;32m    222\u001B[0m         \u001B[38;5;124mf\u001B[39m\u001B[38;5;124m\"\u001B[39m\u001B[38;5;124mbut got n_components = \u001B[39m\u001B[38;5;132;01m{\u001B[39;00m\u001B[38;5;28mself\u001B[39m\u001B[38;5;241m.\u001B[39mn_components\u001B[38;5;132;01m}\u001B[39;00m\u001B[38;5;124m, \u001B[39m\u001B[38;5;124m\"\u001B[39m\n\u001B[1;32m    223\u001B[0m         \u001B[38;5;124mf\u001B[39m\u001B[38;5;124m\"\u001B[39m\u001B[38;5;124mn_samples = \u001B[39m\u001B[38;5;132;01m{\u001B[39;00mX\u001B[38;5;241m.\u001B[39mshape[\u001B[38;5;241m0\u001B[39m]\u001B[38;5;132;01m}\u001B[39;00m\u001B[38;5;124m\"\u001B[39m\n\u001B[1;32m    224\u001B[0m     )\n",
      "File \u001B[0;32m~/projects/QuantumResponsePro/venv/lib/python3.10/site-packages/sklearn/base.py:565\u001B[0m, in \u001B[0;36mBaseEstimator._validate_data\u001B[0;34m(self, X, y, reset, validate_separately, **check_params)\u001B[0m\n\u001B[1;32m    563\u001B[0m     \u001B[38;5;28;01mraise\u001B[39;00m \u001B[38;5;167;01mValueError\u001B[39;00m(\u001B[38;5;124m\"\u001B[39m\u001B[38;5;124mValidation should be done on X, y or both.\u001B[39m\u001B[38;5;124m\"\u001B[39m)\n\u001B[1;32m    564\u001B[0m \u001B[38;5;28;01melif\u001B[39;00m \u001B[38;5;129;01mnot\u001B[39;00m no_val_X \u001B[38;5;129;01mand\u001B[39;00m no_val_y:\n\u001B[0;32m--> 565\u001B[0m     X \u001B[38;5;241m=\u001B[39m \u001B[43mcheck_array\u001B[49m\u001B[43m(\u001B[49m\u001B[43mX\u001B[49m\u001B[43m,\u001B[49m\u001B[43m \u001B[49m\u001B[43minput_name\u001B[49m\u001B[38;5;241;43m=\u001B[39;49m\u001B[38;5;124;43m\"\u001B[39;49m\u001B[38;5;124;43mX\u001B[39;49m\u001B[38;5;124;43m\"\u001B[39;49m\u001B[43m,\u001B[49m\u001B[43m \u001B[49m\u001B[38;5;241;43m*\u001B[39;49m\u001B[38;5;241;43m*\u001B[39;49m\u001B[43mcheck_params\u001B[49m\u001B[43m)\u001B[49m\n\u001B[1;32m    566\u001B[0m     out \u001B[38;5;241m=\u001B[39m X\n\u001B[1;32m    567\u001B[0m \u001B[38;5;28;01melif\u001B[39;00m no_val_X \u001B[38;5;129;01mand\u001B[39;00m \u001B[38;5;129;01mnot\u001B[39;00m no_val_y:\n",
      "File \u001B[0;32m~/projects/QuantumResponsePro/venv/lib/python3.10/site-packages/sklearn/utils/validation.py:921\u001B[0m, in \u001B[0;36mcheck_array\u001B[0;34m(array, accept_sparse, accept_large_sparse, dtype, order, copy, force_all_finite, ensure_2d, allow_nd, ensure_min_samples, ensure_min_features, estimator, input_name)\u001B[0m\n\u001B[1;32m    915\u001B[0m         \u001B[38;5;28;01mraise\u001B[39;00m \u001B[38;5;167;01mValueError\u001B[39;00m(\n\u001B[1;32m    916\u001B[0m             \u001B[38;5;124m\"\u001B[39m\u001B[38;5;124mFound array with dim \u001B[39m\u001B[38;5;132;01m%d\u001B[39;00m\u001B[38;5;124m. \u001B[39m\u001B[38;5;132;01m%s\u001B[39;00m\u001B[38;5;124m expected <= 2.\u001B[39m\u001B[38;5;124m\"\u001B[39m\n\u001B[1;32m    917\u001B[0m             \u001B[38;5;241m%\u001B[39m (array\u001B[38;5;241m.\u001B[39mndim, estimator_name)\n\u001B[1;32m    918\u001B[0m         )\n\u001B[1;32m    920\u001B[0m     \u001B[38;5;28;01mif\u001B[39;00m force_all_finite:\n\u001B[0;32m--> 921\u001B[0m         \u001B[43m_assert_all_finite\u001B[49m\u001B[43m(\u001B[49m\n\u001B[1;32m    922\u001B[0m \u001B[43m            \u001B[49m\u001B[43marray\u001B[49m\u001B[43m,\u001B[49m\n\u001B[1;32m    923\u001B[0m \u001B[43m            \u001B[49m\u001B[43minput_name\u001B[49m\u001B[38;5;241;43m=\u001B[39;49m\u001B[43minput_name\u001B[49m\u001B[43m,\u001B[49m\n\u001B[1;32m    924\u001B[0m \u001B[43m            \u001B[49m\u001B[43mestimator_name\u001B[49m\u001B[38;5;241;43m=\u001B[39;49m\u001B[43mestimator_name\u001B[49m\u001B[43m,\u001B[49m\n\u001B[1;32m    925\u001B[0m \u001B[43m            \u001B[49m\u001B[43mallow_nan\u001B[49m\u001B[38;5;241;43m=\u001B[39;49m\u001B[43mforce_all_finite\u001B[49m\u001B[43m \u001B[49m\u001B[38;5;241;43m==\u001B[39;49m\u001B[43m \u001B[49m\u001B[38;5;124;43m\"\u001B[39;49m\u001B[38;5;124;43mallow-nan\u001B[39;49m\u001B[38;5;124;43m\"\u001B[39;49m\u001B[43m,\u001B[49m\n\u001B[1;32m    926\u001B[0m \u001B[43m        \u001B[49m\u001B[43m)\u001B[49m\n\u001B[1;32m    928\u001B[0m \u001B[38;5;28;01mif\u001B[39;00m ensure_min_samples \u001B[38;5;241m>\u001B[39m \u001B[38;5;241m0\u001B[39m:\n\u001B[1;32m    929\u001B[0m     n_samples \u001B[38;5;241m=\u001B[39m _num_samples(array)\n",
      "File \u001B[0;32m~/projects/QuantumResponsePro/venv/lib/python3.10/site-packages/sklearn/utils/validation.py:161\u001B[0m, in \u001B[0;36m_assert_all_finite\u001B[0;34m(X, allow_nan, msg_dtype, estimator_name, input_name)\u001B[0m\n\u001B[1;32m    144\u001B[0m \u001B[38;5;28;01mif\u001B[39;00m estimator_name \u001B[38;5;129;01mand\u001B[39;00m input_name \u001B[38;5;241m==\u001B[39m \u001B[38;5;124m\"\u001B[39m\u001B[38;5;124mX\u001B[39m\u001B[38;5;124m\"\u001B[39m \u001B[38;5;129;01mand\u001B[39;00m has_nan_error:\n\u001B[1;32m    145\u001B[0m     \u001B[38;5;66;03m# Improve the error message on how to handle missing values in\u001B[39;00m\n\u001B[1;32m    146\u001B[0m     \u001B[38;5;66;03m# scikit-learn.\u001B[39;00m\n\u001B[1;32m    147\u001B[0m     msg_err \u001B[38;5;241m+\u001B[39m\u001B[38;5;241m=\u001B[39m (\n\u001B[1;32m    148\u001B[0m         \u001B[38;5;124mf\u001B[39m\u001B[38;5;124m\"\u001B[39m\u001B[38;5;130;01m\\n\u001B[39;00m\u001B[38;5;132;01m{\u001B[39;00mestimator_name\u001B[38;5;132;01m}\u001B[39;00m\u001B[38;5;124m does not accept missing values\u001B[39m\u001B[38;5;124m\"\u001B[39m\n\u001B[1;32m    149\u001B[0m         \u001B[38;5;124m\"\u001B[39m\u001B[38;5;124m encoded as NaN natively. For supervised learning, you might want\u001B[39m\u001B[38;5;124m\"\u001B[39m\n\u001B[0;32m   (...)\u001B[0m\n\u001B[1;32m    159\u001B[0m         \u001B[38;5;124m\"\u001B[39m\u001B[38;5;124m#estimators-that-handle-nan-values\u001B[39m\u001B[38;5;124m\"\u001B[39m\n\u001B[1;32m    160\u001B[0m     )\n\u001B[0;32m--> 161\u001B[0m \u001B[38;5;28;01mraise\u001B[39;00m \u001B[38;5;167;01mValueError\u001B[39;00m(msg_err)\n",
      "\u001B[0;31mValueError\u001B[0m: Input X contains NaN.\nGaussianMixture does not accept missing values encoded as NaN natively. For supervised learning, you might want to consider sklearn.ensemble.HistGradientBoostingClassifier and Regressor which accept missing values encoded as NaNs natively. Alternatively, it is possible to preprocess the data, for instance by using an imputer transformer in a pipeline or drop samples with missing values. See https://scikit-learn.org/stable/modules/impute.html You can find a list of all estimators that handle NaN values at the following page: https://scikit-learn.org/stable/modules/impute.html#estimators-that-handle-nan-values"
     ]
    }
   ],
   "source": [
    "iso_diff = basis_data.copy()\n",
    "iso_diff['cluster'] = iso_diff['molecule'].map(X['cluster'])\n",
    "iso_diff['cluster'] = iso_diff['cluster'].astype('category')\n",
    "g = plot_iso_valence_cluster_convergence(iso_diff, 'alpha', ['D', 'T', 'Q'], omega,\n",
    "                                         sharey=True)\n",
    "for ax in g.axes_dict.values():\n",
    "    ax.set_yscale('symlog', linthresh=linthresh, base=10, linscale=0.50)\n",
    "    ax.axhline(-.05, color='green', linestyle='--')\n",
    "    ax.axhline(.05, color='green', linestyle='--')\n",
    "\n",
    "g.fig.savefig(cluster_path.joinpath('alpha_convergence.svg'))\n",
    "g.fig.show()\n",
    "\n",
    "g = analyzer.freq_iso_plot_cluster(iso_diff, ['D', 'T', 'Q'], 'alpha', omegas=[0, 4, 8],\n",
    "                                   sharey='row')\n",
    "for ax in g.axes_dict.values():\n",
    "    ax.set_yscale('symlog', linthresh=linthresh, base=10, linscale=0.50)\n",
    "# set_face_color_cluster(g)\n",
    "# freq_inset(g, iso_diff, loc='lower right', ylims=[3, .8, .18], width='30%', height='40%',\n",
    "# omega=[8])\n",
    "g.fig.savefig(cluster_path.joinpath('alpha_frequency_convergence.svg'))\n",
    "g.fig.show()\n",
    "\n",
    "plt.figure()\n",
    "\n",
    "with sns.axes_style('darkgrid'):\n",
    "    p = plt.figure()\n",
    "    ax = p.add_subplot(111)\n",
    "\n",
    "    sns.histplot(iso_diff.query('omega==0 & basis ==\"aug-cc-pVQZ\"'), x=\"cluster\",\n",
    "                 hue=\"mol_system\",\n",
    "                 multiple=\"stack\",\n",
    "                 ax=ax,\n",
    "                 shrink=.8)\n",
    "    sns.move_legend(\n",
    "        ax, \"lower center\",\n",
    "        bbox_to_anchor=(.5, 1), ncol=3, title=None, frameon=False,\n",
    "    )\n",
    "    p.subplots_adjust(bottom=0.2)\n",
    "    plt.show()\n",
    "    p.savefig(cluster_path.joinpath('cluster_molecule_count.svg'))\n",
    "\n",
    "if True:\n",
    "\n",
    "    for cluster in X['cluster'].unique():\n",
    "        mol_list = X.query('cluster==@cluster').index\n",
    "        cluster_path_i = cluster_path.joinpath(f'cluster_{cluster + 1}')\n",
    "        if not cluster_path_i.exists():\n",
    "            cluster_path_i.mkdir()\n",
    "        else:\n",
    "            shutil.rmtree(cluster_path)\n",
    "            cluster_path_i.mkdir()\n",
    "\n",
    "        for mol in mol_list:\n",
    "            g = analyzer.plot_iso_valence_convergence_v2(mol, 'alpha', ['D', 'T', 'Q', '5', '6'],\n",
    "                                                         omega)\n",
    "            g.fig.savefig(cluster_path_i.joinpath(f'{mol}_alpha_converge.svg'), dpi=300)\n"
   ],
   "metadata": {
    "collapsed": false,
    "ExecuteTime": {
     "end_time": "2023-11-29T13:29:24.324537783Z",
     "start_time": "2023-11-29T13:29:24.252765892Z"
    }
   },
   "id": "b4e5e04a2a54e6d8"
  },
  {
   "cell_type": "code",
   "execution_count": 665,
   "outputs": [],
   "source": [],
   "metadata": {
    "collapsed": false,
    "ExecuteTime": {
     "end_time": "2023-11-07T17:27:35.712937043Z",
     "start_time": "2023-11-07T17:27:35.688766531Z"
    }
   },
   "id": "38ed4cd975acabb5"
  },
  {
   "cell_type": "code",
   "execution_count": 665,
   "outputs": [],
   "source": [],
   "metadata": {
    "collapsed": false,
    "ExecuteTime": {
     "end_time": "2023-11-07T17:27:36.015927028Z",
     "start_time": "2023-11-07T17:27:35.992588678Z"
    }
   },
   "id": "f717245739961bbc"
  },
  {
   "cell_type": "code",
   "execution_count": 666,
   "outputs": [],
   "source": [],
   "metadata": {
    "collapsed": false,
    "ExecuteTime": {
     "end_time": "2023-11-07T17:27:39.710149793Z",
     "start_time": "2023-11-07T17:27:39.679073762Z"
    }
   },
   "id": "f21909d3cb340446"
  },
  {
   "cell_type": "code",
   "execution_count": null,
   "outputs": [],
   "source": [],
   "metadata": {
    "collapsed": false
   },
   "id": "d58b0b25d6c0544f"
  }
 ],
 "metadata": {
  "kernelspec": {
   "display_name": "Python 3 (ipykernel)",
   "language": "python",
   "name": "python3"
  },
  "language_info": {
   "codemirror_mode": {
    "name": "ipython",
    "version": 3
   },
   "file_extension": ".py",
   "mimetype": "text/x-python",
   "name": "python",
   "nbconvert_exporter": "python",
   "pygments_lexer": "ipython3",
   "version": "3.10.10"
  }
 },
 "nbformat": 4,
 "nbformat_minor": 5
}
