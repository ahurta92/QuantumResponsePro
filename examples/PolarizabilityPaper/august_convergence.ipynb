{
 "cells": [
  {
   "cell_type": "code",
   "execution_count": 1,
   "id": "ed804a53900d1da4",
   "metadata": {
    "collapsed": false,
    "ExecuteTime": {
     "end_time": "2024-03-25T16:37:13.172574Z",
     "start_time": "2024-03-25T16:37:12.057809Z"
    }
   },
   "source": [
    "from pathlib import Path\n",
    "\n",
    "#from ConvergenceAnalysis import *\n",
    "from DataAnalysisClass import *"
   ],
   "outputs": []
  },
  {
   "cell_type": "code",
   "source": [
    "\n",
    "single = ['aug-cc-pVDZ', 'aug-cc-pVTZ', 'aug-cc-pVQZ', 'aug-cc-pV5Z', 'aug-cc-pV6Z']\n",
    "single_polarized = ['aug-cc-pCVDZ', 'aug-cc-pCVTZ', 'aug-cc-pCVQZ']\n",
    "double = ['d-aug-cc-pVDZ', 'd-aug-cc-pVTZ', 'd-aug-cc-pVQZ', 'd-aug-cc-pV5Z', 'd-aug-cc-pV6Z']\n",
    "double_polarized = ['d-aug-cc-pCVDZ', 'd-aug-cc-pCVTZ', 'd-aug-cc-pCVQZ']\n",
    "all_basis_sets = single + single_polarized + double + double_polarized\n"
   ],
   "metadata": {
    "collapsed": false,
    "ExecuteTime": {
     "end_time": "2024-03-25T16:37:13.176731Z",
     "start_time": "2024-03-25T16:37:13.174004Z"
    }
   },
   "id": "ebe25dd0ac5b4be7",
   "execution_count": 2,
   "outputs": []
  },
  {
   "cell_type": "code",
   "source": [
    "\n",
    "pal2 = sns.color_palette(\"coolwarm_r\", 4).as_hex()\n",
    "p2 = [pal2[1], pal2[0], pal2[2], pal2[3]]\n",
    "pal = sns.color_palette(p2)\n",
    "p1 = [pal2[1], pal2[2], pal2[0], pal2[3]]\n",
    "simple_pal = sns.color_palette(p1)\n",
    "sns.set_style('darkgrid')\n",
    "\n",
    "\n"
   ],
   "metadata": {
    "ExecuteTime": {
     "end_time": "2024-03-25T16:37:13.180735Z",
     "start_time": "2024-03-25T16:37:13.177373Z"
    }
   },
   "id": "initial_id",
   "execution_count": 3,
   "outputs": []
  },
  {
   "cell_type": "code",
   "source": [],
   "metadata": {
    "collapsed": false,
    "ExecuteTime": {
     "end_time": "2024-03-25T16:37:13.182782Z",
     "start_time": "2024-03-25T16:37:13.181462Z"
    }
   },
   "id": "85ab5d91860f6e28",
   "execution_count": 3,
   "outputs": []
  },
  {
   "cell_type": "code",
   "execution_count": 4,
   "id": "8f5c78879c11d346",
   "metadata": {
    "ExecuteTime": {
     "end_time": "2024-03-25T16:37:13.185278Z",
     "start_time": "2024-03-25T16:37:13.183608Z"
    }
   },
   "source": [
    "\n",
    "database_path = Path('/mnt/data/madness_data/august')\n",
    "paper_path = Path('/home/adrianhurtado/projects/writing/mra-tdhf-polarizability/Figures')\n",
    "\n"
   ],
   "outputs": []
  },
  {
   "cell_type": "code",
   "execution_count": 5,
   "id": "63fcb07efbde96d",
   "metadata": {
    "ExecuteTime": {
     "end_time": "2024-03-25T16:37:13.188004Z",
     "start_time": "2024-03-25T16:37:13.185831Z"
    }
   },
   "source": [
    "import glob\n",
    "\n",
    "# glob for .mol files in august molecules directory\n",
    "mols = glob.glob('/mnt/data/madness_data/august/molecules/*.mol')\n",
    "mols = [mol.split('/')[-1].split('.')[0] for mol in mols]"
   ],
   "outputs": []
  },
  {
   "cell_type": "code",
   "source": [
    "# remove LiH_s from mols\n",
    "mols.remove('LiH_s')"
   ],
   "metadata": {
    "collapsed": false,
    "ExecuteTime": {
     "end_time": "2024-03-25T16:37:14.855432Z",
     "start_time": "2024-03-25T16:37:14.853273Z"
    }
   },
   "id": "198a7c12f04f57b0",
   "execution_count": 6,
   "outputs": []
  },
  {
   "cell_type": "markdown",
   "id": "fb7e546660b3ec45",
   "metadata": {},
   "source": []
  },
  {
   "cell_type": "code",
   "execution_count": 7,
   "id": "73d141195488fcec",
   "metadata": {
    "ExecuteTime": {
     "end_time": "2024-03-25T16:40:33.666601Z",
     "start_time": "2024-03-25T16:37:17.488317Z"
    }
   },
   "source": [
    "august_database = PolarizabilityData(mols, 'hf', 'dipole', all_basis_sets, database_path, overwrite=True)\n"
   ],
   "outputs": []
  },
  {
   "cell_type": "code",
   "execution_count": 8,
   "id": "4250e85a017f754c",
   "metadata": {
    "ExecuteTime": {
     "end_time": "2024-03-25T16:40:33.898517Z",
     "start_time": "2024-03-25T16:40:33.670667Z"
    }
   },
   "source": [
    "august_database.save_dfs()\n",
    "polar_data = august_database.iso_data.copy()\n",
    "\n"
   ],
   "outputs": []
  },
  {
   "cell_type": "code",
   "execution_count": 9,
   "id": "8b29106dad3db736",
   "metadata": {
    "ExecuteTime": {
     "end_time": "2024-03-25T16:40:58.289587Z",
     "start_time": "2024-03-25T16:40:58.284993Z"
    }
   },
   "source": [
    "august_database.energy_df.basis.unique()"
   ],
   "outputs": []
  },
  {
   "cell_type": "code",
   "execution_count": 10,
   "id": "f94056ab8d08c44b",
   "metadata": {
    "ExecuteTime": {
     "end_time": "2024-03-25T16:41:04.429928Z",
     "start_time": "2024-03-25T16:41:04.358563Z"
    }
   },
   "source": [
    "class MRAComparedBasisDF(pd.DataFrame):\n",
    "    def __init__(self, polar_data, index, values: list, PercentError: bool, *args, **kwargs):\n",
    "        # Use the special_parameter to modify the DataFrame or perform additional initialization\n",
    "        basis_data = polar_data.query('basis!=\"MRA\"').copy()\n",
    "        basis_data = basis_data.set_index(index)\n",
    "\n",
    "        for value in values:\n",
    "            basis_data[f'{value}MRA'] = polar_data.query('basis==\"MRA\"').set_index(index)[\n",
    "                value]\n",
    "            if PercentError:\n",
    "                basis_data[f'{value}E'] = ((basis_data[value] - basis_data[f'{value}MRA']) / basis_data[f'{value}MRA'] * 100)\n",
    "            else:\n",
    "                basis_data[f'{value}E'] = (basis_data[value] - basis_data[f'{value}MRA'])\n",
    "        basis_data = basis_data.reset_index()\n",
    "        # create a column of percent error in alpha\n",
    "        basis_data = make_detailed_df(basis_data)\n",
    "        super().__init__(basis_data, *args, **kwargs)\n",
    "\n",
    "\n",
    "basis_data = MRAComparedBasisDF(polar_data, ['molecule', 'omega'], ['alpha', 'gamma'], True)\n",
    "basis_data\n"
   ],
   "outputs": []
  },
  {
   "cell_type": "code",
   "execution_count": 11,
   "id": "e235eb59d2455496",
   "metadata": {
    "ExecuteTime": {
     "end_time": "2024-03-25T16:41:09.282901Z",
     "start_time": "2024-03-25T16:41:09.279843Z"
    }
   },
   "source": [
    "num_mols=len(basis_data.molecule.unique())\n",
    "print(f'Number of molecules: {num_mols}')"
   ],
   "outputs": []
  },
  {
   "cell_type": "code",
   "execution_count": 56,
   "id": "275adb76e2615f1f",
   "metadata": {
    "ExecuteTime": {
     "end_time": "2024-03-04T20:42:23.197220Z",
     "start_time": "2024-03-04T20:42:23.195224Z"
    }
   },
   "source": [],
   "outputs": []
  },
  {
   "cell_type": "code",
   "execution_count": 56,
   "id": "8d03a0e13f030318",
   "metadata": {
    "ExecuteTime": {
     "end_time": "2024-03-04T20:42:23.621930Z",
     "start_time": "2024-03-04T20:42:23.620222Z"
    }
   },
   "source": [],
   "outputs": []
  },
  {
   "cell_type": "code",
   "execution_count": 57,
   "id": "115d7603ad6e8426",
   "metadata": {
    "ExecuteTime": {
     "end_time": "2024-03-04T20:42:26.004090Z",
     "start_time": "2024-03-04T20:42:24.908859Z"
    }
   },
   "source": [
    "from matplotlib.ticker import ScalarFormatter, FormatStrFormatter\n",
    "\n",
    "Type_map = {\"aug-cc-pVnZ\": \"sn\", \"aug-cc-pCVnZ\": \"sCn\", \"d-aug-cc-pVnZ\": \"dn\",\n",
    "            \"d-aug-cc-pCVnZ\": \"dCn\"}\n",
    "aspect_ratio = .5\n",
    "vlevel = ['D', 'T', 'Q', '5']\n",
    "plot_data = basis_data.query('valence.isin(@vlevel) and omega==0').copy()\n",
    "# remove unused categories from valence\n",
    "plot_data.valence = plot_data.valence.cat.remove_unused_categories()\n",
    "with sns.plotting_context('paper', font_scale=1.00):\n",
    "    g = sns.catplot(col='valence', x='Type', y='alphaE', hue='mol_system',\n",
    "                    data=plot_data, kind='strip', dodge=True, jitter=True,\n",
    "                    s=15, palette='colorblind', height=4, aspect=aspect_ratio, sharey=True,\n",
    "                    alpha=0.5,\n",
    "                    sharex=False)\n",
    "    # adjust the title to read D=$\\zeta$D, T=$\\zeta$T, etc.\n",
    "    g.set_titles('{col_name}Z')\n",
    "    g.set_xlabels('')\n",
    "\n",
    "    g.set_xticklabels([Type_map[label.get_text()] for label in g.axes.flat[0].get_xticklabels()])\n",
    "    v = 0\n",
    "    for ax in g.axes.flat:\n",
    "        # draw horizontal line at .05%\n",
    "        # get the valence level from the title\n",
    "        c = vlevel[v]\n",
    "        v += 1\n",
    "        print(c)\n",
    "        xl = ['aug', 'aug+core', 'd-aug', 'd-aug+core']\n",
    "        xl = ['s-n', 's-Cn', 'd-n', 'd-Cn']\n",
    "        xl = ['sn', 'sCn', 'dn', 'dCn']\n",
    "        ax.set_xticklabels(xl)\n",
    "\n",
    "        ax.set_yscale('symlog', linthresh=1e-1)\n",
    "        ax.axhline(y=.05, linestyle='--', color='orange')\n",
    "        ax.axhline(y=-.05, linestyle='--', color='orange')\n",
    "        # for the symlog scale to regular notation with no decimal places for the y axis\n",
    "        ax.yaxis.set_major_formatter(ScalarFormatter())\n",
    "        ax.yaxis.set_major_formatter(FormatStrFormatter('%2g'))\n",
    "\n",
    "        # make the y limits symmetrical for each plot using the max absolute value\n",
    "        max_lim = max(abs(ax.get_ylim()[0]), abs(ax.get_ylim()[1]))\n",
    "        ax.set_ylim(-30, 30)\n",
    "\n",
    "        ax.set_ylabel(r'$\\alpha$ Error (%)')\n",
    "        # rotate the xlabels\n",
    "        for label in ax.get_xticklabels():\n",
    "            label.set_rotation(0)\n",
    "            #label.set_horizontalalignment('right')\n",
    "        # create vertical lines to separate basis sets\n",
    "        for i in range(1, len(plot_data.Type.unique())):\n",
    "            ax.axvline(i - .5, linestyle='-.', color='k', linewidth=.5, alpha=.8)\n",
    "        for i in range(1, 5):\n",
    "            ax.axvspan((i - 1) - .5, i - .5, 1e-3, facecolor=pal[i - 1], alpha=0.1)\n",
    "\n",
    "        # remove the legend title\n",
    "\n",
    "# remove legend and create a new legend in 3 column format outside the plot\n",
    "g._legend.remove()\n",
    "g.fig.legend(loc='center', bbox_to_anchor=(0.5, 1.05), ncol=3, fancybox=True, fontsize=10)\n",
    "g.fig.tight_layout()\n"
   ],
   "outputs": []
  },
  {
   "cell_type": "code",
   "source": [
    "\n",
    "\n",
    "Type_map = {\"aug-cc-pVnZ\": \"sn\", \"aug-cc-pCVnZ\": \"sCn\", \"d-aug-cc-pVnZ\": \"dn\",\n",
    "            \"d-aug-cc-pCVnZ\": \"dCn\"}\n",
    "aspect_ratio = 0.75\n",
    "vlevel = ['D', 'T', 'Q', '5']\n",
    "plot_data = basis_data.query('valence.isin(@vlevel) and omega==0').copy()\n",
    "# remove unused categories from valence\n",
    "plot_data.valence = plot_data.valence.cat.remove_unused_categories()\n",
    "with sns.plotting_context('paper', font_scale=1.00):\n",
    "    facet_kws = {'margin_titles': True}\n",
    "    g = sns.catplot(row='valence', col='Type', y='alphaE', hue='mol_system',\n",
    "                    data=plot_data, kind='strip', dodge=True, jitter=False,\n",
    "                    palette='colorblind', height=2, aspect=aspect_ratio, sharey=True, s=5,\n",
    "                    facet_kws=facet_kws, alpha=0.7)\n",
    "    g.set_ylabels(r'$\\alpha$ Error (%)')\n",
    "    g.set_titles(row_template='{row_name}Z', col_template='{col_name}')\n",
    "\n",
    "    for ax in g.axes.flat:\n",
    "        ax.axhline(y=.02, linestyle='--', color='black', linewidth=.35)\n",
    "        ax.axhline(y=-.02, linestyle='--', color='black', linewidth=.35)\n",
    "        # rotate the xlabels\n",
    "\n",
    "# remove legend and create a new legend in 3 column format outside the plot\n",
    "g._legend.remove()\n",
    "g.fig.tight_layout()\n",
    "g.fig.legend(loc='center', bbox_to_anchor=(0.5, 1.005), ncol=3, fancybox=True, fontsize=10)\n",
    "#g.fig.savefig(paper_path.joinpath('gamma_error.png'), dpi=600, bbox_inches='tight')\n",
    "g.fig.savefig(paper_path.joinpath('alpha_error.png'), dpi=600, bbox_inches='tight')\n",
    "\n"
   ],
   "metadata": {
    "collapsed": false,
    "ExecuteTime": {
     "end_time": "2024-03-04T20:42:29.446544Z",
     "start_time": "2024-03-04T20:42:26.005068Z"
    }
   },
   "id": "518f5e28173c619c",
   "execution_count": 58,
   "outputs": []
  },
  {
   "cell_type": "code",
   "source": [
    "from matplotlib.ticker import ScalarFormatter, FormatStrFormatter\n",
    "from mpl_toolkits.axes_grid1.inset_locator import inset_axes\n",
    "Type_map = {\"aug-cc-pVnZ\": \"sn\", \"aug-cc-pCVnZ\": \"sCn\", \"d-aug-cc-pVnZ\": \"dn\",\n",
    "            \"d-aug-cc-pCVnZ\": \"dCn\"}\n",
    "vlevel = ['D', 'T', 'Q', '5']\n",
    "plot_data = basis_data.query('valence.isin(@vlevel) and omega==0').copy()\n",
    "\n",
    "height = 3.0\n",
    "aspect_ratio = 1.05\n",
    "palette = 'colorblind'\n",
    "kind = 'strip'\n",
    "dodge = True\n",
    "jitter = .05\n",
    "alpha = 0.8\n",
    "s = 10\n",
    "facet_kws = {\n",
    "    'margin_titles': True,\n",
    "}\n",
    "\n",
    "# remove unused categories from valencej\n",
    "plot_data.valence = plot_data.valence.cat.remove_unused_categories()\n",
    "with sns.plotting_context('paper', font_scale=1.25):\n",
    "    g = sns.catplot(x='valence', col='Type', y='alphaE', hue='mol_system',\n",
    "                    data=plot_data,\n",
    "                    kind=kind, dodge=jitter, jitter=jitter,\n",
    "                    palette=palette, height=height, aspect=aspect_ratio, sharey=True,\n",
    "                    facet_kws=facet_kws, alpha=0.7, s=s\n",
    "                    )\n",
    "    g.set_ylabels(r'$\\alpha$ Error (%)')\n",
    "    g.set_titles(row_template='{row_name}Z', col_template='{col_name}')\n",
    "    g.set_xlabels('')\n",
    "    \n",
    "    \n",
    "\n",
    "    types=['aug-cc-pVnZ','aug-cc-pCVnZ','d-aug-cc-pVnZ','d-aug-cc-pCVnZ']\n",
    "    for i ,ax in enumerate(g.axes.flat):\n",
    "        ax.axhline(y=.00, linestyle='--', color='black', linewidth=.35)\n",
    "        ax.set_yscale('symlog', linthresh=1e-1)\n",
    "        ax.yaxis.set_major_formatter(ScalarFormatter())\n",
    "        ax.set_ylim(-30, 30)\n",
    "        ax.axhline(y=.02, linestyle='--', color='red', linewidth=.50)\n",
    "        ax.axhline(y=-.02, linestyle='--', color='red', linewidth=.50)\n",
    "        if i>=4: \n",
    "            t=types[i]\n",
    "            inset_ax=inset_axes(ax,width=\"90%\",height=\"40%\",loc=\"lower center\")\n",
    "            vs=['D','T','Q','5']\n",
    "            inset_data=plot_data.query('valence.isin(@vs)').copy()\n",
    "            inset_data.valence = inset_data.valence.cat.remove_unused_categories()\n",
    "            inset_data=inset_data.query('Type==@t')\n",
    "            sns.stripplot(data=inset_data,x='valence',y='alphaE',hue='mol_system',ax=inset_ax,legend=False,dodge=True,jitter=.1,alpha=.7,s=2.5,palette='colorblind')\n",
    "            inset_ax.set_ylabel('')\n",
    "            inset_ax.set_xlabel('')\n",
    "            # remove tick marks from x axis\n",
    "            inset_ax.set_xticks([])\n",
    "            inset_ax.axhline(y=.02, linestyle='--', color='red', linewidth=.50)\n",
    "            inset_ax.axhline(y=-.02, linestyle='--', color='red', linewidth=.50)\n",
    "            \n",
    "            inset_ax.set_yscale('symlog', linthresh=1e-1)\n",
    "            inset_ax.yaxis.set_major_formatter(ScalarFormatter())\n",
    "\n",
    "            # draw red box around the inset\n",
    "            #inset_ax.add_patch(plt.Rectangle((1.5, -0.25), 2, 0.5, fill=False, edgecolor='black', lw=1,))\n",
    "            \n",
    "            # draw red box around the data in regular plot\n",
    "            #ax.add_patch(plt.Rectangle((1.5, -2.0), 2, 4.0, fill=True, edgecolor='black', lw=1,facecolor='grey',alpha=.10))\n",
    "    \n",
    "        #ax.axhline(y=-.02, linestyle='--', color='black', linewidth=.35)\n",
    "        # rotate the xlabels\n",
    "\n",
    "# remove legend and create a new legend in 3 column format outside the plot\n",
    "g._legend.remove()\n",
    "g.fig.tight_layout()\n",
    "g.fig.legend(loc='center', bbox_to_anchor=(0.5, 1.015), ncol=3, fancybox=True, fontsize=10)\n",
    "#g.fig.savefig(paper_path.joinpath('gamma_error.png'), dpi=600, bbox_inches='tight')\n",
    "g.fig.savefig(paper_path.joinpath('alpha_error.png'), dpi=600, bbox_inches='tight')\n",
    "\n"
   ],
   "metadata": {
    "collapsed": false,
    "ExecuteTime": {
     "end_time": "2024-03-05T00:08:51.978601Z",
     "start_time": "2024-03-05T00:08:49.593714Z"
    }
   },
   "id": "620b1b1480124aff",
   "execution_count": 164,
   "outputs": []
  },
  {
   "cell_type": "code",
   "execution_count": 163,
   "id": "3c930124aa58ae2f",
   "metadata": {
    "ExecuteTime": {
     "end_time": "2024-03-05T00:07:28.866396Z",
     "start_time": "2024-03-05T00:07:26.322853Z"
    }
   },
   "source": [
    "\n",
    "jitter = .05\n",
    "alpha = 0.8\n",
    "vlevel = ['D', 'T', 'Q', '5']\n",
    "plot_data = basis_data.query('valence.isin(@vlevel) and omega==0 & gamma > 1e-3').copy()\n",
    "# remove unused categories from valence\n",
    "plot_data.valence = plot_data.valence.cat.remove_unused_categories()\n",
    "aspect_ratio =1.05 \n",
    "with sns.plotting_context('paper', font_scale=1.00):\n",
    "    facet_kws = {'margin_titles': True, 'despine': False}\n",
    "    g = sns.catplot(x='valence', col='Type', y='gammaE', hue='mol_system',\n",
    "                    data=plot_data,\n",
    "                    kind=kind, dodge=jitter, jitter=jitter,\n",
    "                    palette=palette, height=height, aspect=aspect_ratio, sharey=True,\n",
    "                    facet_kws=facet_kws, alpha=alpha, s=s\n",
    "                    )\n",
    "    # adjust the title to read D=$\\zeta$D, T=$\\zeta$T, etc.\n",
    "    g.set_titles(row_template='{row_name}Z', col_template='{col_name}')\n",
    "\n",
    "    g.set_ylabels(r'$\\gamma$ Error (%)')\n",
    "    g.set_xlabels('')\n",
    "    for i, ax in enumerate(g.axes.flat):\n",
    "        ax.axhline(y=0, linestyle='--', color='black', linewidth=.35)\n",
    "        ax.set_ylim(-500, 500)\n",
    "        ax.axhline(y=.2, linestyle='--', color='red', linewidth=.50)\n",
    "        ax.axhline(y=-.2, linestyle='--', color='red', linewidth=.50)\n",
    "        ax.set_yscale('symlog', linthresh=1)\n",
    "        ax.yaxis.set_major_formatter(ScalarFormatter())\n",
    "\n",
    "g._legend.remove()\n",
    "g.fig.legend(loc='upper center', bbox_to_anchor=(0.5, 1.15), ncol=3, fancybox=True, fontsize=10)\n",
    "g.fig.tight_layout()\n",
    "g.fig.savefig(paper_path.joinpath('gamma_error.png'), dpi=600, bbox_inches='tight')\n"
   ],
   "outputs": []
  },
  {
   "cell_type": "code",
   "source": [
    "vlevel = ['D', 'T', 'Q', '5']\n",
    "basis_e_data = MRAComparedBasisDF(august_database.energy_df, ['molecule'], ['energy'], False)\n",
    "plot_data = basis_e_data.query('valence.isin(@vlevel)').copy()\n",
    "# remove unused categories from valence\n",
    "# remove unused categories from valence\n",
    "plot_data.valence = plot_data.valence.cat.remove_unused_categories()\n",
    "with sns.plotting_context('paper', font_scale=1.00):\n",
    "    facet_kws = {'margin_titles': True, 'despine': False}\n",
    "    g = sns.catplot(x='valence', col='Type', y='energyE', hue='mol_system',\n",
    "                    data=plot_data,\n",
    "                    kind=kind, dodge=jitter, jitter=jitter,\n",
    "                    palette=palette, height=height, aspect=aspect_ratio, sharey=True,\n",
    "                    facet_kws=facet_kws, alpha=0.7, s=s\n",
    "                    )\n",
    "    # adjust the title to read D=$\\zeta$D, T=$\\zeta$T, etc.\n",
    "    g.set_titles(row_template='{row_name}Z', col_template='{col_name}')\n",
    "\n",
    "    g.set_xlabels('')\n",
    "    g.set_ylabels(r'Energy Error (a.u.)')\n",
    "    for i, ax in enumerate(g.axes.flat):\n",
    "        #ax.axhline(y=.02, linestyle='--', color='black', linewidth=.35)\n",
    "        ax.axhline(y=-.00, linestyle='--', color='black', linewidth=.35)\n",
    "g._legend.remove()\n",
    "g.fig.legend(loc='upper center', bbox_to_anchor=(0.5, 1.15), ncol=3, fancybox=True, fontsize=10)\n",
    "g.fig.tight_layout()\n",
    "g.fig.savefig(paper_path.joinpath('energy_error.png'), dpi=600, bbox_inches='tight')\n"
   ],
   "metadata": {
    "collapsed": false,
    "ExecuteTime": {
     "end_time": "2024-03-04T20:42:35.778372Z",
     "start_time": "2024-03-04T20:42:33.727746Z"
    }
   },
   "id": "142dfc033667ac90",
   "execution_count": 61,
   "outputs": []
  },
  {
   "cell_type": "code",
   "execution_count": 62,
   "id": "68efe216869e19ae",
   "metadata": {
    "ExecuteTime": {
     "end_time": "2024-03-04T20:42:42.022267Z",
     "start_time": "2024-03-04T20:42:35.779415Z"
    }
   },
   "source": [
    "# Now make a plot of the frequency dependence of the error\n",
    "\n",
    "vlevel = ['D', 'T', 'Q', '5']\n",
    "plot_data = basis_data.query('valence.isin(@vlevel)').copy()\n",
    "# remove unused categories from valence\n",
    "plot_data.valence = plot_data.valence.cat.remove_unused_categories()\n",
    "aspect_ratio = 1.2\n",
    "with sns.plotting_context('paper', font_scale=1.00):\n",
    "    facet_kws = {'margin_titles': True}\n",
    "    g = sns.catplot(row='valence', col='Type',\n",
    "                    x='omega',\n",
    "                    y='alphaE', hue='mol_system',\n",
    "                    data=plot_data, kind='strip',\n",
    "                    dodge=True, jitter=False,\n",
    "                    palette='colorblind',\n",
    "                    height=1.5, aspect=aspect_ratio, sharex=True, sharey='row',\n",
    "                    alpha=alpha,\n",
    "                    s=5,\n",
    "                    margin_titles=True,\n",
    "                    facet_kws=facet_kws)\n",
    "\n",
    "    # adjust the title to read D=$\\zeta$D, T=$\\zeta$T, etc.\n",
    "    g.set_titles(col_template='{col_name}', row_template='{row_name}Z')\n",
    "\n",
    "    g.set_xlabels('Frequency')\n",
    "    for ax in g.axes.flat:\n",
    "        # draw horizontal line at .05%rue\n",
    "        #ax.set_yscale('symlog', linthresh=1e-1)\n",
    "        ax.axhline(y=.02, linestyle='--', color='black', linewidth=.35)\n",
    "        ax.axhline(y=-.02, linestyle='--', color='black', linewidth=.35)\n",
    "        # for the symlog scale to regular notation with no decimal places for the y axis\n",
    "\n",
    "        # make the y limits symmetrical for each plot using the max absolute value\n",
    "        max_lim = max(abs(ax.get_ylim()[0]), abs(ax.get_ylim()[1]))\n",
    "        #ax.set_ylim(-max_lim, max_lim)\n",
    "        # remove the y axis label if not the first column\n",
    "        if ax.get_subplotspec().colspan.start != 0:\n",
    "            ax.set_ylabel('')\n",
    "        else:\n",
    "            ax.set_ylabel(r'$\\alpha$ Error (%)')\n",
    "\n",
    "        #ax.set_ylabel(r'$\\alpha$ Error (%)')\n",
    "        # rotate the xlabels\n",
    "        for label in ax.get_xticklabels():\n",
    "            label.set_horizontalalignment('right')\n",
    "\n",
    "        # create vertical lines to separate basis sets\n",
    "        for i in range(1, len(plot_data.omega.unique())):\n",
    "            ax.axvline(i - .5, linestyle='-.', color='k', linewidth=.5, alpha=0.5)\n",
    "\n",
    "# remove legend and create a new legend in 3 column format outside the plot\n",
    "g._legend.remove()\n",
    "# rename legend title\n",
    "#g._legend.set_title('Subset')\n",
    "g.fig.tight_layout()\n",
    "g.fig.legend(loc='upper center', bbox_to_anchor=(0.5, 1.05), ncol=3, fancybox=True, fontsize=10)\n",
    "g.fig.savefig(paper_path.joinpath('alpha_freq_error.png'), dpi=600, bbox_inches='tight')\n"
   ],
   "outputs": []
  },
  {
   "cell_type": "code",
   "execution_count": 63,
   "id": "cde6d4dbc7c4ce52",
   "metadata": {
    "ExecuteTime": {
     "end_time": "2024-03-04T20:42:42.028615Z",
     "start_time": "2024-03-04T20:42:42.023170Z"
    }
   },
   "source": [
    "# query molecules with alphaE.abs()>.2 in singly augmented 5Z basis\n",
    "plot_data = basis_data.query('valence==\"5\" and augmentation==\"aug\" and alphaE.abs()>.2').copy()\n",
    "mol5 = plot_data.molecule.unique()"
   ],
   "outputs": []
  },
  {
   "cell_type": "code",
   "execution_count": 64,
   "id": "c0a6949d58120558",
   "metadata": {
    "ExecuteTime": {
     "end_time": "2024-03-04T20:42:42.035200Z",
     "start_time": "2024-03-04T20:42:42.029334Z"
    }
   },
   "source": [
    "# query molecules with alphaE.abs()>.2 in singly augmented 5Z basis\n",
    "plot_data = basis_data.query('valence==\"Q\" and Type==\"d-aug-cc-pVnZ\" and alphaE.abs()>.25').copy()\n",
    "daug_outliers = plot_data.molecule.unique()\n",
    "plot_data = basis_data.query('valence==\"Q\" and Type==\"aug-cc-pVnZ\" and alphaE.abs()>.6').copy()\n",
    "aug_outliers = plot_data.molecule.unique()\n",
    "\n",
    "\n",
    "\n"
   ],
   "outputs": []
  },
  {
   "cell_type": "code",
   "execution_count": 65,
   "id": "d19725e468296b65",
   "metadata": {
    "ExecuteTime": {
     "end_time": "2024-03-04T20:42:46.675409Z",
     "start_time": "2024-03-04T20:42:42.036474Z"
    }
   },
   "source": [
    "vlevel = ['Q']\n",
    "plot_data = (basis_data.query('valence.isin(@vlevel) & molecule.isin(@aug_outliers)')\n",
    "             .copy())\n",
    "# remove unused categories from valence\n",
    "plot_data.valence = plot_data.valence.cat.remove_unused_categories()\n",
    "facet_kws = {'margin_titles': True, 'sharey': False, 'sharex': True}\n",
    "\n",
    "with sns.plotting_context('paper', font_scale=1.05):\n",
    "    g = sns.relplot(col='molecule',\n",
    "                    col_wrap=3,\n",
    "                    x='omega',\n",
    "                    y='alphaE',\n",
    "                    hue='Type',\n",
    "                    style='Type',\n",
    "                    data=plot_data, kind='line',\n",
    "                    palette='colorblind', height=2.0, aspect=1.2,\n",
    "                    markers=True,\n",
    "                    ms=5,\n",
    "                    facet_kws=facet_kws)\n",
    "    # adjust the title to read D=$\\zeta$D, T=$\\zeta$T, etc.\n",
    "\n",
    "    g.set_xlabels('$\\omega(i)$')\n",
    "    g.set_xlabels('Frequency')\n",
    "    ax_titles = ['aug-cc-pVQZ', 'aug-cc-pCVQZ', 'd-aug-cc-pVQZ', 'd-aug-cc-pCVQZ']\n",
    "    g.set_titles(col_template='{col_name}')\n",
    "    for i, ax in enumerate(g.axes.flat):\n",
    "        # draw horizontal line at .05%rue\n",
    "        #ax.set_yscale('symlog', linthresh=1e-2)\n",
    "        max_lim = max(abs(ax.get_ylim()[0]), abs(ax.get_ylim()[1]))\n",
    "        ax.set_ylim(-max_lim, max_lim)\n",
    "        ax.axhline(y=.02, linestyle='--', color='black', linewidth=.35)\n",
    "        ax.axhline(y=-.02, linestyle='--', color='black', linewidth=.35)\n",
    "        # for the symlog scale to regular notation with no decimal places for the y axis\n",
    "\n",
    "        if i % 3 == 0:\n",
    "            ax.set_ylabel(r'$\\alpha$ Error (%)')\n",
    "        else:\n",
    "            ax.set_ylabel('')\n",
    "        # rotate the xlabels\n",
    "        for label in ax.get_xticklabels():\n",
    "            label.set_horizontalalignment('right')\n",
    "\n",
    "g.fig.tight_layout()\n",
    "g._legend.remove()\n",
    "g.fig.legend(loc='upper center', bbox_to_anchor=(0.5, 1.060), fancybox=False, ncol=4)\n",
    "g.fig.savefig(paper_path.joinpath('frequency_dependent_iso_error.png'), dpi=600,\n",
    "              bbox_inches='tight')\n"
   ],
   "outputs": []
  },
  {
   "cell_type": "code",
   "source": [
    "ij_basis_data = MRAComparedBasisDF(august_database.alpha_eigen, ['molecule', 'ij', 'omega'], ['alpha'], True)\n",
    "selection = ['SF2', 'Na2', 'NaCl', 'BH2Cl', 'HF', ]\n",
    "vlevel = ['Q']\n",
    "plot_data = (ij_basis_data.query('valence.isin(@vlevel) & molecule.isin(@selection)')\n",
    "             .copy())\n",
    "# remove unused categories from valence\n",
    "plot_data.valence = plot_data.valence.cat.remove_unused_categories()\n",
    "facet_kws = {'margin_titles': True, 'sharey': \"row\", 'sharex': True}\n",
    "\n",
    "with sns.plotting_context('paper', font_scale=1.00):\n",
    "    g = sns.relplot(row='molecule',\n",
    "                    x='omega',\n",
    "                    y='alphaE',\n",
    "                    hue='Type',\n",
    "                    col='ij',\n",
    "                    data=plot_data, kind='line',\n",
    "                    palette='colorblind',\n",
    "                    height=2.0, aspect=1.2,\n",
    "                    markers=True,\n",
    "                    style='Type',\n",
    "                    ms=7,\n",
    "                    facet_kws=facet_kws)\n",
    "    # adjust the title to read D=$\\zeta$D, T=$\\zeta$T, etc.\n",
    "\n",
    "    g.set_xlabels('$\\omega(i)$')\n",
    "    g.set_xlabels('Frequency')\n",
    "    ax_titles = ['aug-cc-pVQZ', 'aug-cc-pCVQZ', 'd-aug-cc-pVQZ', 'd-aug-cc-pCVQZ']\n",
    "    g.set_titles(col_template='{col_name}', row_template='{row_name}')\n",
    "    for i, ax in enumerate(g.axes.flat):\n",
    "        # draw horizontal line at .05%rue\n",
    "        #ax.set_yscale('symlog', linthresh=1e-2)\n",
    "        #ax.axhline(y=.02, linestyle='--', color='black',linewidth=.35)\n",
    "        #ax.axhline(y=-.02, linestyle='--', color='black',linewidth=.35)\n",
    "        max_lim = max(abs(ax.get_ylim()[0]), abs(ax.get_ylim()[1]))\n",
    "        ax.set_ylim(-max_lim, max_lim)\n",
    "        # for the symlog scale to regular notation with no decimal places for the y axis\n",
    "\n",
    "        if i % 3 == 0:\n",
    "            ax.set_ylabel(r'$\\alpha$ Error (%)')\n",
    "        else:\n",
    "            ax.set_ylabel('')\n",
    "        # rotate the xlabels\n",
    "        for label in ax.get_xticklabels():\n",
    "            label.set_horizontalalignment('right')\n",
    "\n",
    "g.fig.tight_layout()\n",
    "g._legend.remove()\n",
    "g.fig.legend(loc='upper center', bbox_to_anchor=(0.5, 1.025), fancybox=True, ncol=4)\n",
    "g.fig.savefig(paper_path.joinpath('frequency_dependent_component_error.png'), dpi=600,\n",
    "              bbox_inches='tight')\n"
   ],
   "metadata": {
    "collapsed": false,
    "ExecuteTime": {
     "end_time": "2024-03-04T20:42:52.617999Z",
     "start_time": "2024-03-04T20:42:46.676410Z"
    }
   },
   "id": "2b9fcc97c0004e63",
   "execution_count": 66,
   "outputs": []
  },
  {
   "cell_type": "code",
   "execution_count": 67,
   "id": "55404f8c2dabda54",
   "metadata": {
    "ExecuteTime": {
     "end_time": "2024-03-04T20:42:52.758511Z",
     "start_time": "2024-03-04T20:42:52.619108Z"
    }
   },
   "source": [
    "\n",
    "ij_basis_data = MRAComparedBasisDF(august_database.alpha_eigen, ['molecule', 'ij', 'omega'], ['alpha'], True)\n",
    "ij_basis_data\n"
   ],
   "outputs": []
  },
  {
   "cell_type": "code",
   "source": [
    "# save as csv \n",
    "\n",
    "csv_dir_path = Path('/home/adrianhurtado/projects/QuantumResponsePro/examples/data_apps/csv')\n",
    "ij_basis_data.to_csv(csv_dir_path.joinpath('alpha_ij.csv'))"
   ],
   "metadata": {
    "collapsed": false,
    "ExecuteTime": {
     "end_time": "2024-03-04T20:42:52.893898Z",
     "start_time": "2024-03-04T20:42:52.759498Z"
    }
   },
   "id": "1279459b8ee9df78",
   "execution_count": 68,
   "outputs": []
  },
  {
   "cell_type": "code",
   "execution_count": 69,
   "id": "1676f98e4748666",
   "metadata": {
    "ExecuteTime": {
     "end_time": "2024-03-04T20:42:52.900684Z",
     "start_time": "2024-03-04T20:42:52.894985Z"
    }
   },
   "source": [
    "# query molecules with alphaE.abs()>.2 in singly augmented 5Z basis\n",
    "plot_data = basis_data.query('valence==\"Q\" and gammaE.abs()>4.0 & gamma>1e-2').copy()\n",
    "gamma_outliers = plot_data.molecule.unique()\n",
    "gamma_outliers.tolist()\n",
    "\n",
    "\n"
   ],
   "outputs": []
  },
  {
   "cell_type": "code",
   "execution_count": 70,
   "id": "31684e8c50406bad",
   "metadata": {
    "ExecuteTime": {
     "end_time": "2024-03-04T20:42:55.802210Z",
     "start_time": "2024-03-04T20:42:52.901380Z"
    }
   },
   "source": [
    "facet_kw = {'sharey': \"row\", 'sharex': True, \"margin_titles\": True}\n",
    "ms = ['First-row', 'Fluorine']\n",
    "type = ['aug-cc-pVnZ', 'd-aug-cc-pVnZ']\n",
    "vlevels = ['D', 'T', 'Q', '5']\n",
    "\n",
    "p_data = ij_basis_data.query('molecule.isin(@gamma_outliers) and mol_system.isin'\n",
    "                             '(@ms) & Type.isin(@type) ').copy()\n",
    "p_data = p_data.query('valence.isin(@vlevels) and omega==0').copy()\n",
    "#p_data.Type = p_data.Type.cat.remove_unused_categories()\n",
    "\n",
    "# plot valence vs alpha error with component hue for each molecule\n",
    "with sns.plotting_context('paper', font_scale=1.0, ):\n",
    "    facet_kw = {'sharey': \"row\", 'sharex': True, \"margin_titles\": True}\n",
    "    g = sns.relplot(row='molecule',\n",
    "                    x='valence', y='alphaE', col='ij',\n",
    "                    hue='Type',\n",
    "                    style='Type',\n",
    "                    kind='line',\n",
    "                    data=p_data,\n",
    "                    markers=True,\n",
    "                    dashes=True,\n",
    "                    palette=\"colorblind\",\n",
    "                    height=1.5, aspect=1.2, facet_kws=facet_kw, ms=5, alpha=.8)\n",
    "    # adjust the title to read D=$\\zeta$D, T=$\\zeta$T, etc.\n",
    "\n",
    "    g.set_titles(col_template='{col_name}')\n",
    "    g.set_ylabels(r'$\\alpha_{ij}$ Error (%)')\n",
    "    g.margin_titles = True\n",
    "    g.set_titles(col_template='{col_name}', row_template='{row_name}')\n",
    "    g.set_xlabels('')\n",
    "\n",
    "    for ax in g.axes.flat:\n",
    "        ax.axhline(y=-.00, linestyle='--', color='black', linewidth=.5)\n",
    "\n",
    "g.fig.tight_layout()\n",
    "g._legend.remove()\n",
    "\n",
    "g.fig.legend(loc='upper center', bbox_to_anchor=(0.5, 1.025), fancybox=True, ncol=4, fontsize=8)\n",
    "g.savefig(paper_path.joinpath('first_and_fluorine_component_error.png'), dpi=600)\n",
    "\n"
   ],
   "outputs": []
  },
  {
   "cell_type": "code",
   "execution_count": 71,
   "id": "98bb2d0148b92cee",
   "metadata": {
    "ExecuteTime": {
     "end_time": "2024-03-04T20:42:58.979540Z",
     "start_time": "2024-03-04T20:42:55.803061Z"
    }
   },
   "source": [
    "gamma_outliers = plot_data.molecule.unique()\n",
    "gamma_outliers.tolist()\n",
    "\n",
    "gamma_outliers = gamma_outliers.tolist() + ['SF2']\n",
    "\n",
    "selected = ['SiO', 'NaCl', 'SH2', 'NaH']\n",
    "\n",
    "ms = ['Second-row']\n",
    "p_data = ij_basis_data.query('molecule.isin(@selected) and mol_system.isin'\n",
    "                             '(@ms) and omega==0').copy()\n",
    "#remove \n",
    "facet_kw = {'sharey': \"row\", 'sharex': True, \"margin_titles\": True}\n",
    "# plot valence vs alpha error with component hue for each moleculek\n",
    "with sns.plotting_context('paper', font_scale=1.0, ):\n",
    "    g = sns.relplot(row='molecule',\n",
    "                    x='valence', y='alphaE', col='ij',\n",
    "                    hue='Type',\n",
    "                    style='Type',\n",
    "                    kind='line',\n",
    "                    data=p_data,\n",
    "                    palette=\"colorblind\",\n",
    "                    markers=True,\n",
    "                    dashes=True,\n",
    "                    height=1.5, aspect=1.2, facet_kws=facet_kw, ms=5, alpha=.8)\n",
    "    # adjust the title to read D=$\\zeta$D, T=$\\zeta$T, etc.\n",
    "    g.set_titles(col_template='{col_name}')\n",
    "    g.set_ylabels(r'$\\alpha_{ij}$ Error (%)')\n",
    "    g.set_titles(col_template='{col_name}', row_template='{row_name}')\n",
    "    g.set_xlabels('')\n",
    "\n",
    "    for ax in g.axes.flat:\n",
    "        ax.axhline(y=.0, linestyle='--', color='black', linewidth=.5)\n",
    "\n",
    "g.fig.tight_layout()\n",
    "g._legend.remove()\n",
    "g.fig.legend(loc='upper center', bbox_to_anchor=(0.5, 1.025), fancybox=True, ncol=4, fontsize=8)\n",
    "g.savefig(paper_path.joinpath('component_error.png'), dpi=600)\n"
   ],
   "outputs": []
  },
  {
   "cell_type": "code",
   "source": [
    "basis_e_data = MRAComparedBasisDF(august_database.energy_df, ['molecule'], ['energy'], False)\n",
    "len(basis_e_data.molecule.unique())"
   ],
   "metadata": {
    "collapsed": false,
    "ExecuteTime": {
     "end_time": "2024-03-04T20:42:58.999287Z",
     "start_time": "2024-03-04T20:42:58.980386Z"
    }
   },
   "id": "7adf81d4b41619c",
   "execution_count": 72,
   "outputs": []
  },
  {
   "cell_type": "code",
   "execution_count": 73,
   "id": "ff47afac25c2b4e5",
   "metadata": {
    "ExecuteTime": {
     "end_time": "2024-03-04T20:43:00.560861Z",
     "start_time": "2024-03-04T20:42:59.000124Z"
    }
   },
   "source": [
    "vlevel = ['D', 'T', 'Q', '5']\n",
    "plot_data = basis_e_data.query('valence.isin(@vlevel)').copy()\n",
    "# remove unused categories from valence\n",
    "plot_data.valence = plot_data.valence.cat.remove_unused_categories()\n",
    "with sns.plotting_context('paper', font_scale=1.00):\n",
    "    g = sns.catplot(col='valence', x='Type', y='energyE', hue='mol_system',\n",
    "                    data=plot_data, kind='strip', dodge=True, jitter=True,\n",
    "                    s=15, palette='colorblind', height=4, aspect=aspect_ratio, sharey=True,\n",
    "                    alpha=0.8)\n",
    "    # adjust the title to read D=$\\zeta$D, T=$\\zeta$T, etc.\n",
    "    g.set_titles('{col_name}Z')\n",
    "    g.set_xlabels('')\n",
    "\n",
    "    for ax in g.axes.flat:\n",
    "        # draw horizontal line at .05%\n",
    "        ax.set_yscale('log')\n",
    "        #ax.axhline(y=.05,linestyle='--',color='orange')\n",
    "        #ax.axhline(y=-.05,linestyle='--',color='orange')\n",
    "        # for the symlog scale to regular notation with no decimal places for the y axis\n",
    "        ax.yaxis.set_major_formatter(ScalarFormatter())\n",
    "        ax.yaxis.set_major_formatter(FormatStrFormatter('%2g'))\n",
    "        # on each axis divide the background into 4 regions horizontally and color the background \n",
    "        # of each region a different color\n",
    "        xl = ['sn', 'sCn', 'dn', 'dCn']\n",
    "        ax.set_xticklabels(xl)\n",
    "\n",
    "        ax.set_ylabel(r'Energy Error (a.u.)')\n",
    "        # rotate the xlabels\n",
    "        # create vertical lines to separate basis sets\n",
    "        for i in range(1, len(plot_data.Type.unique())):\n",
    "            ax.axvline(i - .5, linestyle='-.', color='k', linewidth=.5, alpha=.8)\n",
    "\n",
    "        for i in range(1, 5):\n",
    "            ax.axvspan((i - 1) - .5, i - .5, 1e-3, facecolor=pal[i - 1], alpha=0.1)\n",
    "        # remove the legend title\n",
    "\n",
    "# remove legend and create a new legend in 3 column format outside the plot\n",
    "g._legend.remove()\n",
    "g.fig.legend(loc='center', bbox_to_anchor=(0.5, 1.05), ncol=3, fancybox=True, fontsize=10)\n",
    "g.fig.tight_layout()\n",
    "\n",
    "#g.fig.savefig(paper_path.joinpath('energy_error.png'), dpi=600, bbox_inches='tight')\n"
   ],
   "outputs": []
  },
  {
   "cell_type": "code",
   "source": [],
   "metadata": {
    "collapsed": false,
    "ExecuteTime": {
     "end_time": "2024-03-04T20:43:00.564064Z",
     "start_time": "2024-03-04T20:43:00.562214Z"
    }
   },
   "id": "c6dd8f3c38a71d5f",
   "execution_count": 73,
   "outputs": []
  },
  {
   "cell_type": "code",
   "execution_count": 74,
   "id": "24bf509c38d885e8",
   "metadata": {
    "ExecuteTime": {
     "end_time": "2024-03-04T20:43:01.634956Z",
     "start_time": "2024-03-04T20:43:00.566041Z"
    }
   },
   "source": [
    "\n",
    "daug_outliers = (basis_e_data.query('valence==\"Q\" & basis==\"d-aug-cc-pVQZ\" ').sort_values\n",
    "                 ('energyE',\n",
    "                  ascending=False).head(20)).molecule.unique()\n",
    "daugC_outliers = (basis_e_data.query('valence==\"Q\" & basis==\"d-aug-cc-pCVQZ\"').sort_values\n",
    "                  ('energyE',\n",
    "                   ascending=False).head(20)).molecule.unique()\n",
    "e_outliers = daug_outliers.tolist() + daugC_outliers.tolist()\n",
    "e_outliers = (basis_e_data.query(\"molecule.isin(@e_outliers) & valence=='Q' & \"\n",
    "                                 \"augmentation=='d-aug'\")\n",
    "              )\n",
    "# remove any values less with abs less than 0.02\n",
    "e_outliers = e_outliers.query('energyE.abs()>.002').sort_values('energyE', ascending=True)\n",
    "\n",
    "with sns.plotting_context('paper', font_scale=1.00):\n",
    "    #g = sns.FacetGrid(data=e_outliers, col='polarization', hue='mol_system', sharey=True,\n",
    "    #                  sharex=False, aspect=2.0, height\n",
    "    #                  =10, col_order=['V', 'CV'])\n",
    "    #g.map(sns.barplot, 'molecule', 'eE', 'basis',  alpha=.9)\n",
    "    ## adjust title to read d-aug-cc-pVQZ\n",
    "    # color the bars based on molecules mol_system typeo\n",
    "    g = sns.catplot(x='molecule', y='energyE',\n",
    "                    hue='mol_system',\n",
    "                    col='polarization', col_order=['V', 'CV'],\n",
    "                    data=e_outliers, dodge=False,\n",
    "                    alpha=.9, palette='colorblind', fill=True, height=3, aspect=1.4, kind='bar',\n",
    "                    sharex=False\n",
    "                    )\n",
    "    g.set_titles('d-aug-cc-p{col_name}QZ')\n",
    "    g.set_xlabels('')\n",
    "    g.set_ylabels('Energy Error (a.u.)')\n",
    "    # rotate the xticks\n",
    "    for ax in g.axes.flat:\n",
    "        for label in ax.get_xticklabels():\n",
    "            label.set_rotation(90)\n",
    "            label.set_horizontalalignment('center')\n",
    "    # remove legend title\n",
    "    # create a new legend in 3 column format outside the plot\n",
    "    # using only a single legend only using the second axis\n",
    "    #g.fig.savefig(paper_path.joinpath('energy_error_outliers.png'), dpi=600, bbox_inches='tight')"
   ],
   "outputs": []
  },
  {
   "cell_type": "code",
   "execution_count": 75,
   "id": "40b3f46eff72a56c",
   "metadata": {
    "ExecuteTime": {
     "end_time": "2024-03-04T20:43:03.442114Z",
     "start_time": "2024-03-04T20:43:01.636236Z"
    }
   },
   "source": [
    "\n",
    "basis_data['absolute_alphaE'] = basis_data.alphaE.abs()\n",
    "\n",
    "daug_outliers = (basis_data.query('valence==\"Q\" & basis==\"d-aug-cc-pVQZ\" & omega==0').sort_values\n",
    "                 ('absolute_alphaE',\n",
    "                  ascending=False).head(20)).molecule.unique()\n",
    "daugC_outliers = (basis_data.query('valence==\"Q\" & basis==\"d-aug-cc-pCVQZ\" & omega==0').sort_values\n",
    "                  ('absolute_alphaE',\n",
    "                   ascending=False).head(20)).molecule.unique()\n",
    "\n",
    "a_outliers = daug_outliers.tolist() + daugC_outliers.tolist()\n",
    "print(a_outliers)\n",
    "\n",
    "a_outliers = (basis_data.query(\"molecule.isin(@a_outliers) & valence=='Q' & augmentation=='d-aug' \")\n",
    "              .sort_values\n",
    "              ('alphaE', ascending=True)\n",
    "              .sort_values('alphaE'))\n",
    "# remove any values less with abs less than 0.02\n",
    "a_outliers = a_outliers.query('alphaE.abs()>.02')\n",
    "\n",
    "with sns.plotting_context('paper', font_scale=1.00):\n",
    "    #g = sns.FacetGrid(data=e_outliers, col='polarization', hue='mol_system', sharey=True,\n",
    "    #                  sharex=False, aspect=2.0, height\n",
    "    #                  =10, col_order=['V', 'CV'])\n",
    "    #g.map(sns.barplot, 'molecule', 'eE', 'basis',  alpha=.9)\n",
    "    ## adjust title to read d-aug-cc-pVQZ\n",
    "    # color the bars based on molecules mol_system typeo\n",
    "    g = sns.catplot(x='molecule', y='alphaE',\n",
    "                    hue='mol_system',\n",
    "                    col='polarization', col_order=['V', 'CV'],\n",
    "                    data=a_outliers, dodge=False,\n",
    "                    alpha=.9, palette='colorblind', fill=True, height=3, aspect=1.4, kind='bar'\n",
    "                    , sharey=False,\n",
    "                    sharex=False\n",
    "                    )\n",
    "    g.set_titles('d-aug-cc-p{col_name}QZ')\n",
    "    g.set_xlabels('')\n",
    "    g.set_ylabels(r'$\\alpha$ Error (%)')\n",
    "    # rotate the xticks\n",
    "    for ax in g.axes.flat:\n",
    "        for label in ax.get_xticklabels():\n",
    "            label.set_rotation(90)\n",
    "            label.set_horizontalalignment('center')\n",
    "        # add a horizontal line at 0.02 and -0.02\n",
    "        ax.axhline(y=.02, linestyle='--', color='orange')\n",
    "        ax.axhline(y=-.02, linestyle='--', color='orange')\n",
    "        # symlog scale\n",
    "    # remove legend title\n",
    "    # create a new legend in 3 column format outside the plot\n",
    "    # using only a single legend only using the second axis\n",
    "    #g.fig.savefig(paper_path.joinpath('alpha_error_outliers.png'), dpi=600, bbox_inches='tight')\n"
   ],
   "outputs": []
  },
  {
   "cell_type": "code",
   "execution_count": 76,
   "id": "29ce89a4bd592127",
   "metadata": {
    "ExecuteTime": {
     "end_time": "2024-03-04T20:43:07.719589Z",
     "start_time": "2024-03-04T20:43:03.442974Z"
    }
   },
   "source": [
    "# make a plot of the frequency dependence of the error for a single molecule\n",
    "mol = ['NaCl', 'NaCN', 'Na2', 'NaH', 'Be', 'NH2F', 'HF', 'F2', 'Ne']\n",
    "plot_data = basis_data.query('molecule.isin(@mol)').copy()\n",
    "# remove unused categories from valence\n",
    "plot_data.valence = plot_data.valence.cat.remove_unused_categories()\n",
    "# plot valence versus alpha error with component hue for Type\n",
    "facet_kw = {'sharey': False, 'sharex': False}\n",
    "\n",
    "with sns.plotting_context('paper', font_scale=1.00):\n",
    "    g = sns.relplot(x='valence', y='alphaE', hue='Type', kind='line', data=plot_data,\n",
    "                    palette=pal, markers=True, height=2, aspect=1, alpha=.8, col='molecule', col_wrap=3, facet_kws=facet_kw)\n",
    "    g.set_ylabels(r'$\\alpha$ Error (%)')\n",
    "    g.set_xlabels('')\n",
    "\n",
    "    g.set_titles('{col_name}')\n",
    "\n",
    "    # symlog scale\n",
    "    for ax in g.axes.flat:\n",
    "        #ax.set_yscale('symlog', linthresh=1e-1)\n",
    "        ax.axhline(y=.02, linestyle='--', color='orange')\n",
    "        ax.axhline(y=-.02, linestyle='--', color='orange')\n",
    "        # set the yaxis to scalar formatter\n",
    "        ax.yaxis.set_major_formatter(ScalarFormatter())\n",
    "    g.savefig(paper_path.joinpath('alpha_outlier_valence_error.png'), dpi=600, bbox_inches='tight')\n"
   ],
   "outputs": []
  },
  {
   "cell_type": "code",
   "execution_count": 77,
   "id": "95f8fe9a1aa9e206",
   "metadata": {
    "ExecuteTime": {
     "end_time": "2024-03-04T20:43:07.765914Z",
     "start_time": "2024-03-04T20:43:07.720411Z"
    }
   },
   "source": [
    "basis_data\n",
    "data = pd.DataFrame()\n",
    "# for each frequency\n",
    "for omega in basis_data.omega.unique():\n",
    "    # filter data for frequency\n",
    "    omega_data = basis_data.query('omega==@omega')\n",
    "    # create the column for eE by first setting index to basis and molecule\n",
    "    omega_data = omega_data.set_index(['basis', 'molecule'])\n",
    "    # create a column of MRA energy data for each molecule omega pair\n",
    "    omega_data['eE'] = basis_e_data.set_index(['basis', 'molecule'])['energyE']\n",
    "    # reset index\n",
    "    omega_data = omega_data.reset_index()\n",
    "    # concat to full data\n",
    "    data = pd.concat([data, omega_data])\n",
    "\n",
    "bdata = data.copy()\n",
    "\n",
    "\n"
   ],
   "outputs": []
  },
  {
   "cell_type": "code",
   "execution_count": 78,
   "id": "516ad585e89d775d",
   "metadata": {
    "ExecuteTime": {
     "end_time": "2024-03-04T20:43:09.094680Z",
     "start_time": "2024-03-04T20:43:07.766896Z"
    }
   },
   "source": [
    "v_level = ['D', 'T', 'Q', '5']\n",
    "omegas = [0, 1, 2, 3, 4, 5, 6, 7, 8]\n",
    "molsys = ['First-row', 'Fluorine']\n",
    "types = ['aug-cc-pVnZ', 'd-aug-cc-pVnZ']\n",
    "data = (bdata.query(\n",
    "    'valence.isin(@v_level) & omega.isin(@omegas) & mol_system.isin(@molsys) & Type.isin(@types) ')\n",
    "        .copy())\n",
    "data.valence = data.valence.cat.remove_unused_categories()\n",
    "data.Type = data.Type.cat.remove_unused_categories()\n",
    "data.mol_system = data.mol_system.cat.remove_unused_categories()\n",
    "data['absolute_alphaE'] = data.alphaE.abs()\n",
    "\n",
    "# relplot comparing energy error to alpha error\n",
    "facet_kw = {\"sharey\": True, \"sharex\": True, \"margin_titles\": True}\n",
    "with sns.plotting_context('paper', font_scale=1.25):\n",
    "    g = sns.relplot(x='eE', y='alphaE', col='Type', hue='valence', data=data, kind='scatter',\n",
    "                    size='omega',\n",
    "                    legend=True,\n",
    "                    row='mol_system',\n",
    "                    palette='Set1', height=4, aspect=1,\n",
    "                    alpha=0.5, facet_kws=facet_kw)\n",
    "    g.set_xlabels('Energy Error (a.u.)')\n",
    "    g.set_ylabels(r'$\\alpha$ Error (%)')\n",
    "    g.set_titles(row_template='{row_name}', col_template='{col_name}')\n",
    "\n",
    "g.fig.gca().invert_xaxis()\n",
    "\n",
    "#g.fig.savefig(paper_path.joinpath('alpha_energy_error_1.png'), dpi=600)\n",
    "\n",
    "# remove the legend title"
   ],
   "outputs": []
  },
  {
   "cell_type": "code",
   "execution_count": 79,
   "id": "ab1ea913eef27b75",
   "metadata": {
    "ExecuteTime": {
     "end_time": "2024-03-04T20:43:10.930075Z",
     "start_time": "2024-03-04T20:43:09.095387Z"
    }
   },
   "source": [
    "omegas = [0, 1, 2, 3, 4, 5, 6, 7, 8]\n",
    "molsys = ['Second-row']\n",
    "data = bdata.query(\n",
    "    'valence.isin(@v_level) & omega.isin(@omegas) & mol_system.isin(@molsys) ').copy()\n",
    "data.valence = data.valence.cat.remove_unused_categories()\n",
    "data.mol_system = data.mol_system.cat.remove_unused_categories()\n",
    "data['absolute_alphaE'] = data.alphaE.abs()\n",
    "\n",
    "# relplot comparing energy error to alpha error\n",
    "facet_kw = {\"sharey\": True, \"sharex\": True, \"margin_titles\": True}\n",
    "with sns.plotting_context('paper', font_scale=1.25):\n",
    "    g = sns.relplot(x='eE', y='alphaE', row='polarization', hue='valence', data=data,\n",
    "                    kind='scatter', s=50,\n",
    "                    row_order=['V', 'CV'],\n",
    "                    col='augmentation',\n",
    "                    size='omega',\n",
    "                    palette='Set1', height=4, aspect=1, legend='full',\n",
    "                    alpha=0.5, facet_kws=facet_kw)\n",
    "    g.set_titles(row_template='{row_name}', col_template='{col_name}')\n",
    "    for ax in g.axes.flat:\n",
    "        #ax.set_yscale('symlog', linthresh=1e-1)\n",
    "        ax.axhline(y=.05, linestyle='--', color='orange')\n",
    "        ax.axhline(y=-.05, linestyle='--', color='orange')\n",
    "        # reverse the x axis\n",
    "        ax.set_xlim(ax.get_xlim()[::-1])\n",
    "        # make the yaxis symmetrical\n",
    "        max_lim = max(abs(ax.get_ylim()[0]), abs(ax.get_ylim()[1]))\n",
    "        ax.set_ylim(-25, 25)\n",
    "        # use a scalar formatter for the y axis\n",
    "        ax.yaxis.set_major_formatter(ScalarFormatter())\n",
    "        # reverse the x axis\n",
    "\n",
    "g.fig.gca().invert_xaxis()\n",
    "\n",
    "#g.fig.savefig(paper_path.joinpath('alpha_energy_error_2.png'), dpi=600)\n",
    "\n"
   ],
   "outputs": []
  },
  {
   "cell_type": "code",
   "execution_count": 80,
   "id": "40d41e292b6690f7",
   "metadata": {
    "ExecuteTime": {
     "end_time": "2024-03-04T20:43:12.983980Z",
     "start_time": "2024-03-04T20:43:10.931191Z"
    }
   },
   "source": [
    "omegas = [0, 1, 2, 3, 4, 5, 6, 7, 8]\n",
    "molsys = ['Second-row']\n",
    "data = bdata.query(\n",
    "    'valence.isin(@v_level) & omega.isin(@omegas) & mol_system.isin(@molsys) ').copy()\n",
    "data.valence = data.valence.cat.remove_unused_categories()\n",
    "data.mol_system = data.mol_system.cat.remove_unused_categories()\n",
    "data['absolute_alphaE'] = data.alphaE.abs()\n",
    "\n",
    "# relplot comparing energy error to alpha error\n",
    "facet_kw = {\"sharey\": True, \"sharex\": True, \"margin_titles\": True}\n",
    "with sns.plotting_context('paper', font_scale=1.25):\n",
    "    g = sns.relplot(x='eE', y='alphaE', row='polarization', hue='valence', data=data,\n",
    "                    kind='scatter', s=50,\n",
    "                    row_order=['V', 'CV'],\n",
    "                    col='augmentation',\n",
    "                    size='omega',\n",
    "                    palette='Set1', height=4, aspect=1, legend='full',\n",
    "                    alpha=0.5, facet_kws=facet_kw)\n",
    "    g.set_titles(row_template='{row_name}', col_template='{col_name}')\n",
    "    for ax in g.axes.flat:\n",
    "        ax.set_yscale('symlog', linthresh=1e-1)\n",
    "        ax.set_xscale('log')\n",
    "        ax.axhline(y=.02, linestyle='--', color='orange')\n",
    "        ax.axhline(y=-.02, linestyle='--', color='orange')\n",
    "        # reverse the x axis\n",
    "        ax.set_xlim(ax.get_xlim()[::-1])\n",
    "        # make the yaxis symmetrical\n",
    "        max_lim = max(abs(ax.get_ylim()[0]), abs(ax.get_ylim()[1]))\n",
    "        ax.set_ylim(-25, 25)\n",
    "        # use a scalar formatter for the y axis\n",
    "        ax.yaxis.set_major_formatter(ScalarFormatter())\n",
    "        # reverse the x axis\n",
    "\n",
    "g.fig.gca().invert_xaxis()\n",
    "\n",
    "#g.fig.savefig(paper_path.joinpath('alpha_energy_error_2.png'), dpi=600)\n"
   ],
   "outputs": []
  },
  {
   "cell_type": "code",
   "execution_count": 81,
   "id": "5a3402a07b23a04d",
   "metadata": {
    "ExecuteTime": {
     "end_time": "2024-03-04T20:43:12.996104Z",
     "start_time": "2024-03-04T20:43:12.984721Z"
    }
   },
   "source": [
    "data"
   ],
   "outputs": []
  },
  {
   "cell_type": "code",
   "execution_count": 82,
   "id": "77d5710ee0659524",
   "metadata": {
    "ExecuteTime": {
     "end_time": "2024-03-04T20:43:13.011743Z",
     "start_time": "2024-03-04T20:43:12.996714Z"
    }
   },
   "source": [
    "basis_data"
   ],
   "outputs": []
  },
  {
   "cell_type": "code",
   "execution_count": 82,
   "id": "225c6e3890cac894",
   "metadata": {
    "ExecuteTime": {
     "end_time": "2024-03-04T20:43:13.013913Z",
     "start_time": "2024-03-04T20:43:13.012619Z"
    }
   },
   "source": [],
   "outputs": []
  },
  {
   "cell_type": "code",
   "execution_count": 21,
   "id": "86860a872bc54c20",
   "metadata": {
    "ExecuteTime": {
     "end_time": "2024-03-04T14:01:28.448074Z",
     "start_time": "2024-03-04T14:01:28.236473Z"
    }
   },
   "source": [
    "# for each basis set get the alphaE statistics and place them in a dataframe\n",
    "\n",
    "iso_stats = pd.DataFrame()\n",
    "for basis in basis_data.basis.unique():\n",
    "    # filter data for basis\n",
    "    subset = basis_data.query('basis==@basis & omega==0')\n",
    "    # remove nan values row\n",
    "    # get the mean and std of alphaE\n",
    "    d = subset.describe()['alphaE']\n",
    "    d.name = basis\n",
    "    # concat to the full dataframe\n",
    "    iso_stats = pd.concat([iso_stats, d], axis=1)\n",
    "iso_stats = iso_stats.T\n",
    "\n"
   ],
   "outputs": []
  },
  {
   "cell_type": "code",
   "execution_count": 83,
   "id": "4ffcb770c42e0cc4",
   "metadata": {
    "ExecuteTime": {
     "end_time": "2024-03-04T20:45:14.380467Z",
     "start_time": "2024-03-04T20:45:14.375820Z"
    }
   },
   "source": [
    "# write a function which does the above for a given omega and alphaE or gammaE\n",
    "def basis_stats(iso_type, omega):\n",
    "    iso_stats = pd.DataFrame()\n",
    "    for basis in basis_data.basis.unique():\n",
    "        # filter data for basis\n",
    "        subset = basis_data.query('basis==@basis & omega==@omega')\n",
    "        # remove nan values row\n",
    "        if iso_type == 'gammaE':\n",
    "            # drop any values with gammaE.abs() < 1e-3\n",
    "            subset = subset.query('gamma.abs()>1e-3')\n",
    "        # concat to the full dataframe\n",
    "        # get the mean and std of alphaE\n",
    "        d = subset.describe()[iso_type]\n",
    "        d.name = basis\n",
    "        iso_stats = pd.concat([iso_stats, d], axis=1)\n",
    "    iso_stats = iso_stats.T\n",
    "    # remove the 6Z basis set\n",
    "    iso_stats = iso_stats.drop('aug-cc-pV6Z', axis=0)\n",
    "    iso_stats = iso_stats.drop('d-aug-cc-pV6Z', axis=0)\n",
    "    return iso_stats\n",
    "\n",
    "\n",
    "# write a function which does the above for a given omega and alphaE or gammaE\n",
    "def basis_e_stats():\n",
    "    iso_stats = pd.DataFrame()\n",
    "    for basis in basis_e_data.basis.unique():\n",
    "        # filter data for basis\n",
    "        subset = basis_e_data.query('basis==@basis')\n",
    "        # remove nan values row\n",
    "        # get the mean and std of alphaE\n",
    "        d = subset.describe()['energyE']\n",
    "        d.name = basis\n",
    "        # concat to the full dataframe\n",
    "        iso_stats = pd.concat([iso_stats, d], axis=1)\n",
    "    iso_stats = iso_stats.T\n",
    "    # remove the 6Z basis set\n",
    "    iso_stats = iso_stats.drop('aug-cc-pV6Z', axis=0)\n",
    "    iso_stats = iso_stats.drop('d-aug-cc-pV6Z', axis=0)\n",
    "    return iso_stats\n",
    "\n",
    "\n",
    "def get_iso_mols(iso_type, omega):\n",
    "    iso_stats = pd.DataFrame()\n",
    "    for basis in basis_data.basis.unique():\n",
    "        # filter data for basis\n",
    "        subset = basis_data.query('basis==@basis & omega==@omega')\n",
    "        # remove nan values row\n",
    "        if iso_type == 'gammaE':\n",
    "            # drop any values with gammaE.abs() < 1e-3\n",
    "            subset = subset.query('gamma.abs()>1e-3')\n",
    "        # concat to the full dataframe\n",
    "        mols = pd.Series(subset.dropna().molecule.unique())\n",
    "        mols.name = basis\n",
    "        iso_stats = pd.concat([iso_stats, mols], axis=1)\n",
    "    iso_stats = iso_stats.T\n",
    "    # remove the 6Z basis set\n",
    "    iso_stats = iso_stats.drop('aug-cc-pV6Z', axis=0)\n",
    "    iso_stats = iso_stats.drop('d-aug-cc-pV6Z', axis=0)\n",
    "    return iso_stats.T\n",
    "\n"
   ],
   "outputs": []
  },
  {
   "cell_type": "code",
   "execution_count": 84,
   "id": "266138a6aa87c03b",
   "metadata": {
    "ExecuteTime": {
     "end_time": "2024-03-04T20:45:15.633857Z",
     "start_time": "2024-03-04T20:45:15.229876Z"
    }
   },
   "source": [
    "# Get the basis set statistics \n",
    "e_stats = basis_e_stats()\n",
    "iso_0 = basis_stats('alphaE', 0)\n",
    "gamma_0 = basis_stats('gammaE', 0)\n",
    "\n",
    "gamma_mols = get_iso_mols('gammaE', 0)\n",
    "alpha_mols = get_iso_mols('alphaE', 0)\n",
    "\n"
   ],
   "outputs": []
  },
  {
   "cell_type": "code",
   "execution_count": 85,
   "id": "83343fdc1570675a",
   "metadata": {
    "ExecuteTime": {
     "end_time": "2024-03-04T20:45:17.601167Z",
     "start_time": "2024-03-04T20:45:17.593161Z"
    }
   },
   "source": [
    "iso_0\n",
    "# new order of rows\n",
    "DZ = ['aug-cc-pVDZ', 'aug-cc-pCVDZ', 'd-aug-cc-pVDZ', 'd-aug-cc-pCVDZ']\n",
    "TZ = ['aug-cc-pVTZ', 'aug-cc-pCVTZ', 'd-aug-cc-pVTZ', 'd-aug-cc-pCVTZ']\n",
    "QZ = ['aug-cc-pVQZ', 'aug-cc-pCVQZ', 'd-aug-cc-pVQZ', 'd-aug-cc-pCVQZ']\n",
    "fiveZ = ['aug-cc-pV5Z', 'd-aug-cc-pV5Z']\n",
    "new_order = DZ + TZ + QZ + fiveZ\n",
    "iso_0 = iso_0.reindex(new_order)\n",
    "gamma_0 = gamma_0.reindex(new_order)\n",
    "e_stats = e_stats.reindex(new_order)\n",
    "iso_0\n",
    "\n",
    "\n"
   ],
   "outputs": []
  },
  {
   "cell_type": "code",
   "execution_count": 85,
   "id": "940c7db67f9e3511",
   "metadata": {
    "ExecuteTime": {
     "end_time": "2024-03-04T20:45:19.594593Z",
     "start_time": "2024-03-04T20:45:19.592796Z"
    }
   },
   "source": [],
   "outputs": []
  },
  {
   "cell_type": "code",
   "execution_count": 86,
   "id": "7e03aae1305adbf4",
   "metadata": {
    "ExecuteTime": {
     "end_time": "2024-03-04T20:45:20.280725Z",
     "start_time": "2024-03-04T20:45:20.268406Z"
    }
   },
   "source": [
    "def diff_mol_subset(df):\n",
    "    # get the molecules in the dataframe\n",
    "    mols = basis_data.molecule.unique()\n",
    "    full_set = set(mols)\n",
    "    # get the difference between the full set and the subset\n",
    "    diff = full_set.difference(mols)\n",
    "    diff_mols = pd.DataFrame()\n",
    "    for basis in df.columns:\n",
    "        basis_mols = set(df[basis])\n",
    "        # compute the difference between the full set and the basis set\n",
    "        basis_difference = full_set.difference(basis_mols)\n",
    "        basis_difference = list(basis_difference)\n",
    "\n",
    "        # if basis difference is not empty then add it to the dataframe\n",
    "        if len(basis_difference) > 0:\n",
    "            d = pd.Series(basis_difference, name=basis).T\n",
    "\n",
    "            diff_mols = pd.concat([diff_mols, d], axis=1)\n",
    "            # return the difference\n",
    "    not_available = diff_mols.T.drop_duplicates().T\n",
    "    not_available = not_available.applymap(lambda x: '\\\\ce{' + str(x) + '}', na_action='ignore')\n",
    "    # sort the values of each column alphabetically\n",
    "    not_available = not_available.apply(lambda x: x.sort_values().values)\n",
    "    # sort the columns by value\n",
    "    # sort the columns by the values in the first row\n",
    "    return not_available\n",
    "\n",
    "\n",
    "polar_na = diff_mol_subset(alpha_mols)\n",
    "\n",
    "# concat to the full dataframe\n"
   ],
   "outputs": []
  },
  {
   "cell_type": "code",
   "execution_count": 87,
   "id": "3df2d2390a060fa8",
   "metadata": {
    "ExecuteTime": {
     "end_time": "2024-03-04T20:45:21.121922Z",
     "start_time": "2024-03-04T20:45:21.107255Z"
    }
   },
   "source": [
    "gamma_na = diff_mol_subset(gamma_mols)\n"
   ],
   "outputs": []
  },
  {
   "cell_type": "code",
   "execution_count": 88,
   "id": "d4943206d6270e7f",
   "metadata": {
    "ExecuteTime": {
     "end_time": "2024-03-04T20:45:21.750475Z",
     "start_time": "2024-03-04T20:45:21.745668Z"
    }
   },
   "source": [
    "# make a latex table not_available\n",
    "polar_na.to_latex(paper_path.joinpath('not_available.tex'), na_rep='-'\n",
    "                  )"
   ],
   "outputs": []
  },
  {
   "cell_type": "code",
   "execution_count": 88,
   "id": "6e8f0737b024d78a",
   "metadata": {
    "ExecuteTime": {
     "end_time": "2024-03-04T20:45:23.558858Z",
     "start_time": "2024-03-04T20:45:23.557129Z"
    }
   },
   "source": [],
   "outputs": []
  },
  {
   "cell_type": "code",
   "execution_count": 89,
   "id": "85421c54b46cdbca",
   "metadata": {
    "ExecuteTime": {
     "end_time": "2024-03-04T20:45:23.863165Z",
     "start_time": "2024-03-04T20:45:23.858292Z"
    }
   },
   "source": [
    "# apply a symlog color map to the all columns except count\n",
    "import matplotlib.cm as cm\n",
    "import matplotlib.colors as mcolors\n",
    "\n",
    "\n",
    "def background_with_norm(s, vmax=1e-1):\n",
    "    linthresh = 2e-3\n",
    "    linscale = .10\n",
    "    cmap = cm.bwr\n",
    "    norm = mcolors.SymLogNorm(linthresh=linthresh, linscale=linscale, base=10, vmin=-vmax,\n",
    "                              vmax=vmax)\n",
    "    return ['background-color: {:s}'.format(mcolors.to_hex(c.flatten())) for c in\n",
    "            cmap(norm(s.values))]\n",
    "\n",
    "\n",
    "def __style_summary(df, fmt=\"{:.2e}\", vmax=20):\n",
    "    # only vmax on everything but first column\n",
    "\n",
    "    vmax = df.iloc[:, 1:].abs().max().max()\n",
    "    print(vmax)\n",
    "    bnorm = lambda x: background_with_norm(x, vmax)\n",
    "    df = df.T\n",
    "\n",
    "    new_idx = {}\n",
    "    for i in df.index:\n",
    "        if i[-1] == '%':\n",
    "            new_idx[i] = i[:-1] + '\\\\' + i[-1]\n",
    "        else:\n",
    "            new_idx[i] = i\n",
    "    df.rename(index=new_idx, inplace=True)\n",
    "    df = df.T\n",
    "\n",
    "    # Define the maximum data value (in absolute terms) for normalization\n",
    "    #styled_df = df.style.apply(bnorm, subset=df.columns[1:])\n",
    "    # Apply the formatting to every column except first one\n",
    "    styled_df = df.style.format(fmt, subset=df.columns[1:])\n",
    "    # for the first column (count) use integer formatting\n",
    "    # set the data type to int first\n",
    "    styled_df = styled_df.format(\"{:.0f}\", subset=df.columns[0])\n",
    "    #make the background the first column to be white\n",
    "\n",
    "    #styled_df = styled_df.format(fmt)\n",
    "    return styled_df\n",
    "\n",
    "# make a latex table of the statistics\n"
   ],
   "outputs": []
  },
  {
   "cell_type": "markdown",
   "id": "adc135780c0a98b2",
   "metadata": {},
   "source": []
  },
  {
   "cell_type": "code",
   "execution_count": 90,
   "id": "e8105db4ec1a0a8b",
   "metadata": {
    "ExecuteTime": {
     "end_time": "2024-03-04T20:45:24.706382Z",
     "start_time": "2024-03-04T20:45:24.699206Z"
    }
   },
   "source": [
    "\n",
    "style_iso = __style_summary(iso_0, fmt=\"{:.2e}\", vmax=20)\n",
    "# format the count column to be an integer\n",
    "style_iso.to_latex(paper_path.joinpath('alphaE_stats.tex'),\n",
    "                   hrules=True,\n",
    "                   convert_css=True,\n",
    "                   multicol_align='|c|',\n",
    "                   siunitx=True,\n",
    "                   )\n"
   ],
   "outputs": []
  },
  {
   "cell_type": "code",
   "execution_count": 91,
   "id": "cb5157e70381239f",
   "metadata": {
    "ExecuteTime": {
     "end_time": "2024-03-04T20:45:25.320395Z",
     "start_time": "2024-03-04T20:45:25.168814Z"
    }
   },
   "source": [
    "gamma_0 = basis_stats('gammaE', 0)\n",
    "\n",
    "style_gamma = __style_summary(gamma_0, fmt=\"{:.2e}\", vmax=20)\n",
    "# format the count column to be an integer\n",
    "style_gamma.to_latex(paper_path.joinpath('gammaE_stats.tex'),\n",
    "                     hrules=True,\n",
    "                     convert_css=True,\n",
    "                     multicol_align='|c|',\n",
    "                     siunitx=True,\n",
    "                     )\n"
   ],
   "outputs": []
  },
  {
   "cell_type": "code",
   "execution_count": 92,
   "id": "cc2c1f432b28e9a",
   "metadata": {
    "ExecuteTime": {
     "end_time": "2024-03-04T20:45:25.458547Z",
     "start_time": "2024-03-04T20:45:25.450860Z"
    }
   },
   "source": [
    "\n",
    "style_iso = __style_summary(e_stats, fmt=\"{:.2e}\", vmax=.05)\n",
    "# format the count column to be an integer\n",
    "style_iso.to_latex(paper_path.joinpath('energy_stats.tex'),\n",
    "                   hrules=True,\n",
    "                   convert_css=True,\n",
    "                   multicol_align='|c|',\n",
    "                   siunitx=True,\n",
    "                   )\n"
   ],
   "outputs": []
  },
  {
   "cell_type": "code",
   "execution_count": 93,
   "id": "6ac8e12a7070d3dd",
   "metadata": {
    "ExecuteTime": {
     "end_time": "2024-03-04T20:45:25.880706Z",
     "start_time": "2024-03-04T20:45:25.876369Z"
    }
   },
   "source": [
    "\n",
    "mra_data = august_database.iso_data.query('basis==\"MRA\"').copy()"
   ],
   "outputs": []
  },
  {
   "cell_type": "code",
   "execution_count": 94,
   "id": "e2e08537e636389c",
   "metadata": {
    "ExecuteTime": {
     "end_time": "2024-03-04T20:45:26.304710Z",
     "start_time": "2024-03-04T20:45:26.299360Z"
    }
   },
   "source": [
    "molecule_subset = basis_data.query('basis==\"aug-cc-pVDZ\" & omega==0')[\n",
    "    ['molecule', 'mol_system']].drop_duplicates()"
   ],
   "outputs": []
  },
  {
   "cell_type": "code",
   "execution_count": 94,
   "id": "4fc7b45f7587747e",
   "metadata": {
    "ExecuteTime": {
     "end_time": "2024-03-04T20:45:27.132440Z",
     "start_time": "2024-03-04T20:45:27.130385Z"
    }
   },
   "source": [],
   "outputs": []
  },
  {
   "cell_type": "code",
   "execution_count": 95,
   "id": "7a82eed4656ce6fc",
   "metadata": {
    "ExecuteTime": {
     "end_time": "2024-03-04T20:45:27.561280Z",
     "start_time": "2024-03-04T20:45:27.555377Z"
    }
   },
   "source": [
    "molecule_subset"
   ],
   "outputs": []
  },
  {
   "cell_type": "code",
   "execution_count": 96,
   "id": "e108e84d29d17e87",
   "metadata": {
    "ExecuteTime": {
     "end_time": "2024-03-04T20:45:27.815287Z",
     "start_time": "2024-03-04T20:45:27.792009Z"
    }
   },
   "source": [
    "\n",
    "molecule_subset.sort_values('mol_system', inplace=True)\n",
    "# get the first three colors of the colorblind palette\n",
    "pal = sns.color_palette('colorblind', n_colors=3)\n",
    "# make a barplot of the number of molecules in each system\n",
    "mol_only = molecule_subset['molecule']\n",
    "# make a table of the number of molecules in each system columns\n",
    "# being first row, fluorine, and second row\n",
    "mol_table = pd.DataFrame()\n",
    "\n",
    "first_row = molecule_subset[molecule_subset['mol_system'] == 'First-row']['molecule'].unique()\n",
    "fluorine = molecule_subset[molecule_subset['mol_system'] == 'Fluorine']['molecule'].unique()\n",
    "second_row = molecule_subset[molecule_subset['mol_system'] == 'Second-row']['molecule'].unique()\n",
    "first_row = pd.Series(first_row, name='First-row')\n",
    "fluorine = pd.Series(fluorine, name='Fluorine')\n",
    "second_row = pd.Series(second_row, name='Second-row')\n",
    "mol_table = pd.concat([first_row, fluorine, second_row], axis=1)\n",
    "# sort the values of each column alphabetically\n",
    "\n",
    "# replace nan values with -\n",
    "mol_table = mol_table.fillna('-')\n",
    "mol_table = mol_table.applymap(lambda x: '\\\\ce{' + str(x) + '}', na_action='ignore')\n",
    "print(mol_table)\n",
    "# color the columns with the colorblind palette \n",
    "# map the colors to the columns just based on the index\n",
    "# make pal lighter by 50%\n",
    "pal = sns.color_palette('muted', n_colors=3)\n",
    "# blend the colors with white\n",
    "\n",
    "\n",
    "# make a dictionary of the colors\n",
    "colormap = dict(zip(mol_table.columns, pal.as_hex()))\n",
    "# map colorblind colormap to the columns\n",
    "mol_only = molecule_subset['molecule']\n",
    "# make mol only into a table 9 x 10 \n",
    "mol_df = pd.DataFrame(mol_only.to_numpy().reshape((10, 9)))\n",
    "# add one to each index and column to make the numbers run from 1 to 9\n",
    "mol_df.index += 1\n",
    "mol_df.columns += 1\n",
    "\n",
    "ms = molecule_subset.molecule\n",
    "# surround the values with \\ce{} to make them chemical formulas\n",
    "ms = ms.apply(lambda x: '\\\\ce{' + str(x) + '}')\n",
    "# make a dictionary of the colors\n",
    "mol_dict = dict(zip(ms, molecule_subset.mol_system))\n",
    "\n",
    "mol_color = {mol: colormap[mol_dict[mol]] for mol in ms}\n",
    "# apply the colors to the dataframe based on mol_color dictionary\n",
    "\n",
    "mol_df = mol_df.applymap(lambda x: '\\\\ce{' + str(x) + '}')\n",
    "mol_df = mol_df.style.apply(lambda x: [f'background-color: {mol_color[v]}' for v in x],\n",
    "                            axis=1)\n",
    "# before printing surround the values with \\ce{} to make them chemical formulas\n",
    "# write the dataframe to a latex table\n",
    "mol_df.to_latex(paper_path.joinpath('molecule_table.tex'),\n",
    "                multicol_align='|c|',\n",
    "                hrules=True,\n",
    "                convert_css=True,\n",
    "                )\n"
   ],
   "outputs": []
  },
  {
   "cell_type": "code",
   "execution_count": 97,
   "id": "efb79e3fca085d2b",
   "metadata": {
    "ExecuteTime": {
     "end_time": "2024-03-04T20:45:28.217748Z",
     "start_time": "2024-03-04T20:45:28.211729Z"
    }
   },
   "source": [
    "molecule_subset.sort_values('mol_system')"
   ],
   "outputs": []
  },
  {
   "cell_type": "code",
   "execution_count": 97,
   "id": "76553997512c233a",
   "metadata": {
    "ExecuteTime": {
     "end_time": "2024-03-04T20:45:29.479666Z",
     "start_time": "2024-03-04T20:45:29.477602Z"
    }
   },
   "source": [],
   "outputs": []
  },
  {
   "cell_type": "code",
   "source": [],
   "metadata": {
    "collapsed": false,
    "ExecuteTime": {
     "end_time": "2024-02-20T23:11:56.655966003Z",
     "start_time": "2024-02-20T23:11:56.438058130Z"
    }
   },
   "id": "3d93c82d44503c3d",
   "execution_count": 50,
   "outputs": []
  },
  {
   "cell_type": "code",
   "source": [],
   "metadata": {
    "collapsed": false,
    "ExecuteTime": {
     "end_time": "2024-02-20T23:11:56.813803769Z",
     "start_time": "2024-02-20T23:11:56.440202481Z"
    }
   },
   "id": "1e0da28bb748bf38",
   "execution_count": 50,
   "outputs": []
  },
  {
   "cell_type": "code",
   "source": [],
   "metadata": {
    "collapsed": false,
    "ExecuteTime": {
     "end_time": "2024-02-20T23:11:56.813986877Z",
     "start_time": "2024-02-20T23:11:56.442073296Z"
    }
   },
   "id": "f3c02edac26ee65b",
   "execution_count": 50,
   "outputs": []
  },
  {
   "cell_type": "code",
   "source": [],
   "metadata": {
    "collapsed": false
   },
   "id": "c69b4b00e6a1ebe5",
   "execution_count": null,
   "outputs": []
  }
 ],
 "metadata": {
  "kernelspec": {
   "display_name": "Python 3 (ipykernel)",
   "language": "python",
   "name": "python3"
  },
  "language_info": {
   "codemirror_mode": {
    "name": "ipython",
    "version": 3
   },
   "file_extension": ".py",
   "mimetype": "text/x-python",
   "name": "python",
   "nbconvert_exporter": "python",
   "pygments_lexer": "ipython3",
   "version": "3.9.7"
  }
 },
 "nbformat": 4,
 "nbformat_minor": 5
}
