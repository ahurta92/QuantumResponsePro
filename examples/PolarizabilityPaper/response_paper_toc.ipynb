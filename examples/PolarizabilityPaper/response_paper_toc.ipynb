{
 "cells": [
  {
   "cell_type": "code",
   "id": "initial_id",
   "metadata": {
    "ExecuteTime": {
     "end_time": "2024-05-16T19:49:56.360713Z",
     "start_time": "2024-05-16T19:49:56.201001Z"
    }
   },
   "source": [
    "\n",
    "import numpy as np\n",
    "\n",
    "from DataAnalysisClass import *\n",
    "from clustering_work import *\n",
    "\n",
    "single = ['aug-cc-pVDZ', 'aug-cc-pVTZ', 'aug-cc-pVQZ', 'aug-cc-pV5Z', 'aug-cc-pV6Z']\n",
    "single_polarized = ['aug-cc-pCVDZ', 'aug-cc-pCVTZ', 'aug-cc-pCVQZ']\n",
    "double = ['d-aug-cc-pVDZ', 'd-aug-cc-pVTZ', 'd-aug-cc-pVQZ', 'd-aug-cc-pV5Z', 'd-aug-cc-pV6Z']\n",
    "double_polarized = ['d-aug-cc-pCVDZ', 'd-aug-cc-pCVTZ', 'd-aug-cc-pCVQZ']\n",
    "all_basis_sets = single + single_polarized + double + double_polarized\n"
   ],
   "execution_count": 2,
   "outputs": []
  },
  {
   "cell_type": "code",
   "id": "8f5c78879c11d346",
   "metadata": {
    "ExecuteTime": {
     "end_time": "2024-05-16T19:49:56.493212Z",
     "start_time": "2024-05-16T19:49:56.489994Z"
    }
   },
   "source": [
    "\n",
    "database_path = Path('/home/ahurta92/data/august')\n",
    "paper_path = Path('response_paper_figures')\n",
    "\n"
   ],
   "execution_count": 3,
   "outputs": []
  },
  {
   "cell_type": "code",
   "id": "63fcb07efbde96d",
   "metadata": {
    "collapsed": false,
    "jupyter": {
     "outputs_hidden": false
    },
    "ExecuteTime": {
     "end_time": "2024-05-16T19:49:56.952412Z",
     "start_time": "2024-05-16T19:49:56.946610Z"
    }
   },
   "source": [
    "import glob\n",
    "\n",
    "# glob for .mol files in august molecules directory\n",
    "mols = glob.glob('/home/ahurta92/data/august/molecules/*.mol')\n",
    "mols = [mol.split('/')[-1].split('.')[0] for mol in mols]\n",
    "mols.remove('LiH_s')\n"
   ],
   "execution_count": 4,
   "outputs": []
  },
  {
   "attachments": {},
   "cell_type": "markdown",
   "id": "fb7e546660b3ec45",
   "metadata": {
    "collapsed": false,
    "jupyter": {
     "outputs_hidden": false
    }
   },
   "source": []
  },
  {
   "cell_type": "code",
   "id": "8a3fcd8a-c533-49f2-857f-1097b1032a4f",
   "metadata": {
    "ExecuteTime": {
     "end_time": "2024-05-16T19:49:57.657006Z",
     "start_time": "2024-05-16T19:49:57.649994Z"
    }
   },
   "source": [
    "class MRAComparedBasisDF(pd.DataFrame):\n",
    "    def __init__(self, polar_data, index, values: list, PercentError: bool, *args, **kwargs):\n",
    "        # Use the special_parameter to modify the DataFrame or perform additional initialization\n",
    "        basis_data = polar_data.query('basis!=\"MRA\"').copy()\n",
    "        basis_data = basis_data.set_index(index)\n",
    "\n",
    "        for value in values:\n",
    "            basis_data[f'{value}MRA'] = polar_data.query('basis==\"MRA\"').set_index(index)[\n",
    "                value]\n",
    "            if PercentError:\n",
    "                basis_data[f'{value}E'] = ((basis_data[value] - basis_data[f'{value}MRA']) / basis_data[f'{value}MRA'] * 100)\n",
    "            else:\n",
    "                basis_data[f'{value}E'] = (basis_data[value] - basis_data[f'{value}MRA'])\n",
    "        basis_data = basis_data.reset_index()\n",
    "        # create a column of percent error in alpha\n",
    "        basis_data = make_detailed_df(basis_data)\n",
    "        super().__init__(basis_data, *args, **kwargs)\n",
    "\n",
    "\n"
   ],
   "execution_count": 5,
   "outputs": []
  },
  {
   "cell_type": "code",
   "id": "73d141195488fcec",
   "metadata": {
    "collapsed": false,
    "jupyter": {
     "outputs_hidden": false
    },
    "ExecuteTime": {
     "end_time": "2024-05-16T19:49:58.834468Z",
     "start_time": "2024-05-16T19:49:58.731962Z"
    }
   },
   "source": [
    "august_database = PolarizabilityData(mols, 'hf', 'dipole', all_basis_sets, database_path, overwrite=False)\n"
   ],
   "execution_count": 6,
   "outputs": []
  },
  {
   "cell_type": "code",
   "id": "338a80e4fd7fe7b4",
   "metadata": {
    "collapsed": false,
    "jupyter": {
     "outputs_hidden": false
    },
    "ExecuteTime": {
     "end_time": "2024-05-16T19:49:59.382882Z",
     "start_time": "2024-05-16T19:49:59.109772Z"
    }
   },
   "source": [
    "august_database.save_dfs()"
   ],
   "execution_count": 7,
   "outputs": []
  },
  {
   "cell_type": "code",
   "id": "cdf4aec17c3a9160",
   "metadata": {
    "collapsed": false,
    "jupyter": {
     "outputs_hidden": false
    },
    "ExecuteTime": {
     "end_time": "2024-05-16T19:49:59.764328Z",
     "start_time": "2024-05-16T19:49:59.666325Z"
    }
   },
   "source": [
    "basis_data = MRAComparedBasisDF(august_database.iso_data.copy(), ['molecule', 'omega'], ['alpha', 'gamma'], True)\n",
    "basis_data"
   ],
   "execution_count": 8,
   "outputs": []
  },
  {
   "cell_type": "code",
   "id": "a91bac9ccc3ac2d6",
   "metadata": {
    "collapsed": false,
    "jupyter": {
     "outputs_hidden": false
    },
    "ExecuteTime": {
     "end_time": "2024-05-16T20:01:32.743702Z",
     "start_time": "2024-05-16T20:01:32.735757Z"
    }
   },
   "source": "mra_data=august_database.iso_data.query('basis==\"MRA\"').copy()",
   "execution_count": 36,
   "outputs": []
  },
  {
   "cell_type": "code",
   "id": "cafb1f67e7772d1e",
   "metadata": {
    "collapsed": false,
    "jupyter": {
     "outputs_hidden": false
    },
    "ExecuteTime": {
     "end_time": "2024-05-16T19:50:00.192910Z",
     "start_time": "2024-05-16T19:50:00.188891Z"
    }
   },
   "source": [
    "import seaborn as sns\n"
   ],
   "execution_count": 9,
   "outputs": []
  },
  {
   "cell_type": "code",
   "id": "319a985982369d70",
   "metadata": {
    "collapsed": false,
    "jupyter": {
     "outputs_hidden": false
    },
    "ExecuteTime": {
     "end_time": "2024-05-16T19:50:01.599305Z",
     "start_time": "2024-05-16T19:50:00.396257Z"
    }
   },
   "source": [
    "sharey=False,\n",
    "\n",
    "subset_mols=['NaH','H2O','HF','CH3SH','Ne','Ar']\n",
    "vlevel=['D','T','Q']\n",
    "\n",
    "\n",
    "pdata=basis_data.query('molecule.isin(@mols) and valence.isin(@vlevel)')\n",
    "g = sns.FacetGrid(data=pdata, col='Type',col_wrap=2,  sharey=sharey, sharex=True, height=3, aspect=1.5)\n",
    "g.map_dataframe(sns.stripplot,x='valence',y='alphaE', hue='mol_system', size=5, alpha=.75, palette='colorblind',dodge=True,\n",
    "      legend=True)\n",
    "\n"
   ],
   "execution_count": 10,
   "outputs": []
  },
  {
   "cell_type": "code",
   "id": "1c284a1db1c7b1fd",
   "metadata": {
    "collapsed": false,
    "jupyter": {
     "outputs_hidden": false
    },
    "ExecuteTime": {
     "end_time": "2024-05-16T20:29:16.726870Z",
     "start_time": "2024-05-16T20:29:16.327175Z"
    }
   },
   "source": [
    "sns.set_style('dark')\n",
    "subset_mols=['SF2']\n",
    "vlevel = ['T','Q','5']\n",
    "plot_data = basis_data.query('valence.isin(@vlevel) and molecule.isin(@subset_mols)' ).copy()\n",
    "# remove unused categories from valence\n",
    "plot_data.valence = plot_data.valence.cat.remove_unused_categories()\n",
    "mra_plot_data = mra_data.query('molecule.isin(@subset_mols)').copy()\n",
    "\n",
    "# create a figure with ax\n",
    "fig, ax = plt.subplots(1, 1, figsize=(8, 6))\n",
    "\n",
    "#sns.lineplot(data=mra_plot_data, x='omega', y='alpha',  markers=True, ax=ax, palette=['k'],size=30, legend=False)\n",
    "# make a plotlib lineplot\n",
    "import matplotlib.pyplot as plt\n",
    "plt.plot(mra_plot_data.omega, mra_plot_data.alpha, marker='*', color='k', label='MRA', markersize=30)\n",
    "\n",
    "\n",
    "# create a lineplot\n",
    "pal=sns.cubehelix_palette(start=.5, rot=-.75)\n",
    "pal='seismic'\n",
    "\n",
    "sns.lineplot(data=plot_data, x='omega', y='alpha', style='basis',hue='basis', markers=True, ax=ax,palette=pal,legend='brief')\n",
    "# rotate xlabels\n",
    "# set the title\n",
    "ax.set_title('{} '.format(subset_mols[0]))\n",
    "# set the ylabel\n",
    "ax.set_ylabel('Polarizability')\n",
    "# set the xlabel\n",
    "ax.set_xlabel('Frequency')\n",
    "# move the legend to the right off the plot\n",
    "ax.legend(loc='center left', bbox_to_anchor=(1, 0.5))\n",
    "\n",
    "# add mra line\n",
    "\n",
    "\n"
   ],
   "execution_count": 78,
   "outputs": []
  },
  {
   "cell_type": "code",
   "id": "28ecf7e50e0136cd",
   "metadata": {
    "collapsed": false,
    "jupyter": {
     "outputs_hidden": false
    },
    "ExecuteTime": {
     "end_time": "2024-05-16T21:06:42.051791Z",
     "start_time": "2024-05-16T21:06:41.693793Z"
    }
   },
   "source": [
    "sns.set_style('dark')\n",
    "subset_mols=['SF2']\n",
    "vlevel = ['D','T','Q','5']\n",
    "basis_labels=['s-D','s-T','s-Q','s-5','s-CD','s-CT','s-CQ','d-D','d-T','d-Q','d-CD','d-CT','d-CQ','d-5']\n",
    "omegas=[0,2,4,6,8]\n",
    "plot_data = basis_data.query('valence.isin(@vlevel) and molecule.isin(@subset_mols) and omega.isin(@omegas)' ).copy()\n",
    "# remove unused categories from valence\n",
    "plot_data.valence = plot_data.valence.cat.remove_unused_categories()\n",
    "plot_data.omega=plot_data.omega.astype('category')\n",
    "plot_data.omega = plot_data.omega.cat.remove_unused_categories()\n",
    "mra_plot_data = mra_data.query('molecule.isin(@subset_mols) and omega.isin(@omegas)').copy()\n",
    "\n",
    "# create a figure with ax\n",
    "fig, ax = plt.subplots(1, 1, figsize=(11, 6))\n",
    "\n",
    "#sns.lineplot(data=mra_plot_data, x='omega', y='alpha',  markers=True, ax=ax, palette=['k'],size=30, legend=False)\n",
    "# make a plotlib lineplot\n",
    "import matplotlib.pyplot as plt\n",
    "pal='magma'\n",
    "\n",
    "# create a plot of basis vs alpha\n",
    "sns.lineplot(data=plot_data, x='basis', y='alpha', markers=True, ax=ax,legend='brief',hue='omega',palette=pal,linewidth=1)\n",
    "sns.scatterplot(data=plot_data, x='basis', y='alpha', ax=ax, hue='omega',palette=pal,legend=False)\n",
    "# rotate xlabels\n",
    "plt.xticks(rotation=45)\n",
    "\n",
    "# move the legend to the right off the plot\n",
    "ax.legend(loc='center left', bbox_to_anchor=(1, 0.5), title='Frequency')\n",
    "\n",
    "# replace the xticks with basis labels\n",
    "ax.set_xticklabels(basis_labels)\n",
    "\n",
    "# set the title\n",
    "ax.set_title('{} '.format(subset_mols[0]))\n",
    "# set the ylabel\n",
    "ax.set_ylabel('Polarizability')\n",
    "# set the xlabel\n",
    "ax.set_xlabel('')\n",
    "\n",
    "\n",
    "mra_colors=sns.color_palette(pal, n_colors=len(omegas))\n",
    "\n",
    "for i,om in enumerate(omegas):\n",
    "    mra_om=mra_plot_data.query('omega==@om')\n",
    "    plt.axhline(mra_om.alpha.iloc[0], color=mra_colors[i], linestyle='--', label='MRA')\n",
    "\n",
    "# make background face lighter \n",
    "#ax.set_facecolor('grey')\n",
    "\n",
    "# change the alpha of the background face\n",
    "ax.patch.set_alpha(0.3)\n",
    "\n",
    "\n"
   ],
   "execution_count": 128,
   "outputs": []
  },
  {
   "cell_type": "code",
   "id": "d9d47f214e684221",
   "metadata": {
    "collapsed": false,
    "jupyter": {
     "outputs_hidden": false
    },
    "ExecuteTime": {
     "end_time": "2024-05-16T20:34:20.883525Z",
     "start_time": "2024-05-16T20:34:20.878066Z"
    }
   },
   "source": "",
   "execution_count": 87,
   "outputs": []
  },
  {
   "cell_type": "code",
   "id": "58e04f74a40ba5e2",
   "metadata": {
    "collapsed": false,
    "jupyter": {
     "outputs_hidden": false
    },
    "ExecuteTime": {
     "end_time": "2024-05-16T23:52:40.207292Z",
     "start_time": "2024-05-16T23:52:39.305896Z"
    }
   },
   "source": [
    "\n",
    "sns.set_context('talk')\n",
    "sns.set_style('dark')\n",
    "subset_mols=['SF2']\n",
    "vlevel = ['D','T','Q','5']\n",
    "basis_labels=['s-D','s-T','s-Q','s-5','s-CD','s-CT','s-CQ','d-D','d-T','d-Q','d-CD','d-CT','d-CQ','d-5']\n",
    "omegas=[0,2,4,6,8]\n",
    "plot_data = basis_data.query('valence.isin(@vlevel) and molecule.isin(@subset_mols) and omega.isin(@omegas)' ).copy()\n",
    "# remove unused categories from valence\n",
    "plot_data.valence = plot_data.valence.cat.remove_unused_categories()\n",
    "plot_data.omega=plot_data.omega.astype('category')\n",
    "plot_data.omega = plot_data.omega.cat.remove_unused_categories()\n",
    "mra_plot_data = mra_data.query('molecule.isin(@subset_mols) and omega.isin(@omegas)').copy()\n",
    "\n",
    "pal='magma'\n",
    "# make a facet grid version with seaborn \n",
    "g = sns.FacetGrid(data=plot_data, col='Type', sharey=True, sharex=False, height=6,aspect=.5, despine=False)\n",
    "g.map_dataframe(sns.lineplot, x='valence', y='alpha', hue='omega',  alpha=.5, palette=pal,lw=1,\n",
    "                legend=True)\n",
    "g.map_dataframe(sns.scatterplot, x='valence', y='alpha', hue='omega',  alpha=.95, palette=pal,s=100 )\n",
    "# set the titles\n",
    "g.set_titles('{col_name}')\n",
    "# set the ylabels\n",
    "g.set_ylabels('Polarizability')\n",
    "# set the xlabels\n",
    "g.set_xlabels('')\n",
    "\n",
    "\n",
    "\n",
    "\n",
    "# for each axis in the facet grid add MRA lines \n",
    "mra_colors=sns.color_palette(pal, n_colors=len(omegas))\n",
    "for ax in g.axes.flat:\n",
    "    for i,om in enumerate(omegas):\n",
    "        mra_om=mra_plot_data.query('omega==@om')\n",
    "        ax.axhline(mra_om.alpha.iloc[0], color=mra_colors[i], linestyle='--', label='MRA',alpha=.7)\n",
    "    ax.patch.set_alpha(0.3)\n",
    "\n",
    "g.add_legend(title='Frequency', loc='center left', bbox_to_anchor=(1, 0.5))\n",
    "\n",
    "g.figure.tight_layout()\n",
    "\n",
    "\n",
    "\n",
    "\n",
    "\n"
   ],
   "execution_count": 240,
   "outputs": []
  },
  {
   "cell_type": "code",
   "id": "5f31515aab9e0d80",
   "metadata": {
    "collapsed": false,
    "jupyter": {
     "outputs_hidden": false
    },
    "ExecuteTime": {
     "end_time": "2024-05-16T23:00:34.164629Z",
     "start_time": "2024-05-16T23:00:34.161969Z"
    }
   },
   "source": "",
   "execution_count": 222,
   "outputs": []
  },
  {
   "cell_type": "code",
   "id": "24a70d1bde350a7f",
   "metadata": {
    "collapsed": false,
    "jupyter": {
     "outputs_hidden": false
    },
    "ExecuteTime": {
     "end_time": "2024-05-16T23:00:35.333320Z",
     "start_time": "2024-05-16T23:00:35.329322Z"
    }
   },
   "source": [
    "paper_path=Path('response_paper_figures')\n",
    "\n"
   ],
   "execution_count": 223,
   "outputs": []
  },
  {
   "cell_type": "code",
   "id": "565a8ad524ab5a75",
   "metadata": {
    "collapsed": false,
    "jupyter": {
     "outputs_hidden": false
    },
    "ExecuteTime": {
     "end_time": "2024-05-16T23:03:31.787173Z",
     "start_time": "2024-05-16T23:03:27.114244Z"
    }
   },
   "source": "g.savefig(paper_path / 'toc_figure1.png',transparent=False,dpi=1000)",
   "execution_count": 227,
   "outputs": []
  },
  {
   "cell_type": "code",
   "id": "c5f296821683d931",
   "metadata": {
    "collapsed": false,
    "jupyter": {
     "outputs_hidden": false
    },
    "ExecuteTime": {
     "end_time": "2024-05-16T23:13:29.722181Z",
     "start_time": "2024-05-16T23:13:29.525211Z"
    }
   },
   "source": [
    "\n",
    "g.savefig(paper_path / 'toc_figure1.svg',transparent=False)\n"
   ],
   "execution_count": 239,
   "outputs": []
  },
  {
   "cell_type": "code",
   "execution_count": 172,
   "id": "5517d784f8923dc4",
   "metadata": {
    "ExecuteTime": {
     "end_time": "2024-03-18T14:24:27.956838Z",
     "start_time": "2024-03-18T14:24:27.955166Z"
    },
    "collapsed": false,
    "jupyter": {
     "outputs_hidden": false
    }
   },
   "source": [],
   "outputs": []
  },
  {
   "cell_type": "code",
   "execution_count": 172,
   "id": "5130a9011dac86f8",
   "metadata": {
    "ExecuteTime": {
     "end_time": "2024-03-18T14:24:27.959461Z",
     "start_time": "2024-03-18T14:24:27.957825Z"
    },
    "collapsed": false,
    "jupyter": {
     "outputs_hidden": false
    }
   },
   "source": [],
   "outputs": []
  },
  {
   "cell_type": "code",
   "execution_count": 172,
   "id": "76cd0fdb333cc6d1",
   "metadata": {
    "ExecuteTime": {
     "end_time": "2024-03-18T14:24:27.961704Z",
     "start_time": "2024-03-18T14:24:27.960245Z"
    },
    "collapsed": false,
    "jupyter": {
     "outputs_hidden": false
    }
   },
   "source": [],
   "outputs": []
  },
  {
   "cell_type": "code",
   "execution_count": null,
   "id": "6860f980a3b0a6d2",
   "metadata": {
    "collapsed": false,
    "jupyter": {
     "outputs_hidden": false
    }
   },
   "source": [],
   "outputs": []
  }
 ],
 "metadata": {
  "kernelspec": {
   "display_name": "Python 3 (ipykernel)",
   "language": "python",
   "name": "python3"
  },
  "language_info": {
   "codemirror_mode": {
    "name": "ipython",
    "version": 3
   },
   "file_extension": ".py",
   "mimetype": "text/x-python",
   "name": "python",
   "nbconvert_exporter": "python",
   "pygments_lexer": "ipython3",
   "version": "3.12.3"
  }
 },
 "nbformat": 4,
 "nbformat_minor": 5
}
