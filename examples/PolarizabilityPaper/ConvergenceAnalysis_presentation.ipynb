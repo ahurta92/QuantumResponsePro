{
 "cells": [
  {
   "cell_type": "code",
   "execution_count": 1,
   "id": "initial_id",
   "metadata": {
    "collapsed": true,
    "ExecuteTime": {
     "end_time": "2023-11-17T21:40:48.358275665Z",
     "start_time": "2023-11-17T21:40:47.671543992Z"
    }
   },
   "source": [
    "from ConvergenceAnalysis import *\n"
   ],
   "outputs": []
  },
  {
   "cell_type": "code",
   "execution_count": 2,
   "id": "99ed865a9faae4ca",
   "metadata": {
    "ExecuteTime": {
     "end_time": "2023-11-17T21:40:48.374263939Z",
     "start_time": "2023-11-17T21:40:48.358010886Z"
    }
   },
   "source": [
    "fd_data"
   ],
   "outputs": []
  },
  {
   "cell_type": "code",
   "execution_count": 3,
   "id": "c081cabb7ff86ffe",
   "metadata": {
    "ExecuteTime": {
     "end_time": "2023-11-17T21:40:48.374459041Z",
     "start_time": "2023-11-17T21:40:48.366353339Z"
    }
   },
   "source": [
    "def process_data(base_path):\n",
    "    base_high = base_path.joinpath('high-high')\n",
    "    base_low = base_path.joinpath('low-low')\n",
    "\n",
    "    mols = fd_data['Molecule'].to_list()\n",
    "    low_data = get_database_residuals_z(mols, base_low)\n",
    "    high_data = get_database_residuals_z(mols, base_high)\n",
    "    # add column to low_data and high_data indicating low or high called ground state\n",
    "    low_data['Ground Protocol'] = 'Medium'\n",
    "    high_data['Ground Protocol'] = 'High'\n",
    "    # combine dataframe\n",
    "    data = pd.concat([low_data, high_data])\n",
    "\n",
    "    # concatenate the protocol and ground state columns to make a new column\n",
    "    data['Response Protocol'] = data['Protocol'].astype(str)\n",
    "    # if protocol is 'High' or 'Low' then set it to 'H' or 'L' \n",
    "    data.loc[data['Response Protocol'] == 'High', 'Protocol'] = 'High'\n",
    "    data.loc[data['Response Protocol'] == 'Medium', 'Protocol'] = 'Medium'\n",
    "    data.loc[data['Response Protocol'] == 'Low', 'Protocol'] = 'Low'\n",
    "    return data\n",
    "\n"
   ],
   "outputs": []
  },
  {
   "cell_type": "markdown",
   "source": [],
   "metadata": {
    "collapsed": false
   },
   "id": "53f652b152d9599f"
  },
  {
   "cell_type": "markdown",
   "source": [],
   "metadata": {
    "collapsed": false
   },
   "id": "e4153b332bb6893a"
  },
  {
   "cell_type": "code",
   "execution_count": 4,
   "id": "8f5c78879c11d346",
   "metadata": {
    "ExecuteTime": {
     "end_time": "2023-11-17T21:40:50.173684798Z",
     "start_time": "2023-11-17T21:40:48.375200476Z"
    }
   },
   "source": [
    "\n",
    "october_absolute_path = Path('/mnt/data/madness_data/october_absolute/')\n",
    "october_absolute_kain_path = Path('/mnt/data/madness_data/october_absolute_kain/')\n",
    "november_absolute_path = Path('/mnt/data/madness_data/november_absolute_kain/')\n",
    "fd_compare2 = Path('/mnt/data/madness_data/fd_compare2/')\n",
    "fd_compare_data = process_data(fd_compare2)\n",
    "absolute_kain_data = process_data(october_absolute_kain_path)\n",
    "absolute_data = process_data(october_absolute_path)\n",
    "november_absolute_data = process_data(november_absolute_path)\n",
    "\n",
    "paper_path = Path('/home/adrianhurtado/projects/writing/thesis2023/PresentationMaterials')\n",
    "\n"
   ],
   "outputs": []
  },
  {
   "cell_type": "code",
   "execution_count": 5,
   "source": [
    "november_absolute_data"
   ],
   "metadata": {
    "collapsed": false,
    "ExecuteTime": {
     "end_time": "2023-11-17T21:40:50.278569214Z",
     "start_time": "2023-11-17T21:40:50.184819157Z"
    }
   },
   "id": "897dfe03c6760589",
   "outputs": []
  },
  {
   "cell_type": "code",
   "execution_count": 22,
   "id": "94d4e1cdca5dbc2a",
   "metadata": {
    "ExecuteTime": {
     "end_time": "2023-11-17T21:45:00.183902456Z",
     "start_time": "2023-11-17T21:44:57.964985054Z"
    }
   },
   "source": [
    "data = fd_compare_data\n",
    "data = absolute_data\n",
    "data = absolute_kain_data\n",
    "data = november_absolute_data\n",
    "\n",
    "sns.set_context(\"paper\", font_scale=1.50)\n",
    "sns.set_style(\"darkgrid\")\n",
    "sns.set_palette(\"colorblind\")\n",
    "style = 'Molecule'\n",
    "hue = 'Response Protocol'\n",
    "s = 200\n",
    "x = 'dz'\n",
    "x = 'Absolute Residual Z'\n",
    "g = sns.relplot(x=x, y='Absolute Percent Error', data=data, style=style, hue=hue, s=s,\n",
    "                col='Ground Protocol', )\n",
    "# set the subplot titles to Ground Protocol = H or M\n",
    "g.set_titles(col_template=\"Ground Protocol : {col_name}\")\n",
    "# increase the font of the legend\n",
    "\n",
    "for ax in g.axes.flat:\n",
    "    #ax.plot([1e-6,1e-2],[1e-6,1e-2], ls='--', color='black')\n",
    "    ax.set_xscale('log')\n",
    "    ax.set_yscale('log')\n",
    "    # write an annotation indicating the green line is .005\n",
    "    # only on first left plot\n",
    "    if ax == g.axes.flat[0]:\n",
    "        ax.axhline(.02, ls='--', color='orange')\n",
    "        ax.annotate('0.02%', xy=(1e-4, .02), xytext=(1e-4, .022))\n",
    "    else:\n",
    "        ax.axhline(.005, ls='--', color='green')\n",
    "        ax.annotate('0.005%', xy=(1e-4, .005), xytext=(1e-4, .006))\n",
    "        \n",
    "# Draw a y=x line on each plot\n",
    "for ax in g.axes.flat:\n",
    "    if x=='dz':\n",
    "        ax.set_xlabel(r'$\\Delta \\rho_{z}(x)$')\n",
    "    else:\n",
    "        ax.set_xlabel('||f(x)-x||')\n",
    "    # y label is percent error of static polarizability\n",
    "    ax.set_title('{}'.format(ax.get_title()))\n",
    "\n",
    "g.fig.gca().invert_xaxis()\n",
    "# Change the marker size in the legend to be larger and more legible\n",
    "for lh in g.legend.legend_handles: \n",
    "    lh._sizes = [100]\n",
    "# save a high res version\n",
    "g.savefig(paper_path.joinpath('mra_convergence.svg'),dpi=600)\n"
   ],
   "outputs": []
  },
  {
   "cell_type": "code",
   "execution_count": 20,
   "source": [
    "data = fd_compare_data\n",
    "data = absolute_data\n",
    "data = november_absolute_data\n",
    "\n",
    "sns.set_context(\"paper\", font_scale=1.50)\n",
    "sns.set_style(\"darkgrid\")\n",
    "sns.set_palette(\"colorblind\")\n",
    "style = 'Molecule'\n",
    "hue = 'Response Protocol'\n",
    "s = 200\n",
    "x = 'dz'\n",
    "g = sns.relplot(x=x, y='Percent Error', data=data, style=style, hue=hue, s=s,\n",
    "                col='Ground Protocol')\n",
    "# set the subplot titles to Ground Protocol = H or M\n",
    "g.set_titles(col_template=\"Ground Protocol : {col_name}\")\n",
    "# increase the font of the legend\n",
    "\n",
    "for ax in g.axes.flat:\n",
    "    ax.set_xscale('log')\n",
    "    ax.set_yscale('symlog', linthresh=1e-4)\n",
    "    # write an annotation indicating the green line is .005\n",
    "    # only on first left plot\n",
    "    if ax == g.axes.flat[0]:\n",
    "        ax.axhline(.05, ls='--', color='orange')\n",
    "        ax.axhline(-.05, ls='--', color='orange')\n",
    "        ax.annotate('0.02%', xy=(1e-4, .02), xytext=(1e-4, .022))\n",
    "        ax.annotate('-0.02%', xy=(1e-4, -.02), xytext=(1e-4, -.022))\n",
    "    else:\n",
    "        ax.axhline(.005, ls='--', color='green')\n",
    "        ax.axhline(-.005, ls='--', color='green')\n",
    "        ax.annotate('0.005%', xy=(1e-4, .005), xytext=(1e-4, .006))\n",
    "        ax.annotate('-0.005%', xy=(1e-4, -.005), xytext=(1e-4, -.006))\n",
    "\n",
    "# Draw a y=x line on each plot\n",
    "for ax in g.axes.flat:\n",
    "    ax.set_xlabel(r'$\\Delta \\rho_{z}(x)$')\n",
    "    # y label is percent error of static polarizability\n",
    "\n",
    "g.fig.gca().invert_xaxis()\n",
    "# Change the marker size in the legend to be larger and more legible\n",
    "for lh in g.legend.legend_handles:\n",
    "    lh._sizes = [100]\n"
   ],
   "metadata": {
    "collapsed": false,
    "ExecuteTime": {
     "end_time": "2023-11-17T21:44:06.612360725Z",
     "start_time": "2023-11-17T21:44:05.271574788Z"
    }
   },
   "id": "d884fe171bdf3977",
   "outputs": []
  },
  {
   "cell_type": "code",
   "execution_count": 8,
   "source": [
    "MadnessResponse('NaCl','hf','dipole',november_absolute_path.joinpath('low-low')).plot_residuals()"
   ],
   "metadata": {
    "collapsed": false,
    "ExecuteTime": {
     "end_time": "2023-11-17T21:40:54.141934708Z",
     "start_time": "2023-11-17T21:40:53.894039985Z"
    }
   },
   "id": "c5a379f8291a3e65",
   "outputs": []
  },
  {
   "cell_type": "code",
   "execution_count": 8,
   "source": [],
   "metadata": {
    "collapsed": false,
    "ExecuteTime": {
     "end_time": "2023-11-17T21:40:54.142123341Z",
     "start_time": "2023-11-17T21:40:54.130007812Z"
    }
   },
   "id": "63fcb07efbde96d",
   "outputs": []
  },
  {
   "cell_type": "markdown",
   "source": [],
   "metadata": {
    "collapsed": false
   },
   "id": "fb7e546660b3ec45"
  },
  {
   "cell_type": "code",
   "execution_count": 8,
   "source": [],
   "metadata": {
    "collapsed": false,
    "ExecuteTime": {
     "end_time": "2023-11-17T21:40:54.142236935Z",
     "start_time": "2023-11-17T21:40:54.131513242Z"
    }
   },
   "id": "73d141195488fcec",
   "outputs": []
  },
  {
   "cell_type": "code",
   "execution_count": 9,
   "source": [
    "data.query('Protocol==\"Medium\" and Molecule==\"NaCl\"')\n",
    "     \n",
    " "
   ],
   "metadata": {
    "collapsed": false,
    "ExecuteTime": {
     "end_time": "2023-11-17T21:40:54.188512233Z",
     "start_time": "2023-11-17T21:40:54.140744256Z"
    }
   },
   "id": "4250e85a017f754c",
   "outputs": []
  },
  {
   "cell_type": "code",
   "execution_count": 19,
   "id": "aee57b9b7c363705",
   "metadata": {
    "ExecuteTime": {
     "end_time": "2023-11-17T21:43:20.765358390Z",
     "start_time": "2023-11-17T21:43:19.495125223Z"
    }
   },
   "source": [
    "\n",
    "\n",
    "sns.set_context(\"talk\", font_scale=1)\n",
    "sns.set_style(\"whitegrid\")\n",
    "sns.set_palette(\"colorblind\")\n",
    "style = 'Molecule'\n",
    "hue = 'Protocol'\n",
    "s = 200\n",
    "x = 'dz'\n",
    "y = 'Absolute Residual Z'\n",
    "\n",
    "g = sns.relplot(x=y, y=x, data=data, hue=hue,style=style, s=s,\n",
    "                col='Ground Protocol')\n",
    "\n",
    "for ax in g.axes.flat:\n",
    "    ax.set_yscale('log')\n",
    "    ax.set_xscale('log')\n",
    "# Change the marker size in the legend to be larger and more legible\n",
    "for lh in g.legend.legend_handles:\n",
    "    lh._sizes = [100]\n",
    "    \n",
    "# draw a y=x line on each plot\n",
    "\n",
    "for ax in g.axes.flat:\n",
    "    ax.plot([1e-6,1e-2],[1e-6,1e-2], ls='--', color='black')\n",
    "    ax.set_xlabel('||f(x)-x||')\n",
    "    ax.set_ylabel(r'$\\Delta \\rho_{z}(x)$')\n",
    "    ax.set_title('{}'.format(ax.get_title()))\n",
    "\n",
    "g.fig.gca().invert_xaxis()\n",
    "g.fig.savefig(paper_path.joinpath('mra_error_control.svg'),dpi=600)\n",
    "\n"
   ],
   "outputs": []
  },
  {
   "cell_type": "markdown",
   "source": [],
   "metadata": {
    "collapsed": false
   },
   "id": "21fde9aa015bf1a1"
  },
  {
   "cell_type": "markdown",
   "source": [],
   "metadata": {
    "collapsed": false
   },
   "id": "6242f059d42a9f5f"
  },
  {
   "cell_type": "code",
   "execution_count": 11,
   "id": "20a41105efb553f5",
   "metadata": {
    "ExecuteTime": {
     "end_time": "2023-11-17T21:40:55.965898704Z",
     "start_time": "2023-11-17T21:40:55.963886219Z"
    }
   },
   "source": [
    "\n",
    "mols=data.Molecule.unique().tolist()\n"
   ],
   "outputs": []
  },
  {
   "cell_type": "code",
   "execution_count": 12,
   "source": [
    "from DataAnalysisClass import *\n",
    "single = ['aug-cc-pVDZ', 'aug-cc-pVTZ', 'aug-cc-pVQZ', 'aug-cc-pV5Z', 'aug-cc-pV6Z']\n",
    "single_polarized = ['aug-cc-pCVDZ', 'aug-cc-pCVTZ', 'aug-cc-pCVQZ']\n",
    "double = ['d-aug-cc-pVDZ', 'd-aug-cc-pVTZ', 'd-aug-cc-pVQZ', 'd-aug-cc-pV5Z', 'd-aug-cc-pV6Z']\n",
    "double_polarized = ['d-aug-cc-pCVDZ', 'd-aug-cc-pCVTZ', 'd-aug-cc-pCVQZ']\n",
    "all_basis_sets = single + single_polarized+ double  + double_polarized\n"
   ],
   "metadata": {
    "collapsed": false,
    "ExecuteTime": {
     "end_time": "2023-11-17T21:40:55.975900409Z",
     "start_time": "2023-11-17T21:40:55.967517138Z"
    }
   },
   "id": "3df8460070abfef1",
   "outputs": []
  },
  {
   "cell_type": "code",
   "execution_count": 13,
   "source": [
    "low_data=PolarizabilityData(mols,'hf','dipole',all_basis_sets,november_absolute_path.joinpath\n",
    "('low-low'),overwrite=False)\n",
    "high_data=PolarizabilityData(mols,'hf','dipole',all_basis_sets,november_absolute_path\n",
    "                                .joinpath\n",
    "('high-high'),overwrite=False)\n"
   ],
   "metadata": {
    "collapsed": false,
    "ExecuteTime": {
     "end_time": "2023-11-17T21:40:56.029180451Z",
     "start_time": "2023-11-17T21:40:55.974786693Z"
    }
   },
   "id": "8b29106dad3db736",
   "outputs": []
  },
  {
   "cell_type": "code",
   "execution_count": 14,
   "source": [
    "low_data.save_dfs()\n",
    "high_data.save_dfs()\n",
    "\n"
   ],
   "metadata": {
    "collapsed": false,
    "ExecuteTime": {
     "end_time": "2023-11-17T21:40:56.076438575Z",
     "start_time": "2023-11-17T21:40:56.009260276Z"
    }
   },
   "id": "8d03a0e13f030318",
   "outputs": []
  },
  {
   "cell_type": "code",
   "execution_count": 15,
   "source": [
    "\n",
    "low_z_data=create_z_data(low_data)\n",
    "# create Protocol column\n",
    "low_z_data['Protocol']='Medium'\n",
    "high_z_data=create_z_data(high_data)\n",
    "high_z_data['Protocol']='High'\n",
    "z_data=pd.concat([low_z_data,high_z_data])\n",
    "z_data\n",
    "\n",
    "\n",
    "\n"
   ],
   "metadata": {
    "collapsed": false,
    "ExecuteTime": {
     "end_time": "2023-11-17T21:40:56.426703475Z",
     "start_time": "2023-11-17T21:40:56.056238604Z"
    }
   },
   "id": "115d7603ad6e8426",
   "outputs": []
  },
  {
   "cell_type": "code",
   "execution_count": 23,
   "source": [
    "\n",
    "z_abs_error_plot=compare_z_to_basis_set(z_data,y='Absolute Percent Error')\n",
    "#z_error_plot=compare_z_to_basis_set(z_data,y='Percent Error')\n",
    "z_abs_error_plot.fig.savefig(paper_path.joinpath('z_abs_error.svg'),dpi=600)\n"
   ],
   "metadata": {
    "collapsed": false,
    "ExecuteTime": {
     "end_time": "2023-11-17T21:45:50.183842833Z",
     "start_time": "2023-11-17T21:45:49.447238082Z"
    }
   },
   "id": "30cad3b4c090c6f9",
   "outputs": []
  },
  {
   "cell_type": "code",
   "execution_count": 17,
   "source": [
    "z_data.query('basis==\"MRA\"').sort_values('molecule')\n"
   ],
   "metadata": {
    "collapsed": false,
    "ExecuteTime": {
     "end_time": "2023-11-17T21:40:57.209192954Z",
     "start_time": "2023-11-17T21:40:57.201497585Z"
    }
   },
   "id": "3c930124aa58ae2f",
   "outputs": []
  },
  {
   "cell_type": "code",
   "execution_count": 17,
   "source": [],
   "metadata": {
    "collapsed": false,
    "ExecuteTime": {
     "end_time": "2023-11-17T21:40:57.209322088Z",
     "start_time": "2023-11-17T21:40:57.203088848Z"
    }
   },
   "id": "68efe216869e19ae",
   "outputs": []
  },
  {
   "cell_type": "code",
   "execution_count": 17,
   "source": [],
   "metadata": {
    "collapsed": false,
    "ExecuteTime": {
     "end_time": "2023-11-17T21:40:57.209367797Z",
     "start_time": "2023-11-17T21:40:57.205815900Z"
    }
   },
   "id": "86c4b4ae853ac4d4",
   "outputs": []
  }
 ],
 "metadata": {
  "kernelspec": {
   "display_name": "Python 3 (ipykernel)",
   "language": "python",
   "name": "python3"
  },
  "language_info": {
   "codemirror_mode": {
    "name": "ipython",
    "version": 3
   },
   "file_extension": ".py",
   "mimetype": "text/x-python",
   "name": "python",
   "nbconvert_exporter": "python",
   "pygments_lexer": "ipython3",
   "version": "3.10.10"
  }
 },
 "nbformat": 4,
 "nbformat_minor": 5
}
