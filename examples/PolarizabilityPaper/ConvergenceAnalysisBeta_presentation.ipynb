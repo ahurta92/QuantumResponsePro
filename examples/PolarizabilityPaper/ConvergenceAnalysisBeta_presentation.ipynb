{
 "cells": [
  {
   "cell_type": "code",
   "id": "initial_id",
   "metadata": {
    "collapsed": true,
    "ExecuteTime": {
     "end_time": "2024-05-20T20:30:34.395994Z",
     "start_time": "2024-05-20T20:30:33.463026Z"
    }
   },
   "source": [
    "\n",
    "\n",
    "from ConvergenceAnalysis import *\n"
   ],
   "execution_count": 1,
   "outputs": []
  },
  {
   "cell_type": "code",
   "id": "99ed865a9faae4ca",
   "metadata": {
    "ExecuteTime": {
     "end_time": "2024-05-20T20:30:34.402138Z",
     "start_time": "2024-05-20T20:30:34.397196Z"
    }
   },
   "source": [
    "fd_beta_data\n",
    "data_path=Path('/home/ahurta92/data')\n",
    "# rename System to Molecule\n",
    "fd_beta_data.rename(columns={'System': 'Molecule'}, inplace=True)\n",
    "mols = fd_beta_data.Molecule.unique().tolist()\n",
    "# remove KF \n",
    "mols.remove('KF')\n",
    "mols.remove('LiBr')\n"
   ],
   "execution_count": 2,
   "outputs": []
  },
  {
   "cell_type": "code",
   "id": "2da73d104c40b0d0",
   "metadata": {
    "ExecuteTime": {
     "end_time": "2024-05-20T20:30:34.412850Z",
     "start_time": "2024-05-20T20:30:34.403275Z"
    }
   },
   "source": [
    "fd_beta_data"
   ],
   "execution_count": 3,
   "outputs": []
  },
  {
   "cell_type": "code",
   "id": "a06f04a3268cddf",
   "metadata": {
    "ExecuteTime": {
     "end_time": "2024-05-20T20:30:34.421245Z",
     "start_time": "2024-05-20T20:30:34.413854Z"
    }
   },
   "source": [
    "# query molecule LiH \n",
    "fd_beta_data.query('Molecule == \"LiH\"')"
   ],
   "execution_count": 4,
   "outputs": []
  },
  {
   "cell_type": "code",
   "id": "a504285993f94b65",
   "metadata": {
    "ExecuteTime": {
     "end_time": "2024-05-20T20:30:34.878273Z",
     "start_time": "2024-05-20T20:30:34.873025Z"
    }
   },
   "source": [
    "from DataAnalysisClass import *\n",
    "beta_convergence_path=data_path/ \"october_beta_absolute_kain\"\n",
    "paper_path = Path('beta_convergence_figures')\n",
    "# mkdir for the paper path\n",
    "paper_path.mkdir(exist_ok=True)\n",
    "print(beta_convergence_path)\n",
    "\n"
   ],
   "execution_count": 5,
   "outputs": []
  },
  {
   "cell_type": "markdown",
   "source": [],
   "metadata": {
    "collapsed": false
   },
   "id": "26b3109e145c3e93"
  },
  {
   "cell_type": "code",
   "id": "49a40d392031dbd7",
   "metadata": {
    "ExecuteTime": {
     "end_time": "2024-05-20T20:30:36.216799Z",
     "start_time": "2024-05-20T20:30:36.211586Z"
    }
   },
   "source": [
    "\n",
    "single = ['aug-cc-pVDZ', 'aug-cc-pVTZ', 'aug-cc-pVQZ', 'aug-cc-pV5Z', 'aug-cc-pV6Z']\n",
    "single_polarized = ['aug-cc-pCVDZ', 'aug-cc-pCVTZ', 'aug-cc-pCVQZ']\n",
    "double = ['d-aug-cc-pVDZ', 'd-aug-cc-pVTZ', 'd-aug-cc-pVQZ', 'd-aug-cc-pV5Z', 'd-aug-cc-pV6Z']\n",
    "double_polarized = ['d-aug-cc-pCVDZ', 'd-aug-cc-pCVTZ', 'd-aug-cc-pCVQZ']\n",
    "all_basis_sets = single + single_polarized + double + double_polarized\n"
   ],
   "execution_count": 6,
   "outputs": []
  },
  {
   "cell_type": "code",
   "source": [
    "low_q_data = QuadraticDatabase(mols, all_basis_sets, 'hf', 'dipole', [0], beta_convergence_path\n",
    "                               .joinpath('low-low'), True)\n",
    "high_q_data = QuadraticDatabase(mols, all_basis_sets, 'hf', 'dipole', [0],\n",
    "                                beta_convergence_path\n",
    "                                .joinpath('high-high'), True)\n",
    "# save data"
   ],
   "metadata": {
    "collapsed": false,
    "ExecuteTime": {
     "end_time": "2024-05-20T20:30:38.377037Z",
     "start_time": "2024-05-20T20:30:37.295846Z"
    }
   },
   "id": "38b2607e73d927be",
   "execution_count": 7,
   "outputs": []
  },
  {
   "cell_type": "code",
   "source": [
    "low_q_data.save_dfs()\n",
    "high_q_data.save_dfs()\n"
   ],
   "metadata": {
    "collapsed": false,
    "ExecuteTime": {
     "end_time": "2024-05-20T20:30:27.474639Z",
     "start_time": "2024-05-20T20:30:27.456971Z"
    }
   },
   "id": "42c8851b375a30a4",
   "execution_count": 31,
   "outputs": []
  },
  {
   "cell_type": "code",
   "source": "low_q_data.beta_hrs_df.query('basis==\"aug-cc-pVDZ\" & Afreq==0.0')",
   "metadata": {
    "collapsed": false,
    "ExecuteTime": {
     "end_time": "2024-05-20T20:11:51.386186Z",
     "start_time": "2024-05-20T20:11:51.376452Z"
    }
   },
   "id": "4c746c51b977870",
   "execution_count": 14,
   "outputs": []
  },
  {
   "cell_type": "code",
   "source": [
    "sns plotting context to talk\n",
    "sns.set_context('talk')"
   ],
   "metadata": {
    "collapsed": false,
    "ExecuteTime": {
     "end_time": "2024-05-20T20:09:34.900830Z",
     "start_time": "2024-05-20T20:09:34.897618Z"
    }
   },
   "id": "a009e2f541674eb0",
   "execution_count": 9,
   "outputs": []
  },
  {
   "cell_type": "code",
   "source": [
    "\n",
    "# get the percent error relative to the FD datal\n",
    "beta_data = low_q_data.q_df.copy()\n",
    "beta_data = high_q_data.q_df.copy()\n",
    "\n",
    "low_z_data = create_z_beta_data(low_q_data.q_df)\n",
    "# add column called MRA-LOW\n",
    "low_z_data['Protocol'] = 'Medium'\n",
    "high_z_data = create_z_beta_data(high_q_data.q_df)\n",
    "# add column called MRA-HIGH\n",
    "high_z_data['Protocol'] = 'High'\n",
    "# concatenate the two dataframes\n",
    "z_data = pd.concat([low_z_data, high_z_data], axis=0)\n",
    "\n",
    "z_data\n"
   ],
   "metadata": {
    "collapsed": false,
    "ExecuteTime": {
     "end_time": "2024-05-20T20:09:35.557273Z",
     "start_time": "2024-05-20T20:09:35.543966Z"
    }
   },
   "id": "b0d5c61df0cd4372",
   "execution_count": 10,
   "outputs": []
  },
  {
   "cell_type": "code",
   "source": [
    "\n",
    "beta_z_plot = compare_z_beta_to_basis_set(z_data, 'Absolute Percent Error')\n",
    "# save the plot\n",
    "beta_z_plot.savefig(paper_path.joinpath('beta_z_plot_2.svg'), dpi=600)\n"
   ],
   "metadata": {
    "collapsed": false,
    "ExecuteTime": {
     "end_time": "2024-05-20T19:59:38.046930Z",
     "start_time": "2024-05-20T19:59:38.032477Z"
    }
   },
   "id": "35bdf653f9242650",
   "execution_count": 11,
   "outputs": []
  },
  {
   "cell_type": "code",
   "source": [
    "z_data.query('basis==\"MRA\"').sort_values('molecule')"
   ],
   "metadata": {
    "collapsed": false,
    "ExecuteTime": {
     "end_time": "2024-05-20T19:59:38.789147Z",
     "start_time": "2024-05-20T19:59:38.774855Z"
    }
   },
   "id": "83739772c8b99eb7",
   "execution_count": 12,
   "outputs": []
  },
  {
   "cell_type": "code",
   "source": [
    "\n",
    "\n",
    "\n",
    "low_data = PolarizabilityData(mols, 'hf', 'dipole', all_basis_sets,\n",
    "                              october_absolute_kain_path.joinpath\n",
    "                              ('low-low'), overwrite=False)\n",
    "high_data = PolarizabilityData(mols, 'hf', 'dipole', all_basis_sets, october_absolute_kain_path\n",
    "                               .joinpath('high-high'), overwrite=False)\n",
    "\n",
    "low_data.save_dfs()\n",
    "high_data.save_dfs()\n",
    "low_data.polar_data.query('omega==0')\n",
    "low_data.iso_data.query('omega==0')\n"
   ],
   "metadata": {
    "collapsed": false,
    "ExecuteTime": {
     "end_time": "2024-05-20T19:59:39.323496Z",
     "start_time": "2024-05-20T19:59:39.307173Z"
    }
   },
   "id": "e16f1f08f0be73af",
   "execution_count": 13,
   "outputs": []
  },
  {
   "cell_type": "code",
   "source": [
    "low_z_data = create_z_data(low_data, 'two')\n",
    "# create Protocol column\n",
    "low_z_data['Protocol'] = 'Medium'\n",
    "high_z_data = create_z_data(high_data, 'two')\n",
    "high_z_data['Protocol'] = 'High'\n",
    "z_data = pd.concat([low_z_data, high_z_data])\n",
    "z_data\n",
    "# remove HeNe\n",
    "z_data = z_data.query('molecule!=\"HeNe\"')\n",
    "\n"
   ],
   "metadata": {
    "collapsed": false,
    "ExecuteTime": {
     "end_time": "2024-05-20T19:59:40.141466Z",
     "start_time": "2024-05-20T19:59:40.032024Z"
    }
   },
   "id": "ca153c57b7b62e32",
   "execution_count": 14,
   "outputs": []
  },
  {
   "cell_type": "code",
   "source": [
    "z_abs_error_plot = compare_z_to_basis_set(z_data, y='Absolute Percent Error')\n",
    "z_abs_error_plot.savefig(paper_path.joinpath('z_abs_error_plot_2.svg'), dpi=600)\n"
   ],
   "metadata": {
    "collapsed": false,
    "ExecuteTime": {
     "end_time": "2024-05-20T19:59:40.780097Z",
     "start_time": "2024-05-20T19:59:40.765253Z"
    }
   },
   "id": "fcf3dc94d7a413e8",
   "execution_count": 15,
   "outputs": []
  },
  {
   "cell_type": "code",
   "execution_count": 15,
   "source": [],
   "metadata": {
    "collapsed": false,
    "ExecuteTime": {
     "end_time": "2023-11-02T13:49:32.548929570Z",
     "start_time": "2023-11-02T13:49:32.546887045Z"
    }
   },
   "id": "e04690bec52e94d4",
   "outputs": []
  },
  {
   "cell_type": "code",
   "execution_count": 15,
   "source": [
    "low_data.iso_data.query('omega==0')\n",
    "# grab the basis set data only \n",
    "basis_data = low_data.iso_data.query('omega==0 and basis!=\"MRA\"').copy()\n",
    "# add a column for the MRA data for each molecule by mapping based on molecule\n",
    "basis_data['alpha(MRA)'] = basis_data['molecule'].map(low_data.iso_data.query('omega==0 and '\n",
    "                                                                              'basis==\"MRA\"').set_index\n",
    "                                                      ('molecule')['alpha'].to_dict())\n",
    "basis_data['gamma(MRA)'] = basis_data['molecule'].map(low_data.iso_data.query('omega==0 and '\n",
    "                                                                              'basis==\"MRA\"').set_index\n",
    "                                                      ('molecule')['gamma'].to_dict())\n",
    "#basis_data\n",
    "# compute the percent error in alpha and gamma\n",
    "basis_data['alpha error'] = 100 * (basis_data['alpha'] - basis_data['alpha(MRA)']) / basis_data[\n",
    "    'alpha(MRA)']\n",
    "basis_data['gamma error'] = 100 * (basis_data['gamma'] - basis_data['gamma(MRA)']) / basis_data[\n",
    "    'gamma(MRA)']\n"
   ],
   "metadata": {
    "collapsed": false,
    "ExecuteTime": {
     "end_time": "2023-11-15T16:19:16.744302525Z",
     "start_time": "2023-11-15T16:19:16.703697091Z"
    }
   },
   "id": "66a5f683fba13946",
   "outputs": []
  },
  {
   "cell_type": "code",
   "execution_count": 16,
   "source": [
    "basis_data = make_detailed_df(basis_data)\n",
    "basis_data\n"
   ],
   "metadata": {
    "collapsed": false,
    "ExecuteTime": {
     "end_time": "2023-11-15T16:19:17.960370771Z",
     "start_time": "2023-11-15T16:19:17.903625103Z"
    }
   },
   "id": "dd4cb455c5d1f284",
   "outputs": []
  },
  {
   "cell_type": "code",
   "execution_count": 17,
   "source": [
    "            \n",
    "        \n"
   ],
   "metadata": {
    "collapsed": false,
    "ExecuteTime": {
     "end_time": "2023-11-15T16:20:06.957687952Z",
     "start_time": "2023-11-15T16:20:06.879012680Z"
    }
   },
   "id": "e2fa165013f33171",
   "outputs": []
  },
  {
   "cell_type": "code",
   "execution_count": 18,
   "source": [
    "low_data.iso_data.query('omega==0')\n",
    "# grab the basis set data only \n",
    "basis_data = low_data.iso_data.query('omega==0 and basis!=\"MRA\"').copy()\n",
    "# add a column for the MRA data for each molecule by mapping based on molecule\n",
    "basis_data['alpha(MRA)'] = basis_data['molecule'].map(low_data.iso_data.query('omega==0 and '\n",
    "                                                                              'basis==\"MRA\"').set_index\n",
    "                                                      ('molecule')['alpha'].to_dict())\n",
    "basis_data['gamma(MRA)'] = basis_data['molecule'].map(low_data.iso_data.query('omega==0 and '\n",
    "                                                                              'basis==\"MRA\"').set_index\n",
    "                                                      ('molecule')['gamma'].to_dict())\n",
    "#basis_data\n",
    "# compute the percent error in alpha and gamma\n",
    "basis_data['alpha error'] = 100 * (basis_data['alpha'] - basis_data['alpha(MRA)']) / basis_data[\n",
    "    'alpha(MRA)']\n",
    "basis_data['gamma error'] = 100 * (basis_data['gamma'] - basis_data['gamma(MRA)']) / basis_data[\n",
    "    'gamma(MRA)']\n",
    "\n"
   ],
   "metadata": {
    "collapsed": false,
    "ExecuteTime": {
     "end_time": "2023-11-15T16:21:55.849317322Z",
     "start_time": "2023-11-15T16:21:55.802674045Z"
    }
   },
   "id": "f763908f41bd49bd",
   "outputs": []
  },
  {
   "cell_type": "code",
   "execution_count": 24,
   "source": [
    "basis_data = high_q_data.beta_hrs_df.query('basis!=\"MRA\" & Afreq==0.0').copy()\n",
    "basis_data['beta(MRA)'] = basis_data['molecule'].map(low_q_data.beta_hrs_df.query('basis==\"MRA\" & '\n",
    "                                                                                  'Afreq==0.0')\n",
    "                                                     .set_index('molecule')['Beta'].to_dict())\n",
    "basis_data['betaE'] = 100 * (basis_data['Beta'] - basis_data['beta(MRA)']) / basis_data['beta(MRA)']\n",
    "basis_data = make_detailed_df(basis_data)\n",
    "basis_data"
   ],
   "metadata": {
    "collapsed": false,
    "ExecuteTime": {
     "end_time": "2023-11-15T16:26:53.017427442Z",
     "start_time": "2023-11-15T16:26:52.925126856Z"
    }
   },
   "id": "61130501050af919",
   "outputs": []
  },
  {
   "cell_type": "code",
   "execution_count": 28,
   "source": [
    "from matplotlib.ticker import ScalarFormatter, FormatStrFormatter\n",
    "\n",
    "aspect_ratio = .5\n",
    "Type_map = {\"aug-cc-pVnZ\": \"sn\", \"aug-cc-pCVnZ\": \"sCn\", \"d-aug-cc-pVnZ\": \"dn\",\n",
    "            \"d-aug-cc-pCVnZ\": \"dCn\"}\n",
    "vlevel = ['D', 'T', 'Q', '5']\n",
    "\n",
    "plot_data = basis_data.query('valence.isin(@vlevel) and Afreq==0').copy()\n",
    "with sns.plotting_context('paper', font_scale=1.00):\n",
    "    g = sns.catplot(col='valence', x='Type', y='betaE', hue='mol_system',\n",
    "                    data=plot_data, kind='strip', dodge=True, jitter=True,\n",
    "                    s=15, palette='colorblind', height=4, aspect=aspect_ratio, sharey=True,\n",
    "                    alpha=0.5,\n",
    "                    sharex=False)\n",
    "    # adjust the title to read D=$\\zeta$D, T=$\\zeta$T, etc.\n",
    "    g.set_titles('{col_name}Z')\n",
    "    g.set_xlabels('')\n",
    "\n",
    "    g.set_xticklabels([Type_map[label.get_text()] for label in g.axes.flat[0].get_xticklabels()])\n",
    "    v = 0\n",
    "    for ax in g.axes.flat:\n",
    "        # draw horizontal line at .05%\n",
    "        # get the valence level from the title\n",
    "        c = vlevel[v]\n",
    "        v += 1\n",
    "        print(c)\n",
    "        xl = ['aug', 'aug+core', 'd-aug', 'd-aug+core']\n",
    "        xl = ['s-n', 's-Cn', 'd-n', 'd-Cn']\n",
    "        xl = ['sn', 'sCn', 'dn', 'dCn']\n",
    "        ax.set_xticklabels(xl)\n",
    "\n",
    "        ax.set_yscale('symlog', linthresh=1e-1)\n",
    "        ax.axhline(y=.02, linestyle='--', color='orange')\n",
    "        ax.axhline(y=-.02, linestyle='--', color='orange')\n",
    "        # for the symlog scale to regular notation with no decimal places for the y axis\n",
    "        ax.yaxis.set_major_formatter(ScalarFormatter())\n",
    "        ax.yaxis.set_major_formatter(FormatStrFormatter('%2g'))\n",
    "\n",
    "        # make the y limits symmetrical for each plot using the max absolute value\n",
    "        max_lim = max(abs(ax.get_ylim()[0]), abs(ax.get_ylim()[1]))\n",
    "        ax.set_ylim(-30, 30)\n",
    "\n",
    "        ax.set_ylabel(r'$\\beta_{HRS}$ Error (%)')\n",
    "        # rotate the xlabels\n",
    "        for label in ax.get_xticklabels():\n",
    "            label.set_rotation(0)\n",
    "            #label.set_horizontalalignment('right')\n",
    "        # create vertical lines to separate basis sets\n",
    "        for i in range(1, len(plot_data.Type.unique())):\n",
    "            ax.axvline(i - .5, linestyle='-.', color='k', linewidth=.5, alpha=.8)\n",
    "        for i in range(1, 5):\n",
    "            ax.axvspan((i - 1) - .5, i - .5, 1e-3, facecolor=pal[i - 1], alpha=0.1)\n",
    "        # remove the legend title\n"
   ],
   "metadata": {
    "collapsed": false,
    "ExecuteTime": {
     "end_time": "2023-11-15T16:28:37.175034953Z",
     "start_time": "2023-11-15T16:28:35.766037557Z"
    }
   },
   "id": "72452134cd0ce7b4",
   "outputs": []
  },
  {
   "cell_type": "code",
   "execution_count": 30,
   "source": [
    "import glob\n",
    "\n",
    "beta_path = Path('/mnt/data/madness_data/august_no_symmetry')\n",
    "beta_mol = '/mnt/data/madness_data/august_no_symmetry/molecules/*.mol'\n",
    "\n",
    "# glob for .mol files in august molecules directory\n",
    "mols = glob.glob(beta_mol)\n",
    "# remove .mol extension\n",
    "mols = [mol.split('/')[-1].split('.')[0] for mol in mols]\n",
    "print(mols)\n"
   ],
   "metadata": {
    "collapsed": false,
    "ExecuteTime": {
     "end_time": "2023-11-15T16:38:56.960260769Z",
     "start_time": "2023-11-15T16:38:56.917126703Z"
    }
   },
   "id": "307d898a33065f33",
   "outputs": []
  },
  {
   "cell_type": "code",
   "execution_count": 32,
   "source": [
    "\n",
    "beta_path = Path('/mnt/data/madness_data/august_no_symmetry')\n",
    "quad_data = QuadraticDatabase(mols, all_basis_sets, 'hf', 'dipole', [0], beta_path, False)\n",
    "quad_data.save_dfs()\n",
    "# save data\n"
   ],
   "metadata": {
    "collapsed": false,
    "ExecuteTime": {
     "end_time": "2023-11-15T16:47:14.760351249Z",
     "start_time": "2023-11-15T16:44:55.434868867Z"
    }
   },
   "id": "ffe644494f6121f4",
   "outputs": []
  },
  {
   "cell_type": "code",
   "execution_count": null,
   "source": [],
   "metadata": {
    "collapsed": false
   },
   "id": "7f18d5bb0f85215",
   "outputs": []
  }
 ],
 "metadata": {
  "kernelspec": {
   "display_name": "Python 3 (ipykernel)",
   "language": "python",
   "name": "python3"
  },
  "language_info": {
   "codemirror_mode": {
    "name": "ipython",
    "version": 3
   },
   "file_extension": ".py",
   "mimetype": "text/x-python",
   "name": "python",
   "nbconvert_exporter": "python",
   "pygments_lexer": "ipython3",
   "version": "3.10.10"
  }
 },
 "nbformat": 4,
 "nbformat_minor": 5
}
